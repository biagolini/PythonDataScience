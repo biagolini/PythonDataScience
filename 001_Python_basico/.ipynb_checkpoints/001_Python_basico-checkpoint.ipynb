{
 "cells": [
  {
   "cell_type": "markdown",
   "metadata": {},
   "source": [
    "# Tutorial: O básico do Python\n",
    "Este tutorial tem como objetivo apresentar uma ideia geral do Python."
   ]
  },
  {
   "cell_type": "markdown",
   "metadata": {},
   "source": [
    "## Atalhos do jupyter notebook\n",
    "Digite o valor numa célula.\n",
    "\n",
    "Precione ESC (de forma que a celular troque de cor do verde para azul).\n",
    "\n",
    "Precione m para a célula se tornar um Markdown ou y para se tornar Codigo.\n",
    "\n",
    "Prescine b para inserir nova célular abaixo, ou precione a para inserir nova célula acima.\n",
    "\n",
    "Para excluir uma célula, clique na célula de forma a ela estar na cor azul. Depois precione duas vezes o botão d.\n",
    "\n",
    "Para executar uma linha de comando, precione shift + enter\n"
   ]
  },
  {
   "cell_type": "markdown",
   "metadata": {},
   "source": [
    "## Tipos de variaveis"
   ]
  },
  {
   "cell_type": "markdown",
   "metadata": {},
   "source": [
    "As variáveis no Python são diferenciadas em grupos, sendo eles\n",
    "* inter = numeros inteiros\n",
    "* floot = numeros com casas decimais\n",
    "* str = texto\n",
    "* bool = Verdadeiro ou Falso"
   ]
  },
  {
   "cell_type": "markdown",
   "metadata": {},
   "source": [
    "Você pode conferir o tipo de uma variável pelos seguintes comandos"
   ]
  },
  {
   "cell_type": "code",
   "execution_count": 1,
   "metadata": {},
   "outputs": [
    {
     "data": {
      "text/plain": [
       "int"
      ]
     },
     "execution_count": 1,
     "metadata": {},
     "output_type": "execute_result"
    }
   ],
   "source": [
    "type(10)"
   ]
  },
  {
   "cell_type": "code",
   "execution_count": 2,
   "metadata": {},
   "outputs": [
    {
     "data": {
      "text/plain": [
       "float"
      ]
     },
     "execution_count": 2,
     "metadata": {},
     "output_type": "execute_result"
    }
   ],
   "source": [
    "type(10.5)"
   ]
  },
  {
   "cell_type": "code",
   "execution_count": 3,
   "metadata": {},
   "outputs": [
    {
     "data": {
      "text/plain": [
       "str"
      ]
     },
     "execution_count": 3,
     "metadata": {},
     "output_type": "execute_result"
    }
   ],
   "source": [
    "type(\"Texto\")"
   ]
  },
  {
   "cell_type": "code",
   "execution_count": 4,
   "metadata": {},
   "outputs": [
    {
     "data": {
      "text/plain": [
       "bool"
      ]
     },
     "execution_count": 4,
     "metadata": {},
     "output_type": "execute_result"
    }
   ],
   "source": [
    "type(True)"
   ]
  },
  {
   "cell_type": "markdown",
   "metadata": {},
   "source": [
    "Para converter uma variável em outra, basta usar as funções:"
   ]
  },
  {
   "cell_type": "code",
   "execution_count": 5,
   "metadata": {},
   "outputs": [
    {
     "data": {
      "text/plain": [
       "5.0"
      ]
     },
     "execution_count": 5,
     "metadata": {},
     "output_type": "execute_result"
    }
   ],
   "source": [
    "float(5) # vai transformar o 5 em numero com casa decimais"
   ]
  },
  {
   "cell_type": "code",
   "execution_count": 6,
   "metadata": {},
   "outputs": [
    {
     "data": {
      "text/plain": [
       "'100'"
      ]
     },
     "execution_count": 6,
     "metadata": {},
     "output_type": "execute_result"
    }
   ],
   "source": [
    "str(100) # vai transformar o numero 100 em um texto escrito '100'"
   ]
  },
  {
   "cell_type": "markdown",
   "metadata": {},
   "source": [
    "## Operações matemáticas básicas"
   ]
  },
  {
   "cell_type": "code",
   "execution_count": 7,
   "metadata": {},
   "outputs": [
    {
     "data": {
      "text/plain": [
       "5"
      ]
     },
     "execution_count": 7,
     "metadata": {},
     "output_type": "execute_result"
    }
   ],
   "source": [
    "3 + 2 # Soma"
   ]
  },
  {
   "cell_type": "code",
   "execution_count": 8,
   "metadata": {
    "scrolled": true
   },
   "outputs": [
    {
     "data": {
      "text/plain": [
       "1"
      ]
     },
     "execution_count": 8,
     "metadata": {},
     "output_type": "execute_result"
    }
   ],
   "source": [
    "3 - 2 # Subtração"
   ]
  },
  {
   "cell_type": "code",
   "execution_count": 9,
   "metadata": {},
   "outputs": [
    {
     "data": {
      "text/plain": [
       "1.0"
      ]
     },
     "execution_count": 9,
     "metadata": {},
     "output_type": "execute_result"
    }
   ],
   "source": [
    "3 / 3  # Divisão"
   ]
  },
  {
   "cell_type": "code",
   "execution_count": 10,
   "metadata": {},
   "outputs": [
    {
     "data": {
      "text/plain": [
       "0"
      ]
     },
     "execution_count": 10,
     "metadata": {},
     "output_type": "execute_result"
    }
   ],
   "source": [
    "1 // 5  # Pega o valor inteiro de uma divisão"
   ]
  },
  {
   "cell_type": "code",
   "execution_count": 11,
   "metadata": {},
   "outputs": [
    {
     "data": {
      "text/plain": [
       "0"
      ]
     },
     "execution_count": 11,
     "metadata": {},
     "output_type": "execute_result"
    }
   ],
   "source": [
    "3 // 4 # Pega o valor inteiro de uma divisão"
   ]
  },
  {
   "cell_type": "code",
   "execution_count": 12,
   "metadata": {
    "scrolled": true
   },
   "outputs": [
    {
     "data": {
      "text/plain": [
       "6"
      ]
     },
     "execution_count": 12,
     "metadata": {},
     "output_type": "execute_result"
    }
   ],
   "source": [
    "3 * 2 # Multiplicação "
   ]
  },
  {
   "cell_type": "code",
   "execution_count": 13,
   "metadata": {},
   "outputs": [
    {
     "data": {
      "text/plain": [
       "8"
      ]
     },
     "execution_count": 13,
     "metadata": {},
     "output_type": "execute_result"
    }
   ],
   "source": [
    "2 ** 3 # Potencia"
   ]
  },
  {
   "cell_type": "code",
   "execution_count": 14,
   "metadata": {},
   "outputs": [
    {
     "data": {
      "text/plain": [
       "8"
      ]
     },
     "execution_count": 14,
     "metadata": {},
     "output_type": "execute_result"
    }
   ],
   "source": [
    "pow(2,3) # Funcao que tambem calcula potencia"
   ]
  },
  {
   "cell_type": "code",
   "execution_count": 15,
   "metadata": {},
   "outputs": [
    {
     "data": {
      "text/plain": [
       "5"
      ]
     },
     "execution_count": 15,
     "metadata": {},
     "output_type": "execute_result"
    }
   ],
   "source": [
    "abs(-5) # abs(x) Módulos"
   ]
  },
  {
   "cell_type": "code",
   "execution_count": 16,
   "metadata": {},
   "outputs": [
    {
     "data": {
      "text/plain": [
       "3"
      ]
     },
     "execution_count": 16,
     "metadata": {},
     "output_type": "execute_result"
    }
   ],
   "source": [
    "max(1,2,3) #\tValor máximo observado nesse conjunto de dados"
   ]
  },
  {
   "cell_type": "code",
   "execution_count": 17,
   "metadata": {},
   "outputs": [
    {
     "data": {
      "text/plain": [
       "1"
      ]
     },
     "execution_count": 17,
     "metadata": {},
     "output_type": "execute_result"
    }
   ],
   "source": [
    "min(1,2,3) #\tValor mínimo observado nesse conjunto de dados "
   ]
  },
  {
   "cell_type": "code",
   "execution_count": 18,
   "metadata": {},
   "outputs": [
    {
     "data": {
      "text/plain": [
       "3.14"
      ]
     },
     "execution_count": 18,
     "metadata": {},
     "output_type": "execute_result"
    }
   ],
   "source": [
    "round(3.14159, 2) # Arredondamento "
   ]
  },
  {
   "cell_type": "code",
   "execution_count": 19,
   "metadata": {},
   "outputs": [
    {
     "data": {
      "text/plain": [
       "6"
      ]
     },
     "execution_count": 19,
     "metadata": {},
     "output_type": "execute_result"
    }
   ],
   "source": [
    "len([1,3,5,7,9,11]) # Quantos elementos tem nesse conjunto de dados"
   ]
  },
  {
   "cell_type": "code",
   "execution_count": 20,
   "metadata": {},
   "outputs": [
    {
     "data": {
      "text/plain": [
       "5"
      ]
     },
     "execution_count": 20,
     "metadata": {},
     "output_type": "execute_result"
    }
   ],
   "source": [
    "len(\"Texto\") # quantos caracteres tem nesse texto"
   ]
  },
  {
   "cell_type": "code",
   "execution_count": 21,
   "metadata": {},
   "outputs": [
    {
     "data": {
      "text/plain": [
       "(17, 12)"
      ]
     },
     "execution_count": 21,
     "metadata": {},
     "output_type": "execute_result"
    }
   ],
   "source": [
    "# OBS: no Python você pode fazer duas contas numa mesma linha de comando\n",
    "8+9,10+2"
   ]
  },
  {
   "cell_type": "markdown",
   "metadata": {},
   "source": [
    "Observações: no R potência é dada pelo codigo ^, mas no Python ^ é uma função de bitwise https://stackoverflow.com/questions/15193927/what-do-these-operators-mean"
   ]
  },
  {
   "cell_type": "markdown",
   "metadata": {},
   "source": [
    "## Objetos"
   ]
  },
  {
   "cell_type": "markdown",
   "metadata": {},
   "source": [
    "### Criar objeto"
   ]
  },
  {
   "cell_type": "code",
   "execution_count": 22,
   "metadata": {},
   "outputs": [],
   "source": [
    "objeto1 = 50"
   ]
  },
  {
   "cell_type": "code",
   "execution_count": 23,
   "metadata": {},
   "outputs": [
    {
     "data": {
      "text/plain": [
       "50"
      ]
     },
     "execution_count": 23,
     "metadata": {},
     "output_type": "execute_result"
    }
   ],
   "source": [
    "objeto1"
   ]
  },
  {
   "cell_type": "code",
   "execution_count": 24,
   "metadata": {},
   "outputs": [
    {
     "data": {
      "text/plain": [
       "21"
      ]
     },
     "execution_count": 24,
     "metadata": {},
     "output_type": "execute_result"
    }
   ],
   "source": [
    "objeto1 = 21\n",
    "objeto1"
   ]
  },
  {
   "cell_type": "markdown",
   "metadata": {},
   "source": [
    "Strings podem ser declaradas tanto com aspas simples como duplas, veja:"
   ]
  },
  {
   "cell_type": "code",
   "execution_count": 25,
   "metadata": {},
   "outputs": [
    {
     "data": {
      "text/plain": [
       "'TEXTO'"
      ]
     },
     "execution_count": 25,
     "metadata": {},
     "output_type": "execute_result"
    }
   ],
   "source": [
    "objeto2 = 'TEXTO'\n",
    "objeto2"
   ]
  },
  {
   "cell_type": "code",
   "execution_count": 26,
   "metadata": {},
   "outputs": [
    {
     "data": {
      "text/plain": [
       "'TEXTO'"
      ]
     },
     "execution_count": 26,
     "metadata": {},
     "output_type": "execute_result"
    }
   ],
   "source": [
    "objeto3 = \"TEXTO\"\n",
    "objeto3"
   ]
  },
  {
   "cell_type": "markdown",
   "metadata": {},
   "source": [
    "Se você quiser inserir uma string que contenha ' e/ou \", você pode usar o caracter de escape \\ para que o python não interprete o simbolo como fim da string"
   ]
  },
  {
   "cell_type": "code",
   "execution_count": 27,
   "metadata": {},
   "outputs": [
    {
     "name": "stdout",
     "output_type": "stream",
     "text": [
      "Mariane's boyfriend said: \"pizza is better than pasta\".\n"
     ]
    }
   ],
   "source": [
    "objeto3 = 'Mariane\\'s boyfriend said: \"pizza is better than pasta\".'\n",
    "print(objeto3)"
   ]
  },
  {
   "cell_type": "code",
   "execution_count": 28,
   "metadata": {},
   "outputs": [
    {
     "data": {
      "text/plain": [
       "'Mariane\\'s boyfriend said: \"pizza is better than pasta\".'"
      ]
     },
     "execution_count": 28,
     "metadata": {},
     "output_type": "execute_result"
    }
   ],
   "source": [
    "objeto3 # OBS: note que dentro do objeto o \\' foi guardado para manter a informação de que o ' não é o fim da string"
   ]
  },
  {
   "cell_type": "code",
   "execution_count": 29,
   "metadata": {},
   "outputs": [
    {
     "data": {
      "text/plain": [
       "'Texto de referencia'"
      ]
     },
     "execution_count": 29,
     "metadata": {},
     "output_type": "execute_result"
    }
   ],
   "source": [
    "objeto3 = \"Texto \"+ \"de \"+ \"referencia\" # Concatenação de textos\n",
    "objeto3"
   ]
  },
  {
   "cell_type": "code",
   "execution_count": 30,
   "metadata": {},
   "outputs": [
    {
     "data": {
      "text/plain": [
       "'Texto | Texto | Texto | Texto | Texto | '"
      ]
     },
     "execution_count": 30,
     "metadata": {},
     "output_type": "execute_result"
    }
   ],
   "source": [
    "objeto3 = \"Texto | \"*5 # Concatenação de textos por multiplicação\n",
    "objeto3"
   ]
  },
  {
   "cell_type": "code",
   "execution_count": 31,
   "metadata": {
    "scrolled": true
   },
   "outputs": [
    {
     "data": {
      "text/plain": [
       "'Texto | Texto | Texto | Texto | Texto'"
      ]
     },
     "execution_count": 31,
     "metadata": {},
     "output_type": "execute_result"
    }
   ],
   "source": [
    "objeto3 = \"Texto | \"*4 + \"Texto\" # Concatenação de textos por multiplicação\n",
    "objeto3"
   ]
  },
  {
   "cell_type": "markdown",
   "metadata": {},
   "source": [
    "Você pode usar a concatenação para combinar dados de uma variável numerica, com um texto para ser apresentado ao usuário:"
   ]
  },
  {
   "cell_type": "code",
   "execution_count": 32,
   "metadata": {},
   "outputs": [
    {
     "name": "stdout",
     "output_type": "stream",
     "text": [
      "O preço da gasolina é 5.5\n"
     ]
    }
   ],
   "source": [
    "precoGasolina = 5.5\n",
    "print(\"O preço da gasolina é \" + str(precoGasolina))"
   ]
  },
  {
   "cell_type": "markdown",
   "metadata": {},
   "source": [
    "Existe uma maneira mais simples de agrupar textos e numeros em strings, que é  uso do format"
   ]
  },
  {
   "cell_type": "code",
   "execution_count": 33,
   "metadata": {},
   "outputs": [
    {
     "name": "stdout",
     "output_type": "stream",
     "text": [
      "O preço da gasolina é 5.50 e o preço do alcool é 4.00 \n"
     ]
    }
   ],
   "source": [
    "precoAlcool = 4\n",
    "print(\"O preço da gasolina é {:.2f} e o preço do alcool é {:.2f} \".format(precoGasolina,precoAlcool))"
   ]
  },
  {
   "cell_type": "code",
   "execution_count": 34,
   "metadata": {},
   "outputs": [
    {
     "data": {
      "text/plain": [
       "'O preço da gasolina é 5.50 e o preço do alcool é 4.00'"
      ]
     },
     "execution_count": 34,
     "metadata": {},
     "output_type": "execute_result"
    }
   ],
   "source": [
    "f'O preço da gasolina é {precoGasolina:.2f} e o preço do alcool é {precoAlcool:.2f}'# Forma alternativa de fazer o mesmo format"
   ]
  },
  {
   "cell_type": "code",
   "execution_count": 35,
   "metadata": {},
   "outputs": [
    {
     "data": {
      "text/plain": [
       "[1, 1, 2, 5, 8, 50]"
      ]
     },
     "execution_count": 35,
     "metadata": {},
     "output_type": "execute_result"
    }
   ],
   "source": [
    "objeto4 = [1,1,2,5,8,50] # Lista de número\n",
    "objeto4"
   ]
  },
  {
   "cell_type": "code",
   "execution_count": 36,
   "metadata": {},
   "outputs": [
    {
     "data": {
      "text/plain": [
       "['Ana', 'Bruno', 'Carlos', 'Daniele']"
      ]
     },
     "execution_count": 36,
     "metadata": {},
     "output_type": "execute_result"
    }
   ],
   "source": [
    "objeto5=[\"Ana\",\"Bruno\",\"Carlos\",\"Daniele\"] # Lista de textos\n",
    "objeto5"
   ]
  },
  {
   "cell_type": "code",
   "execution_count": 37,
   "metadata": {},
   "outputs": [
    {
     "data": {
      "text/plain": [
       "True"
      ]
     },
     "execution_count": 37,
     "metadata": {},
     "output_type": "execute_result"
    }
   ],
   "source": [
    "\"Ana\"in objeto5"
   ]
  },
  {
   "cell_type": "code",
   "execution_count": 38,
   "metadata": {},
   "outputs": [
    {
     "data": {
      "text/plain": [
       "False"
      ]
     },
     "execution_count": 38,
     "metadata": {},
     "output_type": "execute_result"
    }
   ],
   "source": [
    "\"Pedro\"in objeto5"
   ]
  },
  {
   "cell_type": "code",
   "execution_count": 39,
   "metadata": {},
   "outputs": [
    {
     "data": {
      "text/plain": [
       "[True, False, False, True]"
      ]
     },
     "execution_count": 39,
     "metadata": {},
     "output_type": "execute_result"
    }
   ],
   "source": [
    "objeto6 = [True,False,False,True]\n",
    "objeto6"
   ]
  },
  {
   "cell_type": "code",
   "execution_count": 40,
   "metadata": {},
   "outputs": [
    {
     "data": {
      "text/plain": [
       "range(0, 20, 2)"
      ]
     },
     "execution_count": 40,
     "metadata": {},
     "output_type": "execute_result"
    }
   ],
   "source": [
    "objeto7 = range(0,20,2) # start, stop, step\n",
    "objeto7"
   ]
  },
  {
   "cell_type": "code",
   "execution_count": 41,
   "metadata": {},
   "outputs": [
    {
     "data": {
      "text/plain": [
       "[0, 2, 4, 6, 8, 10, 12, 14, 16, 18]"
      ]
     },
     "execution_count": 41,
     "metadata": {},
     "output_type": "execute_result"
    }
   ],
   "source": [
    "list(objeto7)"
   ]
  },
  {
   "cell_type": "code",
   "execution_count": 42,
   "metadata": {},
   "outputs": [
    {
     "data": {
      "text/plain": [
       "90"
      ]
     },
     "execution_count": 42,
     "metadata": {},
     "output_type": "execute_result"
    }
   ],
   "source": [
    "sum(objeto7)"
   ]
  },
  {
   "cell_type": "code",
   "execution_count": 43,
   "metadata": {},
   "outputs": [
    {
     "data": {
      "text/plain": [
       "['A', 'A', 'A']"
      ]
     },
     "execution_count": 43,
     "metadata": {},
     "output_type": "execute_result"
    }
   ],
   "source": [
    "objeto8 = [\"A\"] * 3 # Repete \"A\" 3 vezes\n",
    "objeto8"
   ]
  },
  {
   "cell_type": "markdown",
   "metadata": {},
   "source": [
    "# Manipulação de string\n",
    "Nessa secção vamos aprender ver algumas manipulações de strin"
   ]
  },
  {
   "cell_type": "code",
   "execution_count": 44,
   "metadata": {},
   "outputs": [
    {
     "data": {
      "text/plain": [
       "'                  TExto de referencia                  '"
      ]
     },
     "execution_count": 44,
     "metadata": {},
     "output_type": "execute_result"
    }
   ],
   "source": [
    "objeto2 = '                  TExto de referencia                  '\n",
    "objeto2"
   ]
  },
  {
   "cell_type": "code",
   "execution_count": 45,
   "metadata": {},
   "outputs": [
    {
     "data": {
      "text/plain": [
       "'TExto de referencia'"
      ]
     },
     "execution_count": 45,
     "metadata": {},
     "output_type": "execute_result"
    }
   ],
   "source": [
    "objeto2=objeto2.strip() # Remove os ESPAÇOS no inicio e fim da String\n",
    "objeto2"
   ]
  },
  {
   "cell_type": "code",
   "execution_count": 46,
   "metadata": {
    "scrolled": true
   },
   "outputs": [
    {
     "data": {
      "text/plain": [
       "'Texto De Referencia'"
      ]
     },
     "execution_count": 46,
     "metadata": {},
     "output_type": "execute_result"
    }
   ],
   "source": [
    "objeto2.title()  # Primeira letra de cada palavra em maiúscula e o restante minúscula"
   ]
  },
  {
   "cell_type": "code",
   "execution_count": 47,
   "metadata": {},
   "outputs": [
    {
     "data": {
      "text/plain": [
       "'Texto de referencia'"
      ]
     },
     "execution_count": 47,
     "metadata": {},
     "output_type": "execute_result"
    }
   ],
   "source": [
    "objeto2.capitalize() # Primeira letra maiúscula e o restante minúscula"
   ]
  },
  {
   "cell_type": "code",
   "execution_count": 48,
   "metadata": {},
   "outputs": [
    {
     "data": {
      "text/plain": [
       "'texto de referencia'"
      ]
     },
     "execution_count": 48,
     "metadata": {},
     "output_type": "execute_result"
    }
   ],
   "source": [
    "objeto2.lower() # string inteira em minúscula"
   ]
  },
  {
   "cell_type": "code",
   "execution_count": 49,
   "metadata": {},
   "outputs": [
    {
     "data": {
      "text/plain": [
       "'TEXTO DE REFERENCIA'"
      ]
     },
     "execution_count": 49,
     "metadata": {},
     "output_type": "execute_result"
    }
   ],
   "source": [
    "objeto2.upper() # string inteira em  maiúscula"
   ]
  },
  {
   "cell_type": "code",
   "execution_count": 50,
   "metadata": {
    "scrolled": false
   },
   "outputs": [
    {
     "data": {
      "text/plain": [
       "'AExto de referencia'"
      ]
     },
     "execution_count": 50,
     "metadata": {},
     "output_type": "execute_result"
    }
   ],
   "source": [
    "objeto2.replace('T', 'A') # substitui a primeira substring pela segunda"
   ]
  },
  {
   "cell_type": "markdown",
   "metadata": {},
   "source": [
    "### Manipular dados dentro de objeto\n",
    "O Python possui uma estrutura de organização de dados chamada de indexação de base zero. Ou seja, o primeiro elemento recebe o indice de zero, o segundo indice 1, e assim por diante..."
   ]
  },
  {
   "cell_type": "code",
   "execution_count": 51,
   "metadata": {
    "scrolled": true
   },
   "outputs": [
    {
     "data": {
      "text/plain": [
       "4"
      ]
     },
     "execution_count": 51,
     "metadata": {},
     "output_type": "execute_result"
    }
   ],
   "source": [
    "len(objeto5) # Quantos elementos tem dentro dessa lista"
   ]
  },
  {
   "cell_type": "code",
   "execution_count": 52,
   "metadata": {},
   "outputs": [
    {
     "data": {
      "text/plain": [
       "['Ana', 'Bruno', 'Carlos', 'Daniele']"
      ]
     },
     "execution_count": 52,
     "metadata": {},
     "output_type": "execute_result"
    }
   ],
   "source": [
    "objeto5 # lembre o que tem dentro do objeto 5"
   ]
  },
  {
   "cell_type": "code",
   "execution_count": 53,
   "metadata": {},
   "outputs": [
    {
     "data": {
      "text/plain": [
       "'Daniele'"
      ]
     },
     "execution_count": 53,
     "metadata": {},
     "output_type": "execute_result"
    }
   ],
   "source": [
    "objeto5[3] # Mostre o 4th elementdo da lista, o primeiro elemento é contado como numero zero"
   ]
  },
  {
   "cell_type": "code",
   "execution_count": 54,
   "metadata": {},
   "outputs": [
    {
     "data": {
      "text/plain": [
       "'Daniele'"
      ]
     },
     "execution_count": 54,
     "metadata": {},
     "output_type": "execute_result"
    }
   ],
   "source": [
    "objeto5[-1] # Mostre o ultimo elemento da lista"
   ]
  },
  {
   "cell_type": "code",
   "execution_count": 55,
   "metadata": {},
   "outputs": [
    {
     "data": {
      "text/plain": [
       "'Carlos'"
      ]
     },
     "execution_count": 55,
     "metadata": {},
     "output_type": "execute_result"
    }
   ],
   "source": [
    "objeto5[-2] # Mostre o penultimo elemento da lista"
   ]
  },
  {
   "cell_type": "code",
   "execution_count": 56,
   "metadata": {},
   "outputs": [
    {
     "data": {
      "text/plain": [
       "['Bruno', 'Carlos']"
      ]
     },
     "execution_count": 56,
     "metadata": {},
     "output_type": "execute_result"
    }
   ],
   "source": [
    "objeto5[1:3] # Mostre os nome na posição 1 e 2"
   ]
  },
  {
   "cell_type": "code",
   "execution_count": 57,
   "metadata": {},
   "outputs": [
    {
     "data": {
      "text/plain": [
       "['Bruno', 'Carlos', 'Daniele']"
      ]
     },
     "execution_count": 57,
     "metadata": {},
     "output_type": "execute_result"
    }
   ],
   "source": [
    "objeto5[1:] # Mostre os nome na posição 2 até o final da lista"
   ]
  },
  {
   "cell_type": "code",
   "execution_count": 58,
   "metadata": {},
   "outputs": [
    {
     "data": {
      "text/plain": [
       "['Ana', 'Bruno', 'Carlos']"
      ]
     },
     "execution_count": 58,
     "metadata": {},
     "output_type": "execute_result"
    }
   ],
   "source": [
    "objeto5[:3] # Mostre os nome até a posição 2 da final"
   ]
  },
  {
   "cell_type": "code",
   "execution_count": 59,
   "metadata": {},
   "outputs": [
    {
     "data": {
      "text/plain": [
       "['Ana', 'Carlos']"
      ]
     },
     "execution_count": 59,
     "metadata": {},
     "output_type": "execute_result"
    }
   ],
   "source": [
    "objeto5[::2] # Mostre os nomes pulando de 2 em 2"
   ]
  },
  {
   "cell_type": "code",
   "execution_count": 60,
   "metadata": {},
   "outputs": [
    {
     "data": {
      "text/plain": [
       "['Daniele', 'Carlos', 'Bruno', 'Ana']"
      ]
     },
     "execution_count": 60,
     "metadata": {},
     "output_type": "execute_result"
    }
   ],
   "source": [
    "objeto5[::-1] # Inverte a apresentação dos nomes"
   ]
  },
  {
   "cell_type": "markdown",
   "metadata": {},
   "source": [
    "Uma função interessante é o split, pega dados em uma string e separa elas. Para demonstrar como isso funciona, suponha que o objeto5 foi declarado da seguinte forma:"
   ]
  },
  {
   "cell_type": "code",
   "execution_count": 61,
   "metadata": {},
   "outputs": [
    {
     "data": {
      "text/plain": [
       "'Ana, Bruno, Carlos, Daniele'"
      ]
     },
     "execution_count": 61,
     "metadata": {},
     "output_type": "execute_result"
    }
   ],
   "source": [
    "objeto5 = 'Ana, Bruno, Carlos, Daniele'\n",
    "objeto5 # Veja que temos 1 string com todos os nomes"
   ]
  },
  {
   "cell_type": "code",
   "execution_count": 62,
   "metadata": {},
   "outputs": [
    {
     "data": {
      "text/plain": [
       "['Ana', 'Bruno', 'Carlos', 'Daniele']"
      ]
     },
     "execution_count": 62,
     "metadata": {},
     "output_type": "execute_result"
    }
   ],
   "source": [
    "objeto5 = objeto5.split(', ') # Aqui informamos qual é a combinação de caracteres que deve ser lida como um bloco de separação. Se você não especificar o default é usar ESPAÇO como referência para separação\n",
    "objeto5"
   ]
  },
  {
   "cell_type": "code",
   "execution_count": 63,
   "metadata": {},
   "outputs": [
    {
     "data": {
      "text/plain": [
       "'x'"
      ]
     },
     "execution_count": 63,
     "metadata": {},
     "output_type": "execute_result"
    }
   ],
   "source": [
    "objeto2[2] # Mostre a 3th letra da palavra salva no string"
   ]
  },
  {
   "cell_type": "code",
   "execution_count": 64,
   "metadata": {},
   "outputs": [
    {
     "data": {
      "text/plain": [
       "'T'"
      ]
     },
     "execution_count": 64,
     "metadata": {},
     "output_type": "execute_result"
    }
   ],
   "source": [
    "objeto2[0] # Mostre a 1th letra da palavra salva no string"
   ]
  },
  {
   "cell_type": "code",
   "execution_count": 65,
   "metadata": {},
   "outputs": [
    {
     "data": {
      "text/plain": [
       "['Ana', 'Bruno', 'Carlos', 'Eliana']"
      ]
     },
     "execution_count": 65,
     "metadata": {},
     "output_type": "execute_result"
    }
   ],
   "source": [
    "objeto5[3] = \"Eliana\" # Substituir elementos\n",
    "objeto5"
   ]
  },
  {
   "cell_type": "code",
   "execution_count": 66,
   "metadata": {},
   "outputs": [
    {
     "data": {
      "text/plain": [
       "2"
      ]
     },
     "execution_count": 66,
     "metadata": {},
     "output_type": "execute_result"
    }
   ],
   "source": [
    "objeto5.index(\"Carlos\") # mostra qual é a posição do \"Carlos\" na lista"
   ]
  },
  {
   "cell_type": "code",
   "execution_count": 67,
   "metadata": {},
   "outputs": [
    {
     "data": {
      "text/plain": [
       "['Eliana', 'Carlos', 'Bruno', 'Ana']"
      ]
     },
     "execution_count": 67,
     "metadata": {},
     "output_type": "execute_result"
    }
   ],
   "source": [
    "objeto5.sort(reverse=True) # Ordenar\n",
    "objeto5"
   ]
  },
  {
   "cell_type": "markdown",
   "metadata": {},
   "source": [
    "### Apagar elementos de um objeto"
   ]
  },
  {
   "cell_type": "code",
   "execution_count": 68,
   "metadata": {},
   "outputs": [
    {
     "data": {
      "text/plain": [
       "['Eliana', 'Bruno', 'Ana']"
      ]
     },
     "execution_count": 68,
     "metadata": {},
     "output_type": "execute_result"
    }
   ],
   "source": [
    "del objeto5[1]\n",
    "objeto5 # note que agora o 2th foi atualizado"
   ]
  },
  {
   "cell_type": "code",
   "execution_count": 69,
   "metadata": {},
   "outputs": [
    {
     "data": {
      "text/plain": [
       "['Eliana', 'Bruno', 'Ana', 'Fabio']"
      ]
     },
     "execution_count": 69,
     "metadata": {},
     "output_type": "execute_result"
    }
   ],
   "source": [
    "objeto5.append(\"Fabio\") # Adicionar 1 elemento\n",
    "objeto5"
   ]
  },
  {
   "cell_type": "code",
   "execution_count": 70,
   "metadata": {},
   "outputs": [
    {
     "data": {
      "text/plain": [
       "['Eliana', 'Bruno', 'Ana', 'Fabio', 'Gabriel', 'Humberto']"
      ]
     },
     "execution_count": 70,
     "metadata": {},
     "output_type": "execute_result"
    }
   ],
   "source": [
    "objeto5.extend([\"Gabriel\",\"Humberto\"]) # Adicionar 2 ou mais elementos\n",
    "objeto5"
   ]
  },
  {
   "cell_type": "code",
   "execution_count": 71,
   "metadata": {},
   "outputs": [
    {
     "data": {
      "text/plain": [
       "1"
      ]
     },
     "execution_count": 71,
     "metadata": {},
     "output_type": "execute_result"
    }
   ],
   "source": [
    "objeto5.count(\"Ana\") "
   ]
  },
  {
   "cell_type": "markdown",
   "metadata": {},
   "source": [
    "### Fatiar dados de um objeto (Slicing)"
   ]
  },
  {
   "cell_type": "code",
   "execution_count": 72,
   "metadata": {},
   "outputs": [
    {
     "data": {
      "text/plain": [
       "['Ana', 'Fabio']"
      ]
     },
     "execution_count": 72,
     "metadata": {},
     "output_type": "execute_result"
    }
   ],
   "source": [
    "objeto5[2:4] # O primeiro numero representa o elemento que queremos. O segundo numero uma posição depois do ultimo elemento que queremos (exemplo, você que o numero na posição 7, então você tem que colcoar 8)."
   ]
  },
  {
   "cell_type": "code",
   "execution_count": 73,
   "metadata": {},
   "outputs": [
    {
     "data": {
      "text/plain": [
       "['Eliana', 'Bruno', 'Ana', 'Fabio']"
      ]
     },
     "execution_count": 73,
     "metadata": {},
     "output_type": "execute_result"
    }
   ],
   "source": [
    "objeto5[:4] # Se você quiser os elementos de uma sequencia, basta não digitar nenhum numero antes do :"
   ]
  },
  {
   "cell_type": "code",
   "execution_count": 74,
   "metadata": {},
   "outputs": [
    {
     "data": {
      "text/plain": [
       "['Gabriel', 'Humberto']"
      ]
     },
     "execution_count": 74,
     "metadata": {},
     "output_type": "execute_result"
    }
   ],
   "source": [
    "objeto5[4:] # Se você quiser pegar todos os elementos da posição 4 pra frente"
   ]
  },
  {
   "cell_type": "code",
   "execution_count": 75,
   "metadata": {},
   "outputs": [
    {
     "data": {
      "text/plain": [
       "['Gabriel', 'Humberto']"
      ]
     },
     "execution_count": 75,
     "metadata": {},
     "output_type": "execute_result"
    }
   ],
   "source": [
    "objeto5[-2:] # Se você quiser pegar os ultimo x elementos (no exemplo, os dois ultimos)"
   ]
  },
  {
   "cell_type": "code",
   "execution_count": 76,
   "metadata": {},
   "outputs": [
    {
     "data": {
      "text/plain": [
       "['Icaro', 'Joao', 'Katy']"
      ]
     },
     "execution_count": 76,
     "metadata": {},
     "output_type": "execute_result"
    }
   ],
   "source": [
    "# Combinar listas\n",
    "objeto11 = [\"Icaro\",\"Joao\",\"Katy\"]\n",
    "objeto11"
   ]
  },
  {
   "cell_type": "code",
   "execution_count": 77,
   "metadata": {},
   "outputs": [
    {
     "data": {
      "text/plain": [
       "['Eliana', 'Bruno', 'Ana', 'Fabio', 'Gabriel', 'Humberto']"
      ]
     },
     "execution_count": 77,
     "metadata": {},
     "output_type": "execute_result"
    }
   ],
   "source": [
    "objeto5"
   ]
  },
  {
   "cell_type": "code",
   "execution_count": 78,
   "metadata": {
    "scrolled": true
   },
   "outputs": [
    {
     "data": {
      "text/plain": [
       "[['Eliana', 'Bruno', 'Ana', 'Fabio', 'Gabriel', 'Humberto'],\n",
       " ['Icaro', 'Joao', 'Katy']]"
      ]
     },
     "execution_count": 78,
     "metadata": {},
     "output_type": "execute_result"
    }
   ],
   "source": [
    "objeto12 = [objeto5, objeto11]\n",
    "objeto12"
   ]
  },
  {
   "cell_type": "code",
   "execution_count": 79,
   "metadata": {},
   "outputs": [
    {
     "data": {
      "text/plain": [
       "[]"
      ]
     },
     "execution_count": 79,
     "metadata": {},
     "output_type": "execute_result"
    }
   ],
   "source": [
    "objeto13 = [] # Criar uma lista vazia\n",
    "objeto13 "
   ]
  },
  {
   "cell_type": "code",
   "execution_count": 80,
   "metadata": {},
   "outputs": [
    {
     "data": {
      "text/plain": [
       "['NovoDado1', 'NovoDado2', 'NovoDado3']"
      ]
     },
     "execution_count": 80,
     "metadata": {},
     "output_type": "execute_result"
    }
   ],
   "source": [
    "objeto13.append('NovoDado1') # Adiciona novos elementos\n",
    "objeto13.append('NovoDado2')\n",
    "objeto13.append('NovoDado3')\n",
    "objeto13 "
   ]
  },
  {
   "cell_type": "code",
   "execution_count": 81,
   "metadata": {},
   "outputs": [
    {
     "data": {
      "text/plain": [
       "['NovoDado1', 'NovoDado4', 'NovoDado2', 'NovoDado3']"
      ]
     },
     "execution_count": 81,
     "metadata": {},
     "output_type": "execute_result"
    }
   ],
   "source": [
    "objeto13.insert(1,'NovoDado4') # Adiciona o novo dado na posição 1, e desloca os outro para direita\n",
    "objeto13 "
   ]
  },
  {
   "cell_type": "code",
   "execution_count": 82,
   "metadata": {},
   "outputs": [
    {
     "data": {
      "text/plain": [
       "['NovoDado1', 'NovoDado4', 'NovoDado3']"
      ]
     },
     "execution_count": 82,
     "metadata": {},
     "output_type": "execute_result"
    }
   ],
   "source": [
    "objeto13.remove('NovoDado2') # Remove o dado especificado da lista\n",
    "objeto13 "
   ]
  },
  {
   "cell_type": "code",
   "execution_count": 83,
   "metadata": {},
   "outputs": [
    {
     "data": {
      "text/plain": [
       "'NovoDado3'"
      ]
     },
     "execution_count": 83,
     "metadata": {},
     "output_type": "execute_result"
    }
   ],
   "source": [
    "objeto13.pop(2) # Coleta (faz um pop) do elemento que ocupa a posição 2"
   ]
  },
  {
   "cell_type": "markdown",
   "metadata": {},
   "source": [
    "### Tuplas (Tuples)"
   ]
  },
  {
   "cell_type": "markdown",
   "metadata": {},
   "source": [
    "Tuplas são um tipo de sequencia de dados, que tem como caracteristica ser imutável (você não pode apagar um elemento do meio do Tuple, ou organizar o mesmo por odem alfabetica).\n",
    "\n",
    "Você diferencia uma tupla de uma lista, chamando o objeto e verificando que o Python apresenta os numeros entre () e não entre [].\n",
    "\n",
    "A vantagem de usar a Tupla é que ela possui algumas implementações que as listas não atendem. Além disso, por conta da sua rigidez, as Tubplas tendem a ocupar menos espaço na memória da máquina que estiver rodando o código. Dessa forma, se em uma dada aplicação foi igualmente possivel usar Tuplas ou Listas, opte pelas Tuplas para ganhar espaço e performance.\n"
   ]
  },
  {
   "cell_type": "code",
   "execution_count": 84,
   "metadata": {},
   "outputs": [
    {
     "data": {
      "text/plain": [
       "(3, 4, 5)"
      ]
     },
     "execution_count": 84,
     "metadata": {},
     "output_type": "execute_result"
    }
   ],
   "source": [
    "objeto14 = (3,4,5) # A declaração oficial de uma Tupla é feita com a disposição de dados entre ( )\n",
    "objeto14"
   ]
  },
  {
   "cell_type": "code",
   "execution_count": 85,
   "metadata": {},
   "outputs": [
    {
     "data": {
      "text/plain": [
       "(3, 4, 5)"
      ]
     },
     "execution_count": 85,
     "metadata": {},
     "output_type": "execute_result"
    }
   ],
   "source": [
    "objeto14 = 3,4,5 # Mas numeros soltos também são entendidos como Tupla\n",
    "objeto14"
   ]
  },
  {
   "cell_type": "code",
   "execution_count": 86,
   "metadata": {
    "scrolled": true
   },
   "outputs": [
    {
     "data": {
      "text/plain": [
       "('Argentina', 'Brasil', 'Colombia', 'Dinamarca', 'Estados Unidos', 'França')"
      ]
     },
     "execution_count": 86,
     "metadata": {},
     "output_type": "execute_result"
    }
   ],
   "source": [
    "objeto15 = 'Argentina','Brasil','Colombia','Dinamarca','Estados Unidos','França' # Textos soltos tambem serão lidos como uma tupple\n",
    "objeto15"
   ]
  },
  {
   "cell_type": "code",
   "execution_count": 87,
   "metadata": {},
   "outputs": [
    {
     "data": {
      "text/plain": [
       "tuple"
      ]
     },
     "execution_count": 87,
     "metadata": {},
     "output_type": "execute_result"
    }
   ],
   "source": [
    "type(objeto15)"
   ]
  },
  {
   "cell_type": "markdown",
   "metadata": {},
   "source": [
    "Outra forma de manipular esses tipo de dados"
   ]
  },
  {
   "cell_type": "code",
   "execution_count": 88,
   "metadata": {},
   "outputs": [
    {
     "name": "stdout",
     "output_type": "stream",
     "text": [
      "20\n",
      "172\n"
     ]
    }
   ],
   "source": [
    "(Idade,Altura) = (\"20,172\").split(',') \n",
    "print(Idade)\n",
    "print(Altura)"
   ]
  },
  {
   "cell_type": "markdown",
   "metadata": {},
   "source": [
    "As tuplas tem uma função unica chamada de unpacking, que consiste em você pegar dados de dentro da Tupla e jogar em variáveis. No curso da Let's code foi chamado de unpacking, enquanto no curso da Udemy foi chamado de tuple assignment."
   ]
  },
  {
   "cell_type": "code",
   "execution_count": 89,
   "metadata": {},
   "outputs": [
    {
     "data": {
      "text/plain": [
       "25"
      ]
     },
     "execution_count": 89,
     "metadata": {},
     "output_type": "execute_result"
    }
   ],
   "source": [
    "a,b,c = 10,25,40\n",
    "b"
   ]
  },
  {
   "cell_type": "code",
   "execution_count": 90,
   "metadata": {},
   "outputs": [
    {
     "data": {
      "text/plain": [
       "'Colombia'"
      ]
     },
     "execution_count": 90,
     "metadata": {},
     "output_type": "execute_result"
    }
   ],
   "source": [
    "a,b,c,d,e,f = objeto15\n",
    "c"
   ]
  },
  {
   "cell_type": "code",
   "execution_count": 91,
   "metadata": {},
   "outputs": [
    {
     "name": "stdout",
     "output_type": "stream",
     "text": [
      "Argentina Brasil Colombia Dinamarca Estados Unidos França\n"
     ]
    }
   ],
   "source": [
    "print(*objeto15) # Você pode imprimir os dados desempacotados com a seguinte sintaxe "
   ]
  },
  {
   "cell_type": "markdown",
   "metadata": {},
   "source": [
    "# Ler valores na tela\n",
    "Nesta secção vamos aprender a coletar dados que o usuario informe.\n",
    "OBS: No meu tutorial eu deixei os codigos \"desligado\" (usando o # na frente dos nomes de variáveis). Para caso eu queira resetar o Kernell e reler todas as linhas de comando, o codigo não ficar travando nesse ponto"
   ]
  },
  {
   "cell_type": "code",
   "execution_count": 92,
   "metadata": {},
   "outputs": [
    {
     "name": "stdout",
     "output_type": "stream",
     "text": [
      "Digite a sua idade: 50\n"
     ]
    }
   ],
   "source": [
    "idade = input('Digite a sua idade: ') # lê a idade e salvar em uma variavel chamada idade"
   ]
  },
  {
   "cell_type": "markdown",
   "metadata": {},
   "source": [
    "Contudo, nesse caso a resposta é lida como um texto, "
   ]
  },
  {
   "cell_type": "code",
   "execution_count": 93,
   "metadata": {},
   "outputs": [
    {
     "data": {
      "text/plain": [
       "str"
      ]
     },
     "execution_count": 93,
     "metadata": {},
     "output_type": "execute_result"
    }
   ],
   "source": [
    "type(idade)"
   ]
  },
  {
   "cell_type": "markdown",
   "metadata": {},
   "source": [
    "você pode converter da seguinte forma:"
   ]
  },
  {
   "cell_type": "code",
   "execution_count": 94,
   "metadata": {},
   "outputs": [
    {
     "data": {
      "text/plain": [
       "int"
      ]
     },
     "execution_count": 94,
     "metadata": {},
     "output_type": "execute_result"
    }
   ],
   "source": [
    "idade = int(idade)\n",
    "type(idade)"
   ]
  },
  {
   "cell_type": "markdown",
   "metadata": {},
   "source": [
    "Você pode melhorar isso, fazendo a leitura diretamente no formato correto"
   ]
  },
  {
   "cell_type": "code",
   "execution_count": 95,
   "metadata": {},
   "outputs": [
    {
     "name": "stdout",
     "output_type": "stream",
     "text": [
      "Digite a sua idade: 50\n"
     ]
    },
    {
     "data": {
      "text/plain": [
       "int"
      ]
     },
     "execution_count": 95,
     "metadata": {},
     "output_type": "execute_result"
    }
   ],
   "source": [
    "idade = int(input('Digite a sua idade: ')) # lê a idade como número inteiro\n",
    "type(idade)"
   ]
  },
  {
   "cell_type": "markdown",
   "metadata": {},
   "source": [
    "# Pacotes - Object-oriented programming (OOP)"
   ]
  },
  {
   "cell_type": "markdown",
   "metadata": {},
   "source": [
    "Carregar pacotes/modulos: No Python temos os modulos que são um arquivo unico do Python que pode ter varias funções pre-escritas. O pacote é algo mais completo, e tem varias pastas a serem adicionadas ao projeto. Portanto, em resumo\n",
    "* modulos são mini-sets de funções desenvolvidas por você mesmo\n",
    "* pacotes são o agregado de modulos, que podem ser compartilhada com outras pessoas"
   ]
  },
  {
   "cell_type": "code",
   "execution_count": 96,
   "metadata": {},
   "outputs": [],
   "source": [
    "import math # Carregar pacote math"
   ]
  },
  {
   "cell_type": "code",
   "execution_count": 97,
   "metadata": {},
   "outputs": [
    {
     "data": {
      "text/plain": [
       "2.0"
      ]
     },
     "execution_count": 97,
     "metadata": {},
     "output_type": "execute_result"
    }
   ],
   "source": [
    "math.sqrt( 4 ) # Raiz quadrada(de x)"
   ]
  },
  {
   "cell_type": "code",
   "execution_count": 98,
   "metadata": {},
   "outputs": [
    {
     "data": {
      "text/plain": [
       "4.605170185988092"
      ]
     },
     "execution_count": 98,
     "metadata": {},
     "output_type": "execute_result"
    }
   ],
   "source": [
    "math.log( 100 ) # math.log(x) log natural de x"
   ]
  },
  {
   "cell_type": "code",
   "execution_count": 99,
   "metadata": {},
   "outputs": [
    {
     "data": {
      "text/plain": [
       "2.0"
      ]
     },
     "execution_count": 99,
     "metadata": {},
     "output_type": "execute_result"
    }
   ],
   "source": [
    "math.log(100,10) # OBS: math.log(2,10) é o log de 2 na base 10"
   ]
  },
  {
   "cell_type": "code",
   "execution_count": 100,
   "metadata": {},
   "outputs": [
    {
     "data": {
      "text/plain": [
       "120"
      ]
     },
     "execution_count": 100,
     "metadata": {},
     "output_type": "execute_result"
    }
   ],
   "source": [
    "math.factorial(5) # Fatorial"
   ]
  },
  {
   "cell_type": "code",
   "execution_count": 101,
   "metadata": {
    "scrolled": true
   },
   "outputs": [
    {
     "name": "stdout",
     "output_type": "stream",
     "text": [
      "Help on built-in function factorial in module math:\n",
      "\n",
      "factorial(x, /)\n",
      "    Find x!.\n",
      "    \n",
      "    Raise a ValueError if x is negative or non-integral.\n",
      "\n"
     ]
    }
   ],
   "source": [
    "help(math.factorial)"
   ]
  },
  {
   "cell_type": "markdown",
   "metadata": {},
   "source": [
    "Para instalar um novo pacote utilize o comando a seguir"
   ]
  },
  {
   "cell_type": "code",
   "execution_count": 102,
   "metadata": {},
   "outputs": [
    {
     "name": "stderr",
     "output_type": "stream",
     "text": [
      "ERROR: Could not find a version that satisfies the requirement NOME_DO_PACOTE\n",
      "ERROR: No matching distribution found for NOME_DO_PACOTE\n"
     ]
    }
   ],
   "source": [
    "!pip install NOME_DO_PACOTE"
   ]
  },
  {
   "cell_type": "markdown",
   "metadata": {},
   "source": [
    "Se você quiser importar uma função diretamente (pra chamar ela como você chama no R, faça: "
   ]
  },
  {
   "cell_type": "code",
   "execution_count": 103,
   "metadata": {},
   "outputs": [
    {
     "data": {
      "text/plain": [
       "4.0"
      ]
     },
     "execution_count": 103,
     "metadata": {},
     "output_type": "execute_result"
    }
   ],
   "source": [
    "from math import sqrt\n",
    "sqrt(16)"
   ]
  },
  {
   "cell_type": "markdown",
   "metadata": {},
   "source": [
    "Você tambem pode importar uma função ou modulo e renomear ela para sua facilidade"
   ]
  },
  {
   "cell_type": "code",
   "execution_count": 104,
   "metadata": {},
   "outputs": [
    {
     "data": {
      "text/plain": [
       "5.0"
      ]
     },
     "execution_count": 104,
     "metadata": {},
     "output_type": "execute_result"
    }
   ],
   "source": [
    "from math import sqrt as minhaFuncao\n",
    "minhaFuncao(25)"
   ]
  },
  {
   "cell_type": "code",
   "execution_count": 105,
   "metadata": {},
   "outputs": [
    {
     "data": {
      "text/plain": [
       "6.0"
      ]
     },
     "execution_count": 105,
     "metadata": {},
     "output_type": "execute_result"
    }
   ],
   "source": [
    "import math as m\n",
    "m.sqrt(36)"
   ]
  },
  {
   "cell_type": "markdown",
   "metadata": {},
   "source": [
    "Observações (I): Você pode importar todas as funções de um pacote usando o codigo apresentado a seguir. Contudo isso não é recomendado para um programador profissional. Isso porque se você importa tudo de 2 pacotes diferentes, e ambos tiverem uma função com mesmo nome, o Python vai ter que decidir sozinho qual das duas funções usar, e você perde o controle do seu código."
   ]
  },
  {
   "cell_type": "code",
   "execution_count": 106,
   "metadata": {},
   "outputs": [],
   "source": [
    "from math import*"
   ]
  },
  {
   "cell_type": "markdown",
   "metadata": {},
   "source": [
    "Observações (II): Diferença entre função e metodo\n",
    "* Funções tem varios parametros, exemplo função(a=x, b=y, c=z)\n",
    "* Metodos é seu proprio parâmetro, exemplo dados.max"
   ]
  },
  {
   "cell_type": "markdown",
   "metadata": {},
   "source": [
    "# Criar sua função"
   ]
  },
  {
   "cell_type": "code",
   "execution_count": 107,
   "metadata": {},
   "outputs": [
    {
     "data": {
      "text/plain": [
       "100"
      ]
     },
     "execution_count": 107,
     "metadata": {},
     "output_type": "execute_result"
    }
   ],
   "source": [
    "def quadrado(x):\n",
    "    y=x**2\n",
    "    return y\n",
    "quadrado(10)"
   ]
  },
  {
   "cell_type": "markdown",
   "metadata": {},
   "source": [
    "Você pode usar a estrutura de tupla para apresentar o resultado de uma função:"
   ]
  },
  {
   "cell_type": "code",
   "execution_count": 108,
   "metadata": {},
   "outputs": [
    {
     "name": "stdout",
     "output_type": "stream",
     "text": [
      "A área e perímetro são:\n"
     ]
    },
    {
     "data": {
      "text/plain": [
       "(100, 40)"
      ]
     },
     "execution_count": 108,
     "metadata": {},
     "output_type": "execute_result"
    }
   ],
   "source": [
    "def Desc_Quadrado(x):\n",
    "    Area = x**2\n",
    "    Perimetro = 4*x\n",
    "    print(\"A área e perímetro são:\")\n",
    "    return Area, Perimetro\n",
    "Desc_Quadrado(10)"
   ]
  },
  {
   "cell_type": "code",
   "execution_count": 109,
   "metadata": {},
   "outputs": [
    {
     "data": {
      "text/plain": [
       "26.666666666666668"
      ]
     },
     "execution_count": 109,
     "metadata": {},
     "output_type": "execute_result"
    }
   ],
   "source": [
    "def CalMed (x1=0, x2=0,x3=0):\n",
    "    Soma = x1 + x2 + x3\n",
    "    Media = Soma /3\n",
    "    return Media\n",
    "CalMed(x1=10, x2=20,x3=50)"
   ]
  },
  {
   "cell_type": "code",
   "execution_count": 110,
   "metadata": {},
   "outputs": [
    {
     "data": {
      "text/plain": [
       "10.0"
      ]
     },
     "execution_count": 110,
     "metadata": {},
     "output_type": "execute_result"
    }
   ],
   "source": [
    "CalMed(x1=10, x2=20) # Neste caso, se não informamos o valor, o Python usa a referencia que estiver em default"
   ]
  },
  {
   "cell_type": "markdown",
   "metadata": {},
   "source": [
    "Se você quiser introduzir uma Tupla na sua função, utilize o caracter * antes do nome do parametro. "
   ]
  },
  {
   "cell_type": "code",
   "execution_count": 111,
   "metadata": {},
   "outputs": [
    {
     "name": "stdout",
     "output_type": "stream",
     "text": [
      "(10, 20, 30, 40) <class 'tuple'>\n"
     ]
    }
   ],
   "source": [
    "def Veja (*args): \n",
    "    print(args, type(args))\n",
    "Veja(10,20,30,40)"
   ]
  },
  {
   "cell_type": "code",
   "execution_count": 112,
   "metadata": {},
   "outputs": [
    {
     "data": {
      "text/plain": [
       "15.0"
      ]
     },
     "execution_count": 112,
     "metadata": {},
     "output_type": "execute_result"
    }
   ],
   "source": [
    "def CalMed (*args): # Apesar de usarmos o *args, você poderia usar qualquer outro nome como *numeros\n",
    "    Soma = sum(args)\n",
    "    Media = Soma /len(args)\n",
    "    return Media\n",
    "CalMed(10, 20)"
   ]
  },
  {
   "cell_type": "code",
   "execution_count": 113,
   "metadata": {},
   "outputs": [
    {
     "data": {
      "text/plain": [
       "225.0"
      ]
     },
     "execution_count": 113,
     "metadata": {},
     "output_type": "execute_result"
    }
   ],
   "source": [
    "def CalMed (*args,elevado): \n",
    "    Soma = sum(args)\n",
    "    Media = Soma /len(args)\n",
    "    MediaElv = Media**elevado\n",
    "    return MediaElv\n",
    "CalMed(10, 20, elevado=2)"
   ]
  },
  {
   "cell_type": "markdown",
   "metadata": {},
   "source": [
    "Se você quiser introduzir um Dicionario na sua função, utilize o caracter ** antes do nome do parametro. "
   ]
  },
  {
   "cell_type": "code",
   "execution_count": 114,
   "metadata": {},
   "outputs": [
    {
     "name": "stdout",
     "output_type": "stream",
     "text": [
      "{'Nome': 'João', 'Sobrenome': 'Silva'} <class 'dict'>\n"
     ]
    }
   ],
   "source": [
    "def Veja (**kwargs): \n",
    "    print(kwargs, type(kwargs))\n",
    "Veja(Nome = \"João\", Sobrenome =\"Silva\")"
   ]
  },
  {
   "cell_type": "markdown",
   "metadata": {},
   "source": [
    "# Testes logicos"
   ]
  },
  {
   "cell_type": "markdown",
   "metadata": {},
   "source": [
    "## Testes básicos"
   ]
  },
  {
   "cell_type": "code",
   "execution_count": 115,
   "metadata": {},
   "outputs": [
    {
     "data": {
      "text/plain": [
       "True"
      ]
     },
     "execution_count": 115,
     "metadata": {},
     "output_type": "execute_result"
    }
   ],
   "source": [
    "5==5 # 5 é igual a 5?"
   ]
  },
  {
   "cell_type": "code",
   "execution_count": 116,
   "metadata": {},
   "outputs": [
    {
     "data": {
      "text/plain": [
       "False"
      ]
     },
     "execution_count": 116,
     "metadata": {},
     "output_type": "execute_result"
    }
   ],
   "source": [
    "5!=5 # 5 é diferente de 5?"
   ]
  },
  {
   "cell_type": "code",
   "execution_count": 117,
   "metadata": {},
   "outputs": [
    {
     "data": {
      "text/plain": [
       "True"
      ]
     },
     "execution_count": 117,
     "metadata": {},
     "output_type": "execute_result"
    }
   ],
   "source": [
    "10>8 # 10 é maior que 8?"
   ]
  },
  {
   "cell_type": "code",
   "execution_count": 118,
   "metadata": {},
   "outputs": [
    {
     "data": {
      "text/plain": [
       "False"
      ]
     },
     "execution_count": 118,
     "metadata": {},
     "output_type": "execute_result"
    }
   ],
   "source": [
    "10>10 # 10 é maior que 10?"
   ]
  },
  {
   "cell_type": "code",
   "execution_count": 119,
   "metadata": {},
   "outputs": [
    {
     "data": {
      "text/plain": [
       "True"
      ]
     },
     "execution_count": 119,
     "metadata": {},
     "output_type": "execute_result"
    }
   ],
   "source": [
    "10>=10 # 10 é maior ou igual a 10?"
   ]
  },
  {
   "cell_type": "code",
   "execution_count": 120,
   "metadata": {},
   "outputs": [
    {
     "data": {
      "text/plain": [
       "True"
      ]
     },
     "execution_count": 120,
     "metadata": {},
     "output_type": "execute_result"
    }
   ],
   "source": [
    "'Bruno' in objeto5 # Tesa se 'Bruno' está contido dentro de objeto5"
   ]
  },
  {
   "cell_type": "code",
   "execution_count": 121,
   "metadata": {},
   "outputs": [
    {
     "data": {
      "text/plain": [
       "False"
      ]
     },
     "execution_count": 121,
     "metadata": {},
     "output_type": "execute_result"
    }
   ],
   "source": [
    "'Bruno' not in objeto5 # Tesa se 'Bruno' não está contido dentro de objeto5"
   ]
  },
  {
   "cell_type": "markdown",
   "metadata": {},
   "source": [
    "## if & elif"
   ]
  },
  {
   "cell_type": "markdown",
   "metadata": {},
   "source": [
    "OBS: if e else tem que estar na mesma linha vertical"
   ]
  },
  {
   "cell_type": "code",
   "execution_count": 122,
   "metadata": {},
   "outputs": [
    {
     "name": "stdout",
     "output_type": "stream",
     "text": [
      "Sim\n"
     ]
    }
   ],
   "source": [
    "if 5>2:\n",
    "    print(\"Sim\")\n",
    "else:\n",
    "    print(\"Não\")"
   ]
  },
  {
   "cell_type": "code",
   "execution_count": 123,
   "metadata": {},
   "outputs": [],
   "source": [
    "def teste10(x):\n",
    "    if x>10:\n",
    "        return \"Maior\"\n",
    "    elif x < 10:\n",
    "        return \"Menor\"\n",
    "    else:\n",
    "        return\"Igual\""
   ]
  },
  {
   "cell_type": "code",
   "execution_count": 124,
   "metadata": {},
   "outputs": [
    {
     "data": {
      "text/plain": [
       "'Menor'"
      ]
     },
     "execution_count": 124,
     "metadata": {},
     "output_type": "execute_result"
    }
   ],
   "source": [
    "teste10(9)"
   ]
  },
  {
   "cell_type": "code",
   "execution_count": 125,
   "metadata": {},
   "outputs": [
    {
     "data": {
      "text/plain": [
       "'Igual'"
      ]
     },
     "execution_count": 125,
     "metadata": {},
     "output_type": "execute_result"
    }
   ],
   "source": [
    "teste10(10)"
   ]
  },
  {
   "cell_type": "code",
   "execution_count": 126,
   "metadata": {},
   "outputs": [
    {
     "data": {
      "text/plain": [
       "'Maior'"
      ]
     },
     "execution_count": 126,
     "metadata": {},
     "output_type": "execute_result"
    }
   ],
   "source": [
    "teste10(11)"
   ]
  },
  {
   "cell_type": "markdown",
   "metadata": {},
   "source": [
    "Veja que em vez de return, você pode usar o print"
   ]
  },
  {
   "cell_type": "code",
   "execution_count": 127,
   "metadata": {},
   "outputs": [],
   "source": [
    "def teste10(x):\n",
    "    if x>10:\n",
    "        print (\"Maior\")\n",
    "    elif x < 10:\n",
    "        print (\"Menor\")\n",
    "    else:\n",
    "        print (\"Igual\")"
   ]
  },
  {
   "cell_type": "code",
   "execution_count": 128,
   "metadata": {},
   "outputs": [
    {
     "name": "stdout",
     "output_type": "stream",
     "text": [
      "Menor\n"
     ]
    }
   ],
   "source": [
    "teste10(9)"
   ]
  },
  {
   "cell_type": "markdown",
   "metadata": {},
   "source": [
    "Fazer arvore de decisões com base no que o usuario digitou"
   ]
  },
  {
   "cell_type": "code",
   "execution_count": 129,
   "metadata": {},
   "outputs": [
    {
     "name": "stdout",
     "output_type": "stream",
     "text": [
      "Digite sua idade: 50\n",
      "Quanto de dinheiro você tem na carteria? 2.50\n",
      "Não tem nada para você fazer aqui... até mais.\n"
     ]
    }
   ],
   "source": [
    "idade = int(input('Digite sua idade: '))\n",
    "dinheiro = float(input('Quanto de dinheiro você tem na carteria? '))\n",
    "\n",
    "if idade >= 18 and dinheiro >= 2.99:\n",
    "    print('Você pode comprar uma cerveja.')\n",
    "elif idade < 18 and dinheiro >= 2.99:\n",
    "    print('Você até tem dinheiro suficiente para comprar uma cerveja, mas vai precisar esperar', 18-idade, \"anos para poder comprar uma cerveja. Que tal um refrigerante?\")\n",
    "else:\n",
    "    print('Não tem nada para você fazer aqui... até mais.')\n"
   ]
  },
  {
   "cell_type": "markdown",
   "metadata": {},
   "source": [
    "# Dicionários "
   ]
  },
  {
   "cell_type": "markdown",
   "metadata": {},
   "source": [
    "Dicionarios são outra forma de armazenar dados no Python. Estes são pode ser classificados como uma coleção associativa desordenada - i.e. uma coleção de mapeamento. Dentro dos dicionários você terá uma combinação de dois elementos: chaves e valores. Pense num dicionario impresso tradicional. Para entender o significado de palavras você busca um verbete (a palavra ou expressão) e seu significado. No Python as chaves seriam analogas aos verbetes, e os valores analogos ao significado das palavras do dicionario. \n",
    "\n",
    "Outro fator importante de destacar a foma de declaração, que deve ser feita pelo uso de { }.\n",
    "\n",
    "Portanto, agora que você já viu as principais estruturas de dados em Python, tenham em mente que: \n",
    "  *  Listas   =    [ ]\n",
    "  *  Tuplas   =    ( )\n",
    "  *  Dicionarios = { }\n",
    "\n",
    "A estrutura do discionário é a mais maleavel dentre as 3 formas (listas, tuplas e dicionario)."
   ]
  },
  {
   "cell_type": "code",
   "execution_count": 130,
   "metadata": {
    "scrolled": true
   },
   "outputs": [
    {
     "data": {
      "text/plain": [
       "{'Var1': 'Cachorro', 'Vars': 'Gato', 'Var3': 'Passarinho', 'Var4': 'Peixe'}"
      ]
     },
     "execution_count": 130,
     "metadata": {},
     "output_type": "execute_result"
    }
   ],
   "source": [
    "dic = { 'Var1':\"Cachorro\",'Vars':\"Gato\", 'Var3':\"Passarinho\", 'Var4':\"Peixe\"}\n",
    "dic"
   ]
  },
  {
   "cell_type": "markdown",
   "metadata": {},
   "source": [
    "Para adicionar uma nova chave"
   ]
  },
  {
   "cell_type": "code",
   "execution_count": 131,
   "metadata": {
    "scrolled": true
   },
   "outputs": [
    {
     "data": {
      "text/plain": [
       "{'Var1': 'Cachorro',\n",
       " 'Vars': 'Gato',\n",
       " 'Var3': 'Passarinho',\n",
       " 'Var4': 'Peixe',\n",
       " 'Var5': 'Cavalo-marinho'}"
      ]
     },
     "execution_count": 131,
     "metadata": {},
     "output_type": "execute_result"
    }
   ],
   "source": [
    "dic['Var5'] = \"Cavalo-marinho\"\n",
    "dic"
   ]
  },
  {
   "cell_type": "markdown",
   "metadata": {},
   "source": [
    "Alterar valor"
   ]
  },
  {
   "cell_type": "code",
   "execution_count": 132,
   "metadata": {},
   "outputs": [
    {
     "data": {
      "text/plain": [
       "{'Var1': 'Cachorro',\n",
       " 'Vars': 'Gato',\n",
       " 'Var3': 'Passarinho',\n",
       " 'Var4': 'Peixe',\n",
       " 'Var5': 'Tubarão'}"
      ]
     },
     "execution_count": 132,
     "metadata": {},
     "output_type": "execute_result"
    }
   ],
   "source": [
    "dic['Var5'] = \"Tubarão\"\n",
    "dic"
   ]
  },
  {
   "cell_type": "code",
   "execution_count": 133,
   "metadata": {
    "scrolled": true
   },
   "outputs": [
    {
     "data": {
      "text/plain": [
       "dict"
      ]
     },
     "execution_count": 133,
     "metadata": {},
     "output_type": "execute_result"
    }
   ],
   "source": [
    "type(dic)"
   ]
  },
  {
   "cell_type": "markdown",
   "metadata": {},
   "source": [
    "Forma alternativa (I) para criar dicionário:"
   ]
  },
  {
   "cell_type": "code",
   "execution_count": 134,
   "metadata": {},
   "outputs": [
    {
     "data": {
      "text/plain": [
       "{'Dep_Ecologia': ['João', 'Maria'],\n",
       " 'Dep_Zoologia': ['Roberta', 'Pedro', 'Paulo']}"
      ]
     },
     "execution_count": 134,
     "metadata": {},
     "output_type": "execute_result"
    }
   ],
   "source": [
    "Universidade = {'Dep_Ecologia': [\"João\",\"Maria\"],'Dep_Zoologia': [\"Roberta\",\"Pedro\",\"Paulo\"] }\n",
    "Universidade"
   ]
  },
  {
   "cell_type": "code",
   "execution_count": 135,
   "metadata": {},
   "outputs": [
    {
     "data": {
      "text/plain": [
       "['João', 'Maria']"
      ]
     },
     "execution_count": 135,
     "metadata": {},
     "output_type": "execute_result"
    }
   ],
   "source": [
    "Universidade['Dep_Ecologia']"
   ]
  },
  {
   "cell_type": "markdown",
   "metadata": {},
   "source": [
    "Forma alternativa (II) para criar dicionário:"
   ]
  },
  {
   "cell_type": "code",
   "execution_count": 136,
   "metadata": {},
   "outputs": [],
   "source": [
    "DicionarioNomes={}"
   ]
  },
  {
   "cell_type": "code",
   "execution_count": 137,
   "metadata": {},
   "outputs": [],
   "source": [
    "DicionarioNomes['A'] = [\"Andre\",\"Alan\"]\n",
    "DicionarioNomes['B'] = [\"Bianca\",\"Bruno\"]\n",
    "DicionarioNomes['C'] = [\"Caio\",\"Carlos\"]\n",
    "DicionarioNomes['D'] = [\"Daniele\",\"Dayane\"]"
   ]
  },
  {
   "cell_type": "markdown",
   "metadata": {},
   "source": [
    "Acessar dados dos dicionarios"
   ]
  },
  {
   "cell_type": "code",
   "execution_count": 138,
   "metadata": {},
   "outputs": [
    {
     "data": {
      "text/plain": [
       "'Cachorro'"
      ]
     },
     "execution_count": 138,
     "metadata": {},
     "output_type": "execute_result"
    }
   ],
   "source": [
    "dic[\"Var1\"]"
   ]
  },
  {
   "cell_type": "code",
   "execution_count": 139,
   "metadata": {},
   "outputs": [
    {
     "data": {
      "text/plain": [
       "{'A': ['Andre', 'Alan'],\n",
       " 'B': ['Bianca', 'Bruno'],\n",
       " 'C': ['Caio', 'Carlos'],\n",
       " 'D': ['Daniele', 'Dayane']}"
      ]
     },
     "execution_count": 139,
     "metadata": {},
     "output_type": "execute_result"
    }
   ],
   "source": [
    "DicionarioNomes"
   ]
  },
  {
   "cell_type": "code",
   "execution_count": 140,
   "metadata": {
    "scrolled": true
   },
   "outputs": [
    {
     "name": "stdout",
     "output_type": "stream",
     "text": [
      "['Andre', 'Alan']\n"
     ]
    }
   ],
   "source": [
    "print(DicionarioNomes.get('A'))"
   ]
  },
  {
   "cell_type": "markdown",
   "metadata": {},
   "source": [
    " A vantagem de usar get é que se não tiver dado não será impresso uma mensagem de erro. Veja a comparação a seguir:"
   ]
  },
  {
   "cell_type": "code",
   "execution_count": 141,
   "metadata": {},
   "outputs": [
    {
     "ename": "KeyError",
     "evalue": "'E'",
     "output_type": "error",
     "traceback": [
      "\u001b[1;31m---------------------------------------------------------------------------\u001b[0m",
      "\u001b[1;31mKeyError\u001b[0m                                  Traceback (most recent call last)",
      "\u001b[1;32m<ipython-input-141-d474c9fc6eea>\u001b[0m in \u001b[0;36m<module>\u001b[1;34m\u001b[0m\n\u001b[1;32m----> 1\u001b[1;33m \u001b[0mDicionarioNomes\u001b[0m\u001b[1;33m[\u001b[0m\u001b[1;34m'E'\u001b[0m\u001b[1;33m]\u001b[0m\u001b[1;33m\u001b[0m\u001b[1;33m\u001b[0m\u001b[0m\n\u001b[0m",
      "\u001b[1;31mKeyError\u001b[0m: 'E'"
     ]
    }
   ],
   "source": [
    "DicionarioNomes['E'] "
   ]
  },
  {
   "cell_type": "code",
   "execution_count": 142,
   "metadata": {},
   "outputs": [
    {
     "name": "stdout",
     "output_type": "stream",
     "text": [
      "None\n"
     ]
    }
   ],
   "source": [
    "print(DicionarioNomes.get('E')) # None = output quando não tem nada dentro do objeto requerido"
   ]
  },
  {
   "cell_type": "markdown",
   "metadata": {},
   "source": [
    "Cuidado com as copias"
   ]
  },
  {
   "cell_type": "code",
   "execution_count": 143,
   "metadata": {},
   "outputs": [],
   "source": [
    "DicionarioNomes2=DicionarioNomes"
   ]
  },
  {
   "cell_type": "code",
   "execution_count": 144,
   "metadata": {},
   "outputs": [],
   "source": [
    "DicionarioNomes2['A'] = [\"Antonio\"]"
   ]
  },
  {
   "cell_type": "code",
   "execution_count": 145,
   "metadata": {
    "scrolled": true
   },
   "outputs": [
    {
     "data": {
      "text/plain": [
       "{'A': ['Antonio'],\n",
       " 'B': ['Bianca', 'Bruno'],\n",
       " 'C': ['Caio', 'Carlos'],\n",
       " 'D': ['Daniele', 'Dayane']}"
      ]
     },
     "execution_count": 145,
     "metadata": {},
     "output_type": "execute_result"
    }
   ],
   "source": [
    "DicionarioNomes2"
   ]
  },
  {
   "cell_type": "markdown",
   "metadata": {},
   "source": [
    "Mas veja que o valor do primeiro dicionario tambem foi alterado"
   ]
  },
  {
   "cell_type": "code",
   "execution_count": 146,
   "metadata": {
    "scrolled": true
   },
   "outputs": [
    {
     "data": {
      "text/plain": [
       "{'A': ['Antonio'],\n",
       " 'B': ['Bianca', 'Bruno'],\n",
       " 'C': ['Caio', 'Carlos'],\n",
       " 'D': ['Daniele', 'Dayane']}"
      ]
     },
     "execution_count": 146,
     "metadata": {},
     "output_type": "execute_result"
    }
   ],
   "source": [
    "DicionarioNomes"
   ]
  },
  {
   "cell_type": "markdown",
   "metadata": {},
   "source": [
    "Para não ter esse tipo de problema use o .copy"
   ]
  },
  {
   "cell_type": "code",
   "execution_count": 147,
   "metadata": {},
   "outputs": [],
   "source": [
    "DicionarioNomes3=DicionarioNomes2.copy()\n",
    "DicionarioNomes3['A'] = [\"Alaor\"]"
   ]
  },
  {
   "cell_type": "code",
   "execution_count": 148,
   "metadata": {},
   "outputs": [
    {
     "data": {
      "text/plain": [
       "{'A': ['Alaor'],\n",
       " 'B': ['Bianca', 'Bruno'],\n",
       " 'C': ['Caio', 'Carlos'],\n",
       " 'D': ['Daniele', 'Dayane']}"
      ]
     },
     "execution_count": 148,
     "metadata": {},
     "output_type": "execute_result"
    }
   ],
   "source": [
    "DicionarioNomes3"
   ]
  },
  {
   "cell_type": "code",
   "execution_count": 149,
   "metadata": {
    "scrolled": true
   },
   "outputs": [
    {
     "data": {
      "text/plain": [
       "{'A': ['Antonio'],\n",
       " 'B': ['Bianca', 'Bruno'],\n",
       " 'C': ['Caio', 'Carlos'],\n",
       " 'D': ['Daniele', 'Dayane']}"
      ]
     },
     "execution_count": 149,
     "metadata": {},
     "output_type": "execute_result"
    }
   ],
   "source": [
    "DicionarioNomes2"
   ]
  },
  {
   "cell_type": "markdown",
   "metadata": {},
   "source": [
    "Para atualizar dados e adicionar novos campos, podemos usar a função update"
   ]
  },
  {
   "cell_type": "code",
   "execution_count": 150,
   "metadata": {
    "scrolled": true
   },
   "outputs": [
    {
     "data": {
      "text/plain": [
       "{'A': ['Alex'],\n",
       " 'B': ['Bianca', 'Bruno'],\n",
       " 'C': ['Caio', 'Carlos'],\n",
       " 'D': ['Daniele', 'Dayane'],\n",
       " 'E': ['Eliana']}"
      ]
     },
     "execution_count": 150,
     "metadata": {},
     "output_type": "execute_result"
    }
   ],
   "source": [
    "NewData = {\n",
    "    'A': ['Alex'],\n",
    "    'E': ['Eliana'],    \n",
    "}\n",
    "DicionarioNomes.update(NewData)\n",
    "DicionarioNomes"
   ]
  },
  {
   "cell_type": "markdown",
   "metadata": {},
   "source": [
    "Converter dicionario em listas"
   ]
  },
  {
   "cell_type": "code",
   "execution_count": 151,
   "metadata": {},
   "outputs": [
    {
     "name": "stdout",
     "output_type": "stream",
     "text": [
      "dict_keys(['A', 'B', 'C', 'D', 'E'])\n"
     ]
    }
   ],
   "source": [
    "print(DicionarioNomes.keys()) # Só as chaves"
   ]
  },
  {
   "cell_type": "code",
   "execution_count": 152,
   "metadata": {},
   "outputs": [
    {
     "name": "stdout",
     "output_type": "stream",
     "text": [
      "dict_values([['Alex'], ['Bianca', 'Bruno'], ['Caio', 'Carlos'], ['Daniele', 'Dayane'], ['Eliana']])\n"
     ]
    }
   ],
   "source": [
    "print(DicionarioNomes.values()) # Só os valores"
   ]
  },
  {
   "cell_type": "code",
   "execution_count": 153,
   "metadata": {},
   "outputs": [
    {
     "name": "stdout",
     "output_type": "stream",
     "text": [
      "dict_items([('A', ['Alex']), ('B', ['Bianca', 'Bruno']), ('C', ['Caio', 'Carlos']), ('D', ['Daniele', 'Dayane']), ('E', ['Eliana'])])\n"
     ]
    }
   ],
   "source": [
    "print(DicionarioNomes.items()) # Todas as Keys + Values"
   ]
  },
  {
   "cell_type": "markdown",
   "metadata": {},
   "source": [
    "# Loops: for & while"
   ]
  },
  {
   "cell_type": "markdown",
   "metadata": {},
   "source": [
    "## for"
   ]
  },
  {
   "cell_type": "code",
   "execution_count": 154,
   "metadata": {},
   "outputs": [],
   "source": [
    "pares = [2,4,6,8,10,12,14,16,18,20]"
   ]
  },
  {
   "cell_type": "code",
   "execution_count": 155,
   "metadata": {
    "scrolled": true
   },
   "outputs": [
    {
     "name": "stdout",
     "output_type": "stream",
     "text": [
      "2\n",
      "4\n",
      "6\n",
      "8\n",
      "10\n",
      "12\n",
      "14\n",
      "16\n",
      "18\n",
      "20\n"
     ]
    }
   ],
   "source": [
    "for n in pares:\n",
    "    print (n)"
   ]
  },
  {
   "cell_type": "markdown",
   "metadata": {},
   "source": [
    "Curiosidade, você pode espeficificar na função print, o argumento end que vai definir o que deve ser impresso depois do caracter, no exemplo a seguir vamos imprimir o numero + o caracter \"_\""
   ]
  },
  {
   "cell_type": "code",
   "execution_count": 156,
   "metadata": {},
   "outputs": [
    {
     "name": "stdout",
     "output_type": "stream",
     "text": [
      "2_4_6_8_10_12_14_16_18_20_"
     ]
    }
   ],
   "source": [
    "for n in pares:\n",
    "    print (n, end = \"_\") "
   ]
  },
  {
   "cell_type": "markdown",
   "metadata": {},
   "source": [
    "Vamos usar objetos criados anteriormente para mostrar a aplicação com listas, tuplas e dicionarios"
   ]
  },
  {
   "cell_type": "code",
   "execution_count": 157,
   "metadata": {},
   "outputs": [
    {
     "data": {
      "text/plain": [
       "[1, 1, 2, 5, 8, 50]"
      ]
     },
     "execution_count": 157,
     "metadata": {},
     "output_type": "execute_result"
    }
   ],
   "source": [
    "objeto4 # Lista\n"
   ]
  },
  {
   "cell_type": "code",
   "execution_count": 158,
   "metadata": {},
   "outputs": [
    {
     "name": "stdout",
     "output_type": "stream",
     "text": [
      "1\n",
      "1\n",
      "2\n",
      "5\n",
      "8\n",
      "50\n"
     ]
    }
   ],
   "source": [
    "for n in objeto4:\n",
    "    print (n)"
   ]
  },
  {
   "cell_type": "code",
   "execution_count": 159,
   "metadata": {},
   "outputs": [
    {
     "data": {
      "text/plain": [
       "('Argentina', 'Brasil', 'Colombia', 'Dinamarca', 'Estados Unidos', 'França')"
      ]
     },
     "execution_count": 159,
     "metadata": {},
     "output_type": "execute_result"
    }
   ],
   "source": [
    "objeto15 # Tupla"
   ]
  },
  {
   "cell_type": "code",
   "execution_count": 160,
   "metadata": {
    "scrolled": true
   },
   "outputs": [
    {
     "name": "stdout",
     "output_type": "stream",
     "text": [
      "Argentina\n",
      "Brasil\n",
      "Colombia\n",
      "Dinamarca\n",
      "Estados Unidos\n",
      "França\n"
     ]
    }
   ],
   "source": [
    "for n in objeto15:\n",
    "    print (n)"
   ]
  },
  {
   "cell_type": "code",
   "execution_count": 161,
   "metadata": {},
   "outputs": [
    {
     "data": {
      "text/plain": [
       "{'A': ['Alex'],\n",
       " 'B': ['Bianca', 'Bruno'],\n",
       " 'C': ['Caio', 'Carlos'],\n",
       " 'D': ['Daniele', 'Dayane'],\n",
       " 'E': ['Eliana']}"
      ]
     },
     "execution_count": 161,
     "metadata": {},
     "output_type": "execute_result"
    }
   ],
   "source": [
    "DicionarioNomes # Dicionario"
   ]
  },
  {
   "cell_type": "code",
   "execution_count": 162,
   "metadata": {
    "scrolled": true
   },
   "outputs": [
    {
     "name": "stdout",
     "output_type": "stream",
     "text": [
      "A\n",
      "B\n",
      "C\n",
      "D\n",
      "E\n"
     ]
    }
   ],
   "source": [
    "for n in DicionarioNomes:\n",
    "    print (n)"
   ]
  },
  {
   "cell_type": "code",
   "execution_count": 163,
   "metadata": {},
   "outputs": [
    {
     "name": "stdout",
     "output_type": "stream",
     "text": [
      "A: ['Alex']\n",
      "B: ['Bianca', 'Bruno']\n",
      "C: ['Caio', 'Carlos']\n",
      "D: ['Daniele', 'Dayane']\n",
      "E: ['Eliana']\n"
     ]
    }
   ],
   "source": [
    "for n in DicionarioNomes:\n",
    "    print (f'{n}: {DicionarioNomes[n]}')"
   ]
  },
  {
   "cell_type": "markdown",
   "metadata": {},
   "source": [
    "# While"
   ]
  },
  {
   "cell_type": "code",
   "execution_count": 164,
   "metadata": {
    "scrolled": true
   },
   "outputs": [
    {
     "name": "stdout",
     "output_type": "stream",
     "text": [
      "O valor é:\t 0 \n",
      "\n",
      "O valor é:\t 2 \n",
      "\n",
      "O valor é:\t 4 \n",
      "\n",
      "O valor é:\t 6 \n",
      "\n",
      "O valor é:\t 8 \n",
      "\n",
      "O valor é:\t 10 \n",
      "\n",
      "O valor é:\t 12 \n",
      "\n",
      "O valor é:\t 14 \n",
      "\n",
      "O valor é:\t 16 \n",
      "\n",
      "O valor é:\t 18 \n",
      "\n",
      "O valor é:\t 20 \n",
      "\n"
     ]
    }
   ],
   "source": [
    "x=0\n",
    "while x<=20:\n",
    "    print(\"O valor é:\\t\",x,\"\\n\")\n",
    "    x=x+2 # esse passo se chama incrementing"
   ]
  },
  {
   "cell_type": "code",
   "execution_count": 165,
   "metadata": {
    "scrolled": false
   },
   "outputs": [
    {
     "name": "stdout",
     "output_type": "stream",
     "text": [
      "Digite um numero para somar ou 0 para sair: 10\n",
      "A soma acumulada é: 10\n",
      "Digite um numero para somar ou 0 para sair: 1\n",
      "A soma acumulada é: 11\n",
      "Digite um numero para somar ou 0 para sair: 0\n",
      "Fim\n"
     ]
    }
   ],
   "source": [
    "s = 0 \n",
    "while True:\n",
    "    v = int(input(\"Digite um numero para somar ou 0 para sair: \"))\n",
    "    if v == 0:\n",
    "        print(\"Fim\")\n",
    "        break        \n",
    "    s += v # simbolodo s+= representa s=s+... no caso s=s+v veja tabela pag 91 do livro de introdução a programação com Python de  Menezes 3th edição\n",
    "    print(\"A soma acumulada é:\", s)"
   ]
  },
  {
   "cell_type": "markdown",
   "metadata": {},
   "source": [
    "Exemplos de operadores de atribuição especial\n",
    "\n",
    "| Operador | Exemplo | Equivalência |\n",
    "| --- | --- | --- |\n",
    "| += | x+=1 |  x=x+1 |\n",
    "| -= | x-=1 |  x=x-1 |\n",
    "| *= | x*=2 |  x=x*2 |\n",
    "| /= | x/=2 |  x=x/2 |\n",
    "| **= | x**=2 |  x=x**2 |"
   ]
  },
  {
   "cell_type": "markdown",
   "metadata": {},
   "source": [
    "Forma mais sofisticada de fazer loop"
   ]
  },
  {
   "cell_type": "code",
   "execution_count": 166,
   "metadata": {},
   "outputs": [
    {
     "name": "stdout",
     "output_type": "stream",
     "text": [
      "2\n",
      "3\n",
      "4\n",
      "10\n"
     ]
    }
   ],
   "source": [
    "x = [2,3,4,10]\n",
    "for itens in range(len(x)):\n",
    "    print(x[itens])"
   ]
  },
  {
   "cell_type": "code",
   "execution_count": 167,
   "metadata": {},
   "outputs": [
    {
     "data": {
      "text/plain": [
       "[0, 1, 2, 3]"
      ]
     },
     "execution_count": 167,
     "metadata": {},
     "output_type": "execute_result"
    }
   ],
   "source": [
    "list(range(len(x)))"
   ]
  },
  {
   "cell_type": "code",
   "execution_count": 168,
   "metadata": {},
   "outputs": [],
   "source": [
    "## Combinacoes de ifs e funções"
   ]
  },
  {
   "cell_type": "code",
   "execution_count": 169,
   "metadata": {},
   "outputs": [],
   "source": [
    "def contadorMaior10(numeros):\n",
    "    total = 0 \n",
    "    for x in numeros:\n",
    "        if x<10:\n",
    "            total +=1\n",
    "    return total"
   ]
  },
  {
   "cell_type": "code",
   "execution_count": 170,
   "metadata": {},
   "outputs": [],
   "source": [
    "listaNumeros = [1,2,4,8,16,32,64]"
   ]
  },
  {
   "cell_type": "code",
   "execution_count": 171,
   "metadata": {
    "scrolled": false
   },
   "outputs": [
    {
     "data": {
      "text/plain": [
       "4"
      ]
     },
     "execution_count": 171,
     "metadata": {},
     "output_type": "execute_result"
    }
   ],
   "source": [
    "contadorMaior10(listaNumeros)"
   ]
  },
  {
   "cell_type": "markdown",
   "metadata": {},
   "source": [
    "# API (Application Programming Interface)\n",
    "APIs permitem que você traga dados de outras plataformas para sua aplicação. No Python para trabalhar com APIs recomenda-se o uso do pacote requests. Para exemplificar o uso de uma API, vamos ver alguns exemplos de possiveis aplicações para a mesma. "
   ]
  },
  {
   "cell_type": "code",
   "execution_count": 172,
   "metadata": {
    "scrolled": true
   },
   "outputs": [
    {
     "name": "stdout",
     "output_type": "stream",
     "text": [
      "Requirement already satisfied: requests in c:\\programdata\\anaconda3\\lib\\site-packages (2.25.1)\n",
      "Requirement already satisfied: urllib3<1.27,>=1.21.1 in c:\\programdata\\anaconda3\\lib\\site-packages (from requests) (1.26.4)\n",
      "Requirement already satisfied: idna<3,>=2.5 in c:\\programdata\\anaconda3\\lib\\site-packages (from requests) (2.10)\n",
      "Requirement already satisfied: chardet<5,>=3.0.2 in c:\\programdata\\anaconda3\\lib\\site-packages (from requests) (4.0.0)\n",
      "Requirement already satisfied: certifi>=2017.4.17 in c:\\programdata\\anaconda3\\lib\\site-packages (from requests) (2020.12.5)\n"
     ]
    }
   ],
   "source": [
    "!pip install requests"
   ]
  },
  {
   "cell_type": "code",
   "execution_count": 173,
   "metadata": {},
   "outputs": [],
   "source": [
    "import requests as r"
   ]
  },
  {
   "cell_type": "markdown",
   "metadata": {},
   "source": [
    "\n",
    "## EX. 1 API para converção de moedas"
   ]
  },
  {
   "cell_type": "code",
   "execution_count": 174,
   "metadata": {},
   "outputs": [],
   "source": [
    "url = 'https://api.exchangerate-api.com/v6/latest' # Acessando a URL é o que chamamos de JSON (Javascript Object Notation), que representa os dados em padrão JavaScript. O padrão xml  já foi usado no passado, mas hoje está em desuso.   \n",
    "req = r.get(url) # Pega os dados da URL (no momento em que você rodar o código) e joga para dentro do objeto"
   ]
  },
  {
   "cell_type": "code",
   "execution_count": 175,
   "metadata": {},
   "outputs": [
    {
     "data": {
      "text/plain": [
       "200"
      ]
     },
     "execution_count": 175,
     "metadata": {},
     "output_type": "execute_result"
    }
   ],
   "source": [
    "req.status_code # Ao conferir o status, se estiver tudo certo vai aparecer o numero 200 como resposta"
   ]
  },
  {
   "cell_type": "code",
   "execution_count": 176,
   "metadata": {},
   "outputs": [
    {
     "name": "stdout",
     "output_type": "stream",
     "text": [
      "{'result': 'success', 'provider': 'https://www.exchangerate-api.com', 'documentation': 'https://www.exchangerate-api.com/docs/free', 'WARNING_NEW_ENDPOINT': 'Swap *api.exchangerate-api.com* with *open.er-api.com* for better servers!', 'terms_of_use': 'https://www.exchangerate-api.com/terms', 'time_last_update_unix': 1630022551, 'time_last_update_utc': 'Fri, 27 Aug 2021 00:02:31 +0000', 'time_next_update_unix': 1630110621, 'time_next_update_utc': 'Sat, 28 Aug 2021 00:30:21 +0000', 'time_eol_unix': 0, 'base_code': 'USD', 'rates': {'USD': 1, 'AED': 3.67, 'AFN': 81.57, 'ALL': 103.59, 'AMD': 492.57, 'ANG': 1.79, 'AOA': 639.27, 'ARS': 97.46, 'AUD': 1.38, 'AWG': 1.79, 'AZN': 1.7, 'BAM': 1.66, 'BBD': 2, 'BDT': 85.27, 'BGN': 1.66, 'BHD': 0.376, 'BIF': 1977.92, 'BMD': 1, 'BND': 1.35, 'BOB': 6.89, 'BRL': 5.23, 'BSD': 1, 'BTN': 74.16, 'BWP': 11.25, 'BYN': 2.51, 'BZD': 2, 'CAD': 1.26, 'CDF': 1988.5, 'CHF': 0.917, 'CLP': 783.88, 'CNY': 6.48, 'COP': 3878.55, 'CRC': 621.17, 'CUC': 1, 'CUP': 25.75, 'CVE': 93.72, 'CZK': 21.76, 'DJF': 177.72, 'DKK': 6.34, 'DOP': 56.91, 'DZD': 135.51, 'EGP': 15.71, 'ERN': 15, 'ETB': 45.61, 'EUR': 0.85, 'FJD': 2.1, 'FKP': 0.728, 'FOK': 6.34, 'GBP': 0.728, 'GEL': 3.12, 'GGP': 0.728, 'GHS': 6.04, 'GIP': 0.728, 'GMD': 52.08, 'GNF': 9812.27, 'GTQ': 7.73, 'GYD': 209.33, 'HKD': 7.79, 'HNL': 23.77, 'HRK': 6.4, 'HTG': 97.95, 'HUF': 297.43, 'IDR': 14553.03, 'ILS': 3.24, 'IMP': 0.728, 'INR': 74.16, 'IQD': 1460.62, 'IRR': 41964.28, 'ISK': 126.25, 'JMD': 152.73, 'JOD': 0.709, 'JPY': 110.1, 'KES': 109.71, 'KGS': 84.71, 'KHR': 4083.3, 'KID': 1.38, 'KMF': 418.14, 'KRW': 1169.35, 'KWD': 0.3, 'KYD': 0.833, 'KZT': 426.52, 'LAK': 9569.22, 'LBP': 1507.5, 'LKR': 200.06, 'LRD': 171.77, 'LSL': 14.93, 'LYD': 4.53, 'MAD': 8.94, 'MDL': 17.69, 'MGA': 3917.18, 'MKD': 52.45, 'MMK': 1645.82, 'MNT': 2855.92, 'MOP': 8.02, 'MRU': 36.17, 'MUR': 42.8, 'MVR': 15.35, 'MWK': 811.52, 'MXN': 20.34, 'MYR': 4.2, 'MZN': 63.96, 'NAD': 14.93, 'NGN': 424.93, 'NIO': 35.1, 'NOK': 8.82, 'NPR': 118.66, 'NZD': 1.44, 'OMR': 0.384, 'PAB': 1, 'PEN': 4.09, 'PGK': 3.53, 'PHP': 49.98, 'PKR': 166.11, 'PLN': 3.89, 'PYG': 6993.97, 'QAR': 3.64, 'RON': 4.19, 'RSD': 99.96, 'RUB': 74.09, 'RWF': 1007.74, 'SAR': 3.75, 'SBD': 7.96, 'SCR': 14.14, 'SDG': 442.67, 'SEK': 8.7, 'SGD': 1.35, 'SHP': 0.728, 'SLL': 10332.81, 'SOS': 579.08, 'SRD': 21.45, 'SSP': 177.72, 'STN': 20.82, 'SYP': 1482.11, 'SZL': 14.93, 'THB': 32.77, 'TJS': 11.34, 'TMT': 3.5, 'TND': 2.79, 'TOP': 2.25, 'TRY': 8.38, 'TTD': 6.78, 'TVD': 1.38, 'TWD': 27.93, 'TZS': 2316.89, 'UAH': 26.77, 'UGX': 3536.36, 'UYU': 42.84, 'UZS': 10695.15, 'VES': 4126727.78, 'VND': 22842.42, 'VUV': 111.91, 'WST': 2.55, 'XAF': 557.53, 'XCD': 2.7, 'XDR': 0.704, 'XOF': 557.53, 'XPF': 101.43, 'YER': 250.72, 'ZAR': 14.93, 'ZMW': 16.49}}\n"
     ]
    }
   ],
   "source": [
    "dados = req.json()\n",
    "print(dados)"
   ]
  },
  {
   "cell_type": "code",
   "execution_count": 177,
   "metadata": {
    "scrolled": true
   },
   "outputs": [
    {
     "name": "stdout",
     "output_type": "stream",
     "text": [
      "Informe o valor em R$ a ser convertido: 100\n",
      "R$100.0 em dólares valem US$ 19.1\n"
     ]
    }
   ],
   "source": [
    "ValorReais = float(input('Informe o valor em R$ a ser convertido: '))\n",
    "cotacao = dados['rates']['BRL']\n",
    "print(f'R${ValorReais} em dólares valem US$ {(ValorReais/cotacao):.3}')"
   ]
  },
  {
   "cell_type": "markdown",
   "metadata": {},
   "source": [
    "## EX. 2 API para coleta de endereço-CEP"
   ]
  },
  {
   "cell_type": "code",
   "execution_count": 178,
   "metadata": {},
   "outputs": [],
   "source": [
    "url = 'https://viacep.com.br/ws/70100000/json'\n",
    "req = r.get(url) "
   ]
  },
  {
   "cell_type": "code",
   "execution_count": 179,
   "metadata": {
    "scrolled": true
   },
   "outputs": [
    {
     "data": {
      "text/plain": [
       "200"
      ]
     },
     "execution_count": 179,
     "metadata": {},
     "output_type": "execute_result"
    }
   ],
   "source": [
    "req.status_code # Ao conferir o status, se estiver tudo certo vai aparecer o numero 200 como resposta"
   ]
  },
  {
   "cell_type": "code",
   "execution_count": 180,
   "metadata": {},
   "outputs": [
    {
     "name": "stdout",
     "output_type": "stream",
     "text": [
      "{'cep': '70100-000', 'logradouro': 'Praça dos Três Poderes', 'complemento': '', 'bairro': 'Zona Cívico-Administrativa', 'localidade': 'Brasília', 'uf': 'DF', 'ibge': '5300108', 'gia': '', 'ddd': '61', 'siafi': '9701'}\n"
     ]
    }
   ],
   "source": [
    "dados = req.json()\n",
    "print(dados)"
   ]
  },
  {
   "cell_type": "code",
   "execution_count": 181,
   "metadata": {},
   "outputs": [
    {
     "data": {
      "text/plain": [
       "'Praça dos Três Poderes'"
      ]
     },
     "execution_count": 181,
     "metadata": {},
     "output_type": "execute_result"
    }
   ],
   "source": [
    "dados['logradouro']"
   ]
  },
  {
   "cell_type": "code",
   "execution_count": 182,
   "metadata": {},
   "outputs": [],
   "source": [
    "def localiza_end(cep):\n",
    "    url = 'https://viacep.com.br/ws/{}/json'.format(cep)\n",
    "    req = r.get(url) \n",
    "    dados = req.json()\n",
    "    print(dados['logradouro'])    "
   ]
  },
  {
   "cell_type": "code",
   "execution_count": 183,
   "metadata": {
    "scrolled": true
   },
   "outputs": [
    {
     "name": "stdout",
     "output_type": "stream",
     "text": [
      "Campus Universitário Darcy Ribeiro\n"
     ]
    }
   ],
   "source": [
    "localiza_end('70910900')"
   ]
  },
  {
   "cell_type": "code",
   "execution_count": 184,
   "metadata": {},
   "outputs": [
    {
     "name": "stdout",
     "output_type": "stream",
     "text": [
      "Rua Pedro Vicente\n"
     ]
    }
   ],
   "source": [
    "localiza_end('01109010')"
   ]
  },
  {
   "cell_type": "markdown",
   "metadata": {},
   "source": [
    "## Dados sobre linhas de telefone"
   ]
  },
  {
   "cell_type": "code",
   "execution_count": 185,
   "metadata": {},
   "outputs": [
    {
     "name": "stdout",
     "output_type": "stream",
     "text": [
      "Requirement already satisfied: phonenumbers in c:\\programdata\\anaconda3\\lib\\site-packages (8.12.31)\n"
     ]
    }
   ],
   "source": [
    "!pip install phonenumbers"
   ]
  },
  {
   "cell_type": "code",
   "execution_count": 186,
   "metadata": {},
   "outputs": [
    {
     "name": "stdout",
     "output_type": "stream",
     "text": [
      "Digite o telefone no formato +551140041234: +553538291122\n",
      "Este número é da empresa: \n",
      "A localização desta linha é: Lavras - MG\n"
     ]
    }
   ],
   "source": [
    "import phonenumbers\n",
    "from phonenumbers import geocoder, carrier\n",
    "\n",
    "NumeroCru = input('Digite o telefone no formato +551140041234: ')\n",
    "\n",
    "NumeroTelefone = phonenumbers.parse(NumeroCru)\n",
    "\n",
    "Empresa = carrier.name_for_number(NumeroTelefone, 'pt') # Encontre a empresa telefonica dessa linha\n",
    "\n",
    "Localizacao = geocoder.description_for_number(NumeroTelefone, 'pt') # Encontre a localidade de registro dessa linha\n",
    "\n",
    "print(\"Este número é da empresa:\", Empresa)\n",
    "print(\"A localização desta linha é:\", Localizacao)"
   ]
  },
  {
   "cell_type": "code",
   "execution_count": null,
   "metadata": {},
   "outputs": [],
   "source": []
  }
 ],
 "metadata": {
  "interpreter": {
   "hash": "b3ba2566441a7c06988d0923437866b63cedc61552a5af99d1f4fb67d367b25f"
  },
  "kernelspec": {
   "display_name": "Python 3 (ipykernel)",
   "language": "python",
   "name": "python3"
  },
  "language_info": {
   "codemirror_mode": {
    "name": "ipython",
    "version": 3
   },
   "file_extension": ".py",
   "mimetype": "text/x-python",
   "name": "python",
   "nbconvert_exporter": "python",
   "pygments_lexer": "ipython3",
   "version": "3.9.7"
  }
 },
 "nbformat": 4,
 "nbformat_minor": 4
}
