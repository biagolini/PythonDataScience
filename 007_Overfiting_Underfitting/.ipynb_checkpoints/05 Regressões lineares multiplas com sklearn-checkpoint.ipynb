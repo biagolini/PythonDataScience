{
 "cells": [
  {
   "cell_type": "markdown",
   "metadata": {},
   "source": [
    "# Tutorial Python 05 - Regressões lineares múltiplas com sklearn"
   ]
  },
  {
   "cell_type": "markdown",
   "metadata": {},
   "source": [
    "Limpar memória do Python"
   ]
  },
  {
   "cell_type": "code",
   "execution_count": 1,
   "metadata": {},
   "outputs": [],
   "source": [
    "%reset -f"
   ]
  },
  {
   "cell_type": "markdown",
   "metadata": {},
   "source": [
    "## Visão geral\n",
    "### Porque usar o sklearn?\n",
    "Nos últimos tutoriais aprendemos a fazer regressões como  pandas, que é uma ferramenta muito útil no dia-dia. De certa forma, podemos dizer que o pandas é um pacote que se aplica muito bem para o dia-dia da estatística básica. \n",
    "\n",
    "Mas para utilizar algoritimos de machine learning, o melhor pacote é o sklearn. O sklearn foi construido em cima de outros pracotes pré-existentes (NumPy, SciPy e matplotlin), portanto, o pacote faz uma boa integração das funções pré-existentes.\n",
    "\n",
    "### Porque o sklean é melhor que o pandas?\n",
    "* skelarn tem melhor documentação, com exemplos práticos de como aplicar as funções presentes no pacote (disponível em: https://scikit-learn.org/stable/)\n",
    "* skelarn tem maior variedade de aplicações, tais como:\n",
    "  * Regression\n",
    "  * Classification\n",
    "  * Clustering\n",
    "  * Support vector machines\n",
    "  * Dimensionality reduction\n",
    "* skelarn também é mais rápido que o pandas\n",
    "* skelarn é famoso por ser numericalmente estavel (numerical stability).Isso quer dizer que o pacote lida bem com números com uma grande variedade de escalas. Resumidamente, se você está trabalhando com machine learning, as vezes aparece um numero muito grande ou muito pequeno. Nesses casos, se o pacote que você utiliza não for bom, o seu codigo pode \"quebrar\". Exemplo, imagine que você precisa multiplicar um valor por uma dada variável, e derrepente essa variável assume um valor de 0.0000001, se você arrendar esse valor para 4 casas decimais, o valor arredondado será de zero. A partir daí, qualquer valor que multiplique o padrametro, será zero também.\n",
    "\n",
    "### Limitação do sklean\n",
    "O sklean não é o melhor pacote para deeplearning. Nesses casos os melhores pacotes são:\n",
    "* tensorflow https://www.tensorflow.org/learn\n",
    "* keras  https://keras.io/\n",
    "* PyTorch https://pytorch.org/\n",
    "\n",
    "### Diferenças de aplicação\n",
    "A maior diferença da aplicação do pandas para o sklearn é que no pandas você informa insere os dados para análise por meio de data frames enquanto no sklearn você usa arrays.\n",
    "\n",
    "\n",
    "### Variações do machine learning\n",
    "Existem 3 tipos de método de machine learning\n",
    "* Supervisionada (Supervised)\n",
    "* Não-supervisionada (Unsupervised)\n",
    "* Reforço (Reinforcement)\n",
    "\n",
    "É importante notar, que nós apenas \"vemos\" o aprendizado supervisionado. O modelo de aprendizado supervisioando contem uma ou mais variáveis preditoras (inputs) e uma variável resposta (output). \n",
    "\n",
    "\n",
    "### Diferença entre modelos de Machine Learning e Esatatística tradicional\n",
    "Apesar de os modelos matemático serem os mesmos, é importante notar que algumas diferenças de conceitos podem influenciar a escolha do método, e a definição de alguns parâmetros nas análises. O exemplo apresentado anteriormente, dizia respeito a dados de um artigo científico que buscava entender se elementos do habitat afetam o comportamento de uma ave. Nesse caso, o objetivo era avaliar se uma variável x influencia uma variável y.\n",
    "Quando lhe damos com machine learning, o objetivo é outro. A ideia é fornecer valores de observações de variáveis x, e o algoritmo fazer uma previsão sobre a y. \n",
    "Trazendo essa comparação para outro exemplo. Suponha dois cenários: i) um universitário quer saber se temperatura do dia influencia na venda de sorvetes; ii) um dono de supermercado quer saber qual é a previsão de sorvetes que serão vendidos na sua loja na próxima semana. No cenário i, o universitário irá aplicar um modelo tradicional de estatística, e irá avaliar se existem evidências que a temperatura do dia afeta a venda de sorvertes (eg. Fazer uma regressão linear entre Nº sovertes vendido ~ temperatura do dia, e avaliar o valor de p do coeficiente de regressão linear). No cenário ii, o dono da loja não está interessado no valor de p, a única coisa que ele quer saber é qual é a previsão (quantos/números) de potes de sorvete que sertão vendidos na semana seguinte.\n",
    "Portanto, de forma geral, no cenário i, o universitário irá aplicar um modelo de estatística tradicional, enquanto no cenário ii o dono do supermercado vai aplicar um modelo de machine learning. Note que como o objetivo no cenário ii é prever o número de sorvetes vendidos, faz mais sentido não padronizar valores de y, dado que tal fator dificultaria a interpretação da previsão do modelo.\n"
   ]
  },
  {
   "cell_type": "markdown",
   "metadata": {},
   "source": [
    "## Carregar pacotes necessário "
   ]
  },
  {
   "cell_type": "code",
   "execution_count": 2,
   "metadata": {},
   "outputs": [],
   "source": [
    "# Como foi dito anteriormente, o sklearn foi construido em cima dos pacotes: NumPy, pandas, matplotlib and seaborn. Portanto vamos carregar esses pacotes\n",
    "import numpy as np\n",
    "import pandas as pd\n",
    "import matplotlib.pyplot as plt\n",
    "# Adicionalmente, vamos carregar o seaborn para gerar gráficos interessantes para ilustrar esse tutorial\n",
    "import seaborn as sns\n",
    "sns.set()\n",
    "\n",
    "# Para completar, para aplicarmos nosso primeiro modelo a ser aplicado em  machine learning, vamos carregar o sklearn\n",
    "from sklearn.linear_model import LinearRegression # O modulo LinearRegression vai trazer todas as ferramentas que vamos precisar para fazer nossos primeiros modelos de regressão linear no sklearn\n"
   ]
  },
  {
   "cell_type": "markdown",
   "metadata": {},
   "source": [
    "## Carregue o banco de dados\n",
    "Aqui usaremos o conjunto de dados publicado por Biagolini-Jr. et al 2021 https://doi.org/10.1007/s00265-021-03015-2. Esse conjunto de dados consiste em dados de filmagem de display de Tiziu registradas em Brasília/DF, coletadas em duas áreas.\n",
    "\n",
    "Como estamos lhe dando com Machine learning, a ideia agora será prever qual é a duração de saltos de tiziu, dado determinadas condições ambientais.\n",
    "\n",
    "Carregar os dados seguindo o mesmo procedimento usado nos outros tutoriais:"
   ]
  },
  {
   "cell_type": "code",
   "execution_count": 3,
   "metadata": {
    "scrolled": false
   },
   "outputs": [],
   "source": [
    "dados = pd.read_excel('Dados_Biagolini-Jr_et_al_2021.xlsx')\n",
    "nonPAD = dados[dados[\"Disturbance\"] == 0]"
   ]
  },
  {
   "cell_type": "markdown",
   "metadata": {},
   "source": [
    "Veja a descrição geral do novo conjunto de dados"
   ]
  },
  {
   "cell_type": "code",
   "execution_count": 4,
   "metadata": {
    "scrolled": true
   },
   "outputs": [
    {
     "data": {
      "text/html": [
       "<div>\n",
       "<style scoped>\n",
       "    .dataframe tbody tr th:only-of-type {\n",
       "        vertical-align: middle;\n",
       "    }\n",
       "\n",
       "    .dataframe tbody tr th {\n",
       "        vertical-align: top;\n",
       "    }\n",
       "\n",
       "    .dataframe thead th {\n",
       "        text-align: right;\n",
       "    }\n",
       "</style>\n",
       "<table border=\"1\" class=\"dataframe\">\n",
       "  <thead>\n",
       "    <tr style=\"text-align: right;\">\n",
       "      <th></th>\n",
       "      <th>nLeaps</th>\n",
       "      <th>LeapDuration</th>\n",
       "      <th>LeapRate</th>\n",
       "      <th>Nseeds</th>\n",
       "      <th>ShadowIntensity</th>\n",
       "      <th>VegetationDensity</th>\n",
       "      <th>Disturbance</th>\n",
       "      <th>Truck</th>\n",
       "      <th>Fire</th>\n",
       "      <th>Mower</th>\n",
       "      <th>BorderDistance</th>\n",
       "      <th>RoadDistance</th>\n",
       "      <th>LakeDistance</th>\n",
       "      <th>DawnTime</th>\n",
       "      <th>DayYear</th>\n",
       "      <th>Longitude</th>\n",
       "      <th>Latitude</th>\n",
       "    </tr>\n",
       "  </thead>\n",
       "  <tbody>\n",
       "    <tr>\n",
       "      <th>count</th>\n",
       "      <td>39.000000</td>\n",
       "      <td>39.000000</td>\n",
       "      <td>39.000000</td>\n",
       "      <td>39.000000</td>\n",
       "      <td>39.000000</td>\n",
       "      <td>39.000000</td>\n",
       "      <td>39.0</td>\n",
       "      <td>39.000000</td>\n",
       "      <td>39.000000</td>\n",
       "      <td>39.000000</td>\n",
       "      <td>39.000000</td>\n",
       "      <td>39.000000</td>\n",
       "      <td>39.000000</td>\n",
       "      <td>39.000000</td>\n",
       "      <td>39.000000</td>\n",
       "      <td>39.000000</td>\n",
       "      <td>39.000000</td>\n",
       "    </tr>\n",
       "    <tr>\n",
       "      <th>mean</th>\n",
       "      <td>19.589744</td>\n",
       "      <td>464.049740</td>\n",
       "      <td>14.121309</td>\n",
       "      <td>497.740071</td>\n",
       "      <td>1.768495</td>\n",
       "      <td>0.334628</td>\n",
       "      <td>0.0</td>\n",
       "      <td>0.025641</td>\n",
       "      <td>0.153846</td>\n",
       "      <td>0.179487</td>\n",
       "      <td>86.085695</td>\n",
       "      <td>232.430726</td>\n",
       "      <td>409.479839</td>\n",
       "      <td>2.621797</td>\n",
       "      <td>52.461538</td>\n",
       "      <td>-47.866115</td>\n",
       "      <td>-15.757153</td>\n",
       "    </tr>\n",
       "    <tr>\n",
       "      <th>std</th>\n",
       "      <td>8.349970</td>\n",
       "      <td>69.785181</td>\n",
       "      <td>2.805358</td>\n",
       "      <td>438.218596</td>\n",
       "      <td>1.095031</td>\n",
       "      <td>0.108133</td>\n",
       "      <td>0.0</td>\n",
       "      <td>0.160128</td>\n",
       "      <td>0.365518</td>\n",
       "      <td>0.388776</td>\n",
       "      <td>45.235166</td>\n",
       "      <td>144.164528</td>\n",
       "      <td>229.672620</td>\n",
       "      <td>1.348704</td>\n",
       "      <td>19.005326</td>\n",
       "      <td>0.008630</td>\n",
       "      <td>0.003812</td>\n",
       "    </tr>\n",
       "    <tr>\n",
       "      <th>min</th>\n",
       "      <td>11.000000</td>\n",
       "      <td>318.772727</td>\n",
       "      <td>7.320644</td>\n",
       "      <td>0.000000</td>\n",
       "      <td>0.256048</td>\n",
       "      <td>0.092675</td>\n",
       "      <td>0.0</td>\n",
       "      <td>0.000000</td>\n",
       "      <td>0.000000</td>\n",
       "      <td>0.000000</td>\n",
       "      <td>7.988528</td>\n",
       "      <td>29.696078</td>\n",
       "      <td>11.245272</td>\n",
       "      <td>0.798100</td>\n",
       "      <td>18.000000</td>\n",
       "      <td>-47.874406</td>\n",
       "      <td>-15.764221</td>\n",
       "    </tr>\n",
       "    <tr>\n",
       "      <th>25%</th>\n",
       "      <td>15.000000</td>\n",
       "      <td>415.995215</td>\n",
       "      <td>12.401862</td>\n",
       "      <td>266.130000</td>\n",
       "      <td>0.926267</td>\n",
       "      <td>0.262368</td>\n",
       "      <td>0.0</td>\n",
       "      <td>0.000000</td>\n",
       "      <td>0.000000</td>\n",
       "      <td>0.000000</td>\n",
       "      <td>48.870137</td>\n",
       "      <td>122.838805</td>\n",
       "      <td>185.780428</td>\n",
       "      <td>1.527200</td>\n",
       "      <td>33.500000</td>\n",
       "      <td>-47.873101</td>\n",
       "      <td>-15.760967</td>\n",
       "    </tr>\n",
       "    <tr>\n",
       "      <th>50%</th>\n",
       "      <td>18.000000</td>\n",
       "      <td>450.905660</td>\n",
       "      <td>14.826012</td>\n",
       "      <td>375.240000</td>\n",
       "      <td>1.581984</td>\n",
       "      <td>0.347358</td>\n",
       "      <td>0.0</td>\n",
       "      <td>0.000000</td>\n",
       "      <td>0.000000</td>\n",
       "      <td>0.000000</td>\n",
       "      <td>96.152144</td>\n",
       "      <td>166.642358</td>\n",
       "      <td>545.096972</td>\n",
       "      <td>2.072500</td>\n",
       "      <td>59.000000</td>\n",
       "      <td>-47.872535</td>\n",
       "      <td>-15.755073</td>\n",
       "    </tr>\n",
       "    <tr>\n",
       "      <th>75%</th>\n",
       "      <td>22.000000</td>\n",
       "      <td>507.149306</td>\n",
       "      <td>16.001096</td>\n",
       "      <td>628.320000</td>\n",
       "      <td>2.519705</td>\n",
       "      <td>0.408062</td>\n",
       "      <td>0.0</td>\n",
       "      <td>0.000000</td>\n",
       "      <td>0.000000</td>\n",
       "      <td>0.000000</td>\n",
       "      <td>116.770096</td>\n",
       "      <td>376.626299</td>\n",
       "      <td>594.312593</td>\n",
       "      <td>3.832500</td>\n",
       "      <td>64.000000</td>\n",
       "      <td>-47.857048</td>\n",
       "      <td>-15.754148</td>\n",
       "    </tr>\n",
       "    <tr>\n",
       "      <th>max</th>\n",
       "      <td>53.000000</td>\n",
       "      <td>683.777778</td>\n",
       "      <td>19.144863</td>\n",
       "      <td>2329.680000</td>\n",
       "      <td>4.781968</td>\n",
       "      <td>0.604560</td>\n",
       "      <td>0.0</td>\n",
       "      <td>1.000000</td>\n",
       "      <td>1.000000</td>\n",
       "      <td>1.000000</td>\n",
       "      <td>160.362508</td>\n",
       "      <td>476.253447</td>\n",
       "      <td>715.202997</td>\n",
       "      <td>5.643300</td>\n",
       "      <td>78.000000</td>\n",
       "      <td>-47.852807</td>\n",
       "      <td>-15.752316</td>\n",
       "    </tr>\n",
       "  </tbody>\n",
       "</table>\n",
       "</div>"
      ],
      "text/plain": [
       "          nLeaps  LeapDuration   LeapRate       Nseeds  ShadowIntensity  \\\n",
       "count  39.000000     39.000000  39.000000    39.000000        39.000000   \n",
       "mean   19.589744    464.049740  14.121309   497.740071         1.768495   \n",
       "std     8.349970     69.785181   2.805358   438.218596         1.095031   \n",
       "min    11.000000    318.772727   7.320644     0.000000         0.256048   \n",
       "25%    15.000000    415.995215  12.401862   266.130000         0.926267   \n",
       "50%    18.000000    450.905660  14.826012   375.240000         1.581984   \n",
       "75%    22.000000    507.149306  16.001096   628.320000         2.519705   \n",
       "max    53.000000    683.777778  19.144863  2329.680000         4.781968   \n",
       "\n",
       "       VegetationDensity  Disturbance      Truck       Fire      Mower  \\\n",
       "count          39.000000         39.0  39.000000  39.000000  39.000000   \n",
       "mean            0.334628          0.0   0.025641   0.153846   0.179487   \n",
       "std             0.108133          0.0   0.160128   0.365518   0.388776   \n",
       "min             0.092675          0.0   0.000000   0.000000   0.000000   \n",
       "25%             0.262368          0.0   0.000000   0.000000   0.000000   \n",
       "50%             0.347358          0.0   0.000000   0.000000   0.000000   \n",
       "75%             0.408062          0.0   0.000000   0.000000   0.000000   \n",
       "max             0.604560          0.0   1.000000   1.000000   1.000000   \n",
       "\n",
       "       BorderDistance  RoadDistance  LakeDistance   DawnTime    DayYear  \\\n",
       "count       39.000000     39.000000     39.000000  39.000000  39.000000   \n",
       "mean        86.085695    232.430726    409.479839   2.621797  52.461538   \n",
       "std         45.235166    144.164528    229.672620   1.348704  19.005326   \n",
       "min          7.988528     29.696078     11.245272   0.798100  18.000000   \n",
       "25%         48.870137    122.838805    185.780428   1.527200  33.500000   \n",
       "50%         96.152144    166.642358    545.096972   2.072500  59.000000   \n",
       "75%        116.770096    376.626299    594.312593   3.832500  64.000000   \n",
       "max        160.362508    476.253447    715.202997   5.643300  78.000000   \n",
       "\n",
       "       Longitude   Latitude  \n",
       "count  39.000000  39.000000  \n",
       "mean  -47.866115 -15.757153  \n",
       "std     0.008630   0.003812  \n",
       "min   -47.874406 -15.764221  \n",
       "25%   -47.873101 -15.760967  \n",
       "50%   -47.872535 -15.755073  \n",
       "75%   -47.857048 -15.754148  \n",
       "max   -47.852807 -15.752316  "
      ]
     },
     "execution_count": 4,
     "metadata": {},
     "output_type": "execute_result"
    }
   ],
   "source": [
    "nonPAD.describe()"
   ]
  },
  {
   "cell_type": "markdown",
   "metadata": {},
   "source": [
    "#### Padronização dos dados (Standardization ou Feature scaling)\n",
    "OBS: alguns autores tambem chamam de Normalization, mas esse termo também é usado para outras coisas relacionadas ao machine learning, então para evitar confusão, não use o termo normalização.\n",
    "Selecione os dados para análise"
   ]
  },
  {
   "cell_type": "code",
   "execution_count": 5,
   "metadata": {},
   "outputs": [],
   "source": [
    "y = nonPAD ['LeapDuration'] # Duração do salto (quantos milisegundos leva do momento que o Tiziu tira a pata do poleiro até colocar a pata novamente no poleiro)\n",
    "xBruto = nonPAD [['Nseeds','ShadowIntensity']]  # Nseeds = Número médio de semenstes em plotes de 50cm2; ShadowIntensity = Intensidade de sombreamento\n",
    "# x2= nonPAD ['ShadowIntensity']"
   ]
  },
  {
   "cell_type": "markdown",
   "metadata": {},
   "source": [
    "Aplique a padronização nos seus dados, com estamos trabalhando com Machine Learning, vamos aplicar a padronização apenas para as variáveis preditoras\n",
    "\n",
    "\n",
    "$Valor{Padronizado} = \\frac{(Valor{Obs} - Media)}{Variância}$"
   ]
  },
  {
   "cell_type": "code",
   "execution_count": 6,
   "metadata": {
    "scrolled": true
   },
   "outputs": [
    {
     "data": {
      "text/plain": [
       "array([[ 4.23507329,  0.37996634],\n",
       "       [ 0.02002   , -1.25904825],\n",
       "       [-0.14365523, -0.38502697],\n",
       "       [ 1.04722848, -0.14450101],\n",
       "       [ 0.79803217, -1.16932335],\n",
       "       [-0.10190418,  0.08964864],\n",
       "       [ 0.23645044,  1.02493431],\n",
       "       [ 0.86646136,  0.67314986],\n",
       "       [-0.72632056, -0.16258528],\n",
       "       [-0.30497243,  0.08967217],\n",
       "       [-0.2683998 ,  1.51046613],\n",
       "       [-0.38103055, -0.73630321],\n",
       "       [ 0.4077546 ,  0.71681939],\n",
       "       [-0.6165102 , -0.38042473],\n",
       "       [-1.00794367, -0.26003234],\n",
       "       [ 2.83911777,  0.82133452],\n",
       "       [-0.2831953 , -0.83314322],\n",
       "       [-0.53273067,  2.78792709],\n",
       "       [ 0.16168692, -1.08870412],\n",
       "       [ 0.87788164, -1.25666713],\n",
       "       [-0.43942654, -0.10075148],\n",
       "       [-0.32855276, -1.39924722],\n",
       "       [-0.36332219, -1.24953318],\n",
       "       [-0.7051445 , -0.34359738],\n",
       "       [ 0.26442318, -0.1725521 ],\n",
       "       [-0.53814028,  1.98092067],\n",
       "       [ 0.3393254 ,  1.8302043 ],\n",
       "       [ 0.47655368, -0.244828  ],\n",
       "       [-0.18975247, -0.19916793],\n",
       "       [-0.48741945, -1.19657446],\n",
       "       [-0.51391265, -1.08874176],\n",
       "       [-0.55445129,  1.16197101],\n",
       "       [ 0.45417548,  0.2367745 ],\n",
       "       [-0.22793179,  1.23565864],\n",
       "       [-0.75535673, -0.55379937],\n",
       "       [-0.36531033, -0.63757618],\n",
       "       [-1.15067402, -0.82207996],\n",
       "       [-0.89531292,  0.78127901],\n",
       "       [-1.14281391,  0.36348203]])"
      ]
     },
     "execution_count": 6,
     "metadata": {},
     "output_type": "execute_result"
    }
   ],
   "source": [
    "from sklearn.preprocessing import StandardScaler # Importar pacote\n",
    "scaler = StandardScaler() # Renomear função\n",
    "scaler.fit(xBruto) # Escale o conjunto de dados x\n",
    "x_scaled = scaler.transform(xBruto) # Fazer a padronização dos dados\n",
    "x_scaled # Observe os dados"
   ]
  },
  {
   "cell_type": "markdown",
   "metadata": {},
   "source": [
    "Definir suas variáveis dependente e intependente"
   ]
  },
  {
   "cell_type": "markdown",
   "metadata": {},
   "source": [
    "## Regressão linear\n",
    "\n",
    "Vamos agora rodar o modelo de regressão propriamente dito"
   ]
  },
  {
   "cell_type": "code",
   "execution_count": 7,
   "metadata": {},
   "outputs": [
    {
     "data": {
      "text/plain": [
       "LinearRegression()"
      ]
     },
     "execution_count": 7,
     "metadata": {},
     "output_type": "execute_result"
    }
   ],
   "source": [
    "reg = LinearRegression(fit_intercept=True, normalize=False, copy_X=True, n_jobs=None) # Esse codigo irá criar um objeto chamado reg, que vai estar vazio, mas é definido como LinearRegression class\n",
    "reg.fit(x_scaled,y) # Codigo para ajustar a regressão, onde a primeira variável representa os inputs, e a segunda o target."
   ]
  },
  {
   "cell_type": "markdown",
   "metadata": {},
   "source": [
    "Os parametros da função LinearRegression, são:\n",
    "* fit_intercept = Informa ao algoritmos que ele deve calcular um valor de intercept0 (que seria o B0 no nosso exemplo)\n",
    "* normalize = Faz a padronização automaticamente do nosso conjunto de dados\n",
    "* copy_X = Se verdadeiro, o sklearn faz uma copia de x antes de fazer a normalização, de forma a não correr risco de mudar a estrutura do x original\n",
    "* n_jobs = número de CPU que devem ser usadas para essa analise. Se for definido como \"None\" o pacote vai operar da mesma forma que se tivesse sido definido \"=1\". Ou seja, vai rodar o codigo em só 1 CPU."
   ]
  },
  {
   "cell_type": "markdown",
   "metadata": {},
   "source": [
    "### Calculo do $R^2_{não-ajustado}$\n"
   ]
  },
  {
   "cell_type": "code",
   "execution_count": 8,
   "metadata": {},
   "outputs": [
    {
     "data": {
      "text/plain": [
       "0.3604362430620176"
      ]
     },
     "execution_count": 8,
     "metadata": {},
     "output_type": "execute_result"
    }
   ],
   "source": [
    "reg.score(x_scaled,y)"
   ]
  },
  {
   "cell_type": "markdown",
   "metadata": {},
   "source": [
    "### Calculo do $R^2_{ajustadado}$\n",
    "\n",
    "\n",
    "A formula para calcular o R2 ajustado é:\n",
    "\n",
    "\n",
    "$R^2_{adj.} = 1 - (1-R^2)*\\frac{n-1}{n-p-1}$"
   ]
  },
  {
   "cell_type": "code",
   "execution_count": 9,
   "metadata": {
    "scrolled": true
   },
   "outputs": [
    {
     "data": {
      "text/plain": [
       "0.3249049232321296"
      ]
     },
     "execution_count": 9,
     "metadata": {},
     "output_type": "execute_result"
    }
   ],
   "source": [
    "# Para calcular o R2, primeiro você calcula o r2 padrão\n",
    "r2 = reg.score(x_scaled,y)\n",
    "# Colete o número de observações do seu modelo\n",
    "n = x_scaled.shape[0]\n",
    "# Colete o número de variáveis contidas no seu modelo\n",
    "p = x_scaled.shape[1]\n",
    "\n",
    "# Aplique os dados na formula apresentada. Note que quanto mais variáveis tem o seu modelo (p), menor seráo valor de r2. \n",
    "adjusted_r2 = 1-(1-r2)*(n-1)/(n-p-1)\n",
    "adjusted_r2"
   ]
  },
  {
   "cell_type": "markdown",
   "metadata": {},
   "source": [
    "Se preferir, você pode criar uma função para calcular o r2 ajustado"
   ]
  },
  {
   "cell_type": "code",
   "execution_count": 10,
   "metadata": {},
   "outputs": [],
   "source": [
    "def adj_r2(x,y):\n",
    "    r2 = reg.score(x,y)\n",
    "    n = x.shape[0]\n",
    "    p = x.shape[1]\n",
    "    adjusted_r2 = 1-(1-r2)*(n-1)/(n-p-1)\n",
    "    return adjusted_r2"
   ]
  },
  {
   "cell_type": "markdown",
   "metadata": {},
   "source": [
    "Aplique a função ao seu conjunto de dados"
   ]
  },
  {
   "cell_type": "code",
   "execution_count": 11,
   "metadata": {},
   "outputs": [
    {
     "data": {
      "text/plain": [
       "0.3249049232321296"
      ]
     },
     "execution_count": 11,
     "metadata": {},
     "output_type": "execute_result"
    }
   ],
   "source": [
    "adj_r2(x_scaled,y)"
   ]
  },
  {
   "cell_type": "markdown",
   "metadata": {},
   "source": [
    "### Coeficientes"
   ]
  },
  {
   "cell_type": "code",
   "execution_count": 12,
   "metadata": {},
   "outputs": [
    {
     "data": {
      "text/plain": [
       "array([32.08080627, 23.47540708])"
      ]
     },
     "execution_count": 12,
     "metadata": {},
     "output_type": "execute_result"
    }
   ],
   "source": [
    "reg.coef_"
   ]
  },
  {
   "cell_type": "markdown",
   "metadata": {},
   "source": [
    "### Intercepto"
   ]
  },
  {
   "cell_type": "code",
   "execution_count": 13,
   "metadata": {
    "scrolled": false
   },
   "outputs": [
    {
     "data": {
      "text/plain": [
       "464.04974023076926"
      ]
     },
     "execution_count": 13,
     "metadata": {},
     "output_type": "execute_result"
    }
   ],
   "source": [
    "reg.intercept_"
   ]
  },
  {
   "cell_type": "markdown",
   "metadata": {},
   "source": [
    "### Montar uma tabela com resultados gerais\n"
   ]
  },
  {
   "cell_type": "code",
   "execution_count": 14,
   "metadata": {},
   "outputs": [
    {
     "data": {
      "text/html": [
       "<div>\n",
       "<style scoped>\n",
       "    .dataframe tbody tr th:only-of-type {\n",
       "        vertical-align: middle;\n",
       "    }\n",
       "\n",
       "    .dataframe tbody tr th {\n",
       "        vertical-align: top;\n",
       "    }\n",
       "\n",
       "    .dataframe thead th {\n",
       "        text-align: right;\n",
       "    }\n",
       "</style>\n",
       "<table border=\"1\" class=\"dataframe\">\n",
       "  <thead>\n",
       "    <tr style=\"text-align: right;\">\n",
       "      <th></th>\n",
       "      <th>Features</th>\n",
       "      <th>Weights</th>\n",
       "    </tr>\n",
       "  </thead>\n",
       "  <tbody>\n",
       "    <tr>\n",
       "      <th>0</th>\n",
       "      <td>Bias</td>\n",
       "      <td>464.049740</td>\n",
       "    </tr>\n",
       "    <tr>\n",
       "      <th>1</th>\n",
       "      <td>Nseeds</td>\n",
       "      <td>32.080806</td>\n",
       "    </tr>\n",
       "    <tr>\n",
       "      <th>2</th>\n",
       "      <td>ShadowIntensity</td>\n",
       "      <td>23.475407</td>\n",
       "    </tr>\n",
       "  </tbody>\n",
       "</table>\n",
       "</div>"
      ],
      "text/plain": [
       "          Features     Weights\n",
       "0             Bias  464.049740\n",
       "1           Nseeds   32.080806\n",
       "2  ShadowIntensity   23.475407"
      ]
     },
     "execution_count": 14,
     "metadata": {},
     "output_type": "execute_result"
    }
   ],
   "source": [
    "reg_summary = pd.DataFrame([['Bias'],['Nseeds'],['ShadowIntensity']], columns=['Features'])\n",
    "reg_summary['Weights'] = reg.intercept_, reg.coef_[0], reg.coef_[1]\n",
    "reg_summary"
   ]
  },
  {
   "cell_type": "markdown",
   "metadata": {},
   "source": [
    "O termo Weigths é o termo usado para referenciar os coeficientes do modelo quando estamos trabalhando com modelos de aprendizado de máquina. A lógica é que quanto menor o valor do Weight, menor é o impacto da variável na previsão da variável resposta.\n",
    "\n",
    "Quando você padroniza seus dados em um modelo de machine learning, na pratica não importa muito se suas variáveis vão ter efeito significativo ou não. Suponha uma variável que não influencia em nada a variável resposta. Se ela foi padronizada, o valor de Weight para ela, será muito próxima de zero. Logo, qualquer valor observado multiplicado por um número próximo a zero, vai fazer com que não haja impacto na previsão da variável resposta. Apesar disso, se você acha que faz sentido manter uma determinada variável no seu modelo, mesmo que o valor dela foi muito baixo (beirando zero) é melhor deixar a variável lá e não remove-la, porque ela poderia interagir com outras e a soma dela com outras variáveis insignificantes poderiam afetar a previsão da variável resposta. \n",
    "\n",
    "Em machine learning o intercpto é chamado de Bias, aideia é que o intercepto nada mais é que uma constante que \"puxa nossa estimativa para um lado\". Se por acaso você tiver padronizado sua variável resposta, o Bias esperado é que seja um valor próximo a zero."
   ]
  },
  {
   "cell_type": "markdown",
   "metadata": {},
   "source": [
    "### Fazer previsões\n",
    "Peveja qual a duração de saltos do display, em dados com dados de plotes de semente de 50-1000 e sobras de 0.5-2"
   ]
  },
  {
   "cell_type": "code",
   "execution_count": 15,
   "metadata": {
    "scrolled": true
   },
   "outputs": [],
   "source": [
    "GerarSementes = np.arange(50, 1000, 100)\n",
    "GerarSombras = np.arange(0.5, 2, 0.5)\n",
    "Arranjos = [GerarSementes, GerarSombras]"
   ]
  },
  {
   "cell_type": "code",
   "execution_count": 16,
   "metadata": {
    "scrolled": true
   },
   "outputs": [
    {
     "data": {
      "text/html": [
       "<div>\n",
       "<style scoped>\n",
       "    .dataframe tbody tr th:only-of-type {\n",
       "        vertical-align: middle;\n",
       "    }\n",
       "\n",
       "    .dataframe tbody tr th {\n",
       "        vertical-align: top;\n",
       "    }\n",
       "\n",
       "    .dataframe thead tr th {\n",
       "        text-align: left;\n",
       "    }\n",
       "</style>\n",
       "<table border=\"1\" class=\"dataframe\">\n",
       "  <thead>\n",
       "    <tr>\n",
       "      <th></th>\n",
       "      <th>Nseeds</th>\n",
       "      <th>ShadowIntensity</th>\n",
       "    </tr>\n",
       "  </thead>\n",
       "  <tbody>\n",
       "    <tr>\n",
       "      <th>0</th>\n",
       "      <td>50</td>\n",
       "      <td>0.5</td>\n",
       "    </tr>\n",
       "    <tr>\n",
       "      <th>1</th>\n",
       "      <td>50</td>\n",
       "      <td>1.0</td>\n",
       "    </tr>\n",
       "    <tr>\n",
       "      <th>2</th>\n",
       "      <td>50</td>\n",
       "      <td>1.5</td>\n",
       "    </tr>\n",
       "    <tr>\n",
       "      <th>3</th>\n",
       "      <td>150</td>\n",
       "      <td>0.5</td>\n",
       "    </tr>\n",
       "    <tr>\n",
       "      <th>4</th>\n",
       "      <td>150</td>\n",
       "      <td>1.0</td>\n",
       "    </tr>\n",
       "  </tbody>\n",
       "</table>\n",
       "</div>"
      ],
      "text/plain": [
       "  Nseeds ShadowIntensity\n",
       "0     50             0.5\n",
       "1     50             1.0\n",
       "2     50             1.5\n",
       "3    150             0.5\n",
       "4    150             1.0"
      ]
     },
     "execution_count": 16,
     "metadata": {},
     "output_type": "execute_result"
    }
   ],
   "source": [
    "import itertools \n",
    "new_data = pd.DataFrame(data=itertools.product(*Arranjos),columns=[['Nseeds','ShadowIntensity']]) # Crie o conjunto de dados que você deseja prever\n",
    "new_data.head()"
   ]
  },
  {
   "cell_type": "markdown",
   "metadata": {},
   "source": [
    "Fazer previsões"
   ]
  },
  {
   "cell_type": "code",
   "execution_count": 17,
   "metadata": {},
   "outputs": [
    {
     "data": {
      "text/plain": [
       "array([ 2079.82775743,  2091.56546097,  2103.3031645 ,  5287.90838474,\n",
       "        5299.64608828,  5311.38379182,  8495.98901206,  8507.7267156 ,\n",
       "        8519.46441914, 11704.06963938, 11715.80734291, 11727.54504645,\n",
       "       14912.15026669, 14923.88797023, 14935.62567377, 18120.23089401,\n",
       "       18131.96859755, 18143.70630109, 21328.31152133, 21340.04922486,\n",
       "       21351.7869284 , 24536.39214864, 24548.12985218, 24559.86755572,\n",
       "       27744.47277596, 27756.2104795 , 27767.94818304, 30952.55340328,\n",
       "       30964.29110681, 30976.02881035])"
      ]
     },
     "execution_count": 17,
     "metadata": {},
     "output_type": "execute_result"
    }
   ],
   "source": [
    "reg.predict(new_data)"
   ]
  },
  {
   "cell_type": "markdown",
   "metadata": {},
   "source": [
    "Colocar as previsões numa tabela"
   ]
  },
  {
   "cell_type": "code",
   "execution_count": 18,
   "metadata": {
    "scrolled": true
   },
   "outputs": [
    {
     "data": {
      "text/html": [
       "<div>\n",
       "<style scoped>\n",
       "    .dataframe tbody tr th:only-of-type {\n",
       "        vertical-align: middle;\n",
       "    }\n",
       "\n",
       "    .dataframe tbody tr th {\n",
       "        vertical-align: top;\n",
       "    }\n",
       "\n",
       "    .dataframe thead tr th {\n",
       "        text-align: left;\n",
       "    }\n",
       "</style>\n",
       "<table border=\"1\" class=\"dataframe\">\n",
       "  <thead>\n",
       "    <tr>\n",
       "      <th></th>\n",
       "      <th>Nseeds</th>\n",
       "      <th>ShadowIntensity</th>\n",
       "      <th>Predicted_LeapDuration</th>\n",
       "    </tr>\n",
       "  </thead>\n",
       "  <tbody>\n",
       "    <tr>\n",
       "      <th>0</th>\n",
       "      <td>50</td>\n",
       "      <td>0.5</td>\n",
       "      <td>2079.827757</td>\n",
       "    </tr>\n",
       "    <tr>\n",
       "      <th>1</th>\n",
       "      <td>50</td>\n",
       "      <td>1.0</td>\n",
       "      <td>2091.565461</td>\n",
       "    </tr>\n",
       "    <tr>\n",
       "      <th>2</th>\n",
       "      <td>50</td>\n",
       "      <td>1.5</td>\n",
       "      <td>2103.303165</td>\n",
       "    </tr>\n",
       "    <tr>\n",
       "      <th>3</th>\n",
       "      <td>150</td>\n",
       "      <td>0.5</td>\n",
       "      <td>5287.908385</td>\n",
       "    </tr>\n",
       "    <tr>\n",
       "      <th>4</th>\n",
       "      <td>150</td>\n",
       "      <td>1.0</td>\n",
       "      <td>5299.646088</td>\n",
       "    </tr>\n",
       "    <tr>\n",
       "      <th>5</th>\n",
       "      <td>150</td>\n",
       "      <td>1.5</td>\n",
       "      <td>5311.383792</td>\n",
       "    </tr>\n",
       "    <tr>\n",
       "      <th>6</th>\n",
       "      <td>250</td>\n",
       "      <td>0.5</td>\n",
       "      <td>8495.989012</td>\n",
       "    </tr>\n",
       "    <tr>\n",
       "      <th>7</th>\n",
       "      <td>250</td>\n",
       "      <td>1.0</td>\n",
       "      <td>8507.726716</td>\n",
       "    </tr>\n",
       "    <tr>\n",
       "      <th>8</th>\n",
       "      <td>250</td>\n",
       "      <td>1.5</td>\n",
       "      <td>8519.464419</td>\n",
       "    </tr>\n",
       "    <tr>\n",
       "      <th>9</th>\n",
       "      <td>350</td>\n",
       "      <td>0.5</td>\n",
       "      <td>11704.069639</td>\n",
       "    </tr>\n",
       "    <tr>\n",
       "      <th>10</th>\n",
       "      <td>350</td>\n",
       "      <td>1.0</td>\n",
       "      <td>11715.807343</td>\n",
       "    </tr>\n",
       "    <tr>\n",
       "      <th>11</th>\n",
       "      <td>350</td>\n",
       "      <td>1.5</td>\n",
       "      <td>11727.545046</td>\n",
       "    </tr>\n",
       "    <tr>\n",
       "      <th>12</th>\n",
       "      <td>450</td>\n",
       "      <td>0.5</td>\n",
       "      <td>14912.150267</td>\n",
       "    </tr>\n",
       "    <tr>\n",
       "      <th>13</th>\n",
       "      <td>450</td>\n",
       "      <td>1.0</td>\n",
       "      <td>14923.887970</td>\n",
       "    </tr>\n",
       "    <tr>\n",
       "      <th>14</th>\n",
       "      <td>450</td>\n",
       "      <td>1.5</td>\n",
       "      <td>14935.625674</td>\n",
       "    </tr>\n",
       "    <tr>\n",
       "      <th>15</th>\n",
       "      <td>550</td>\n",
       "      <td>0.5</td>\n",
       "      <td>18120.230894</td>\n",
       "    </tr>\n",
       "    <tr>\n",
       "      <th>16</th>\n",
       "      <td>550</td>\n",
       "      <td>1.0</td>\n",
       "      <td>18131.968598</td>\n",
       "    </tr>\n",
       "    <tr>\n",
       "      <th>17</th>\n",
       "      <td>550</td>\n",
       "      <td>1.5</td>\n",
       "      <td>18143.706301</td>\n",
       "    </tr>\n",
       "    <tr>\n",
       "      <th>18</th>\n",
       "      <td>650</td>\n",
       "      <td>0.5</td>\n",
       "      <td>21328.311521</td>\n",
       "    </tr>\n",
       "    <tr>\n",
       "      <th>19</th>\n",
       "      <td>650</td>\n",
       "      <td>1.0</td>\n",
       "      <td>21340.049225</td>\n",
       "    </tr>\n",
       "    <tr>\n",
       "      <th>20</th>\n",
       "      <td>650</td>\n",
       "      <td>1.5</td>\n",
       "      <td>21351.786928</td>\n",
       "    </tr>\n",
       "    <tr>\n",
       "      <th>21</th>\n",
       "      <td>750</td>\n",
       "      <td>0.5</td>\n",
       "      <td>24536.392149</td>\n",
       "    </tr>\n",
       "    <tr>\n",
       "      <th>22</th>\n",
       "      <td>750</td>\n",
       "      <td>1.0</td>\n",
       "      <td>24548.129852</td>\n",
       "    </tr>\n",
       "    <tr>\n",
       "      <th>23</th>\n",
       "      <td>750</td>\n",
       "      <td>1.5</td>\n",
       "      <td>24559.867556</td>\n",
       "    </tr>\n",
       "    <tr>\n",
       "      <th>24</th>\n",
       "      <td>850</td>\n",
       "      <td>0.5</td>\n",
       "      <td>27744.472776</td>\n",
       "    </tr>\n",
       "    <tr>\n",
       "      <th>25</th>\n",
       "      <td>850</td>\n",
       "      <td>1.0</td>\n",
       "      <td>27756.210479</td>\n",
       "    </tr>\n",
       "    <tr>\n",
       "      <th>26</th>\n",
       "      <td>850</td>\n",
       "      <td>1.5</td>\n",
       "      <td>27767.948183</td>\n",
       "    </tr>\n",
       "    <tr>\n",
       "      <th>27</th>\n",
       "      <td>950</td>\n",
       "      <td>0.5</td>\n",
       "      <td>30952.553403</td>\n",
       "    </tr>\n",
       "    <tr>\n",
       "      <th>28</th>\n",
       "      <td>950</td>\n",
       "      <td>1.0</td>\n",
       "      <td>30964.291107</td>\n",
       "    </tr>\n",
       "    <tr>\n",
       "      <th>29</th>\n",
       "      <td>950</td>\n",
       "      <td>1.5</td>\n",
       "      <td>30976.028810</td>\n",
       "    </tr>\n",
       "  </tbody>\n",
       "</table>\n",
       "</div>"
      ],
      "text/plain": [
       "   Nseeds ShadowIntensity Predicted_LeapDuration\n",
       "0      50             0.5            2079.827757\n",
       "1      50             1.0            2091.565461\n",
       "2      50             1.5            2103.303165\n",
       "3     150             0.5            5287.908385\n",
       "4     150             1.0            5299.646088\n",
       "5     150             1.5            5311.383792\n",
       "6     250             0.5            8495.989012\n",
       "7     250             1.0            8507.726716\n",
       "8     250             1.5            8519.464419\n",
       "9     350             0.5           11704.069639\n",
       "10    350             1.0           11715.807343\n",
       "11    350             1.5           11727.545046\n",
       "12    450             0.5           14912.150267\n",
       "13    450             1.0           14923.887970\n",
       "14    450             1.5           14935.625674\n",
       "15    550             0.5           18120.230894\n",
       "16    550             1.0           18131.968598\n",
       "17    550             1.5           18143.706301\n",
       "18    650             0.5           21328.311521\n",
       "19    650             1.0           21340.049225\n",
       "20    650             1.5           21351.786928\n",
       "21    750             0.5           24536.392149\n",
       "22    750             1.0           24548.129852\n",
       "23    750             1.5           24559.867556\n",
       "24    850             0.5           27744.472776\n",
       "25    850             1.0           27756.210479\n",
       "26    850             1.5           27767.948183\n",
       "27    950             0.5           30952.553403\n",
       "28    950             1.0           30964.291107\n",
       "29    950             1.5           30976.028810"
      ]
     },
     "execution_count": 18,
     "metadata": {},
     "output_type": "execute_result"
    }
   ],
   "source": [
    "new_data['Predicted_LeapDuration'] = reg.predict(new_data)\n",
    "new_data"
   ]
  },
  {
   "cell_type": "markdown",
   "metadata": {},
   "source": [
    "### Seleção de modelos - Feature selection\n",
    "Para saber se seu modelo está adequado, ou se uma das variáveis está mais atrapalhando que ajudando, podemos usar o método chamado de \"Feature selection\" baseado em estatística F para determinar quais variáveis devem ser removidas do nosso modelo. \n",
    "\n",
    "Como os dados aqui usados para exemplo são de um artigo que teve o modelo previamente selecionado, ao testar se alguma variável deve ser removida, a resposta será não. Portanto, para fins didátivos vou refazer o modelo adicionando uma terceira variável que não tem poder de prever a duração dos displays.\n",
    "\n",
    "#### Descrição do método feature_selection. f_regression\n",
    "A função f_regression cria uma regressão lineare simples, de cada uma das variáveis preditoras com a variável resposta. No exemplo aqui apresentado, será criado 3 regressão, que consitirão em\n",
    "* LeapDuration <- Nseeds            \n",
    "  * Como o número de sementes influência a duração dos saltos no display\n",
    "* LeapDuration <- ShadowIntensity\n",
    "  * Como o sombreamento do habitat influência a duração dos saltos no display\n",
    "* LeapDuration <- DawnTime\n",
    "  * Como o número de horas depois do avolrecer influência a duração dos saltos no display\n",
    "\n",
    "\n",
    "\n",
    "#### Aplicação do método\n",
    "Primeiro vamos refazer o modelo, incluindo a nova variável DawnTime"
   ]
  },
  {
   "cell_type": "code",
   "execution_count": 19,
   "metadata": {},
   "outputs": [
    {
     "data": {
      "text/plain": [
       "LinearRegression()"
      ]
     },
     "execution_count": 19,
     "metadata": {},
     "output_type": "execute_result"
    }
   ],
   "source": [
    "# Selecionar as variáveis\n",
    "xBruto = nonPAD [['Nseeds','ShadowIntensity','DawnTime']]\n",
    "\n",
    "# Fazer a padronização dos dados\n",
    "from sklearn.preprocessing import StandardScaler # Importar pacote\n",
    "scaler = StandardScaler() # Renomear função\n",
    "scaler.fit(xBruto) # Escale o conjunto de dados x\n",
    "x_scaled  = scaler.transform(xBruto) # Fazer a padronização dos dados\n",
    "x_scaled  = pd.DataFrame(x_scaled, columns = ['Nseeds','ShadowIntensity','DawnTime'])\n",
    "\n",
    "# Definir variáveis dependente e independentes\n",
    "y = nonPAD ['LeapDuration'] \n",
    "x = x_scaled [['Nseeds','ShadowIntensity','DawnTime']] \n",
    "\n",
    "# Construir o modelo\n",
    "reg = LinearRegression(fit_intercept=True, normalize=False, copy_X=True, n_jobs=None) # Esse codigo irá criar um objeto chamado reg, que vai estar vazio, mas é definido como LinearRegression class\n",
    "reg.fit(x,y) # Codigo para ajustar a regressão, onde a primeira variável representa os inputs, e a segunda o target."
   ]
  },
  {
   "cell_type": "markdown",
   "metadata": {},
   "source": [
    "Agrora, vamos aplicar o <i>Feature selection</i>\n",
    "\n",
    "Importe o modulo feature selection do pacote sklearn"
   ]
  },
  {
   "cell_type": "code",
   "execution_count": 20,
   "metadata": {},
   "outputs": [],
   "source": [
    "from sklearn.feature_selection import f_regression"
   ]
  },
  {
   "cell_type": "markdown",
   "metadata": {},
   "source": [
    "Aplique o método: ao executar o comando a seguir, você vai criar as multiplas regressões lineares. O produto desta função será um objeto com 2 array, sendo que o primeiro vai apresentar valores de estatística F, e o segundo valores de p, associados a essas regressões."
   ]
  },
  {
   "cell_type": "code",
   "execution_count": 21,
   "metadata": {},
   "outputs": [
    {
     "data": {
      "text/plain": [
       "(array([12.0171462 ,  6.2829509 ,  0.22317449]),\n",
       " array([0.00135214, 0.0167131 , 0.63940635]))"
      ]
     },
     "execution_count": 21,
     "metadata": {},
     "output_type": "execute_result"
    }
   ],
   "source": [
    "f_regression(x,y)"
   ]
  },
  {
   "cell_type": "markdown",
   "metadata": {},
   "source": [
    "Note que apenas o ultimo valor de p (relacionado a variavel DawnTime) apresenta valor >0.05, portanto, isso indica que essa variável não influência significativamente a duração dos saltos do display do Tiziu.\n",
    "\n",
    "OBS: Caso ao rodar esse codigo com seu conjunto de dados você observe um resultado como 8e-5, isso quer dizer que o valor calculado é de 8 multiplicado 10 elevado à -5, ou seja:\n",
    "\n",
    "$8e-5 =  8*10^{-5} =  \\frac{8}{10^5}=  \\frac{8}{100000}  = 0.00008 $\n",
    "\n"
   ]
  },
  {
   "cell_type": "markdown",
   "metadata": {},
   "source": [
    "### Criar uma tabela de valores de p"
   ]
  },
  {
   "cell_type": "markdown",
   "metadata": {},
   "source": [
    "Crie uma tabela com onde a primeira coluna será o nome das variáveis"
   ]
  },
  {
   "cell_type": "code",
   "execution_count": 22,
   "metadata": {
    "scrolled": true
   },
   "outputs": [
    {
     "data": {
      "text/html": [
       "<div>\n",
       "<style scoped>\n",
       "    .dataframe tbody tr th:only-of-type {\n",
       "        vertical-align: middle;\n",
       "    }\n",
       "\n",
       "    .dataframe tbody tr th {\n",
       "        vertical-align: top;\n",
       "    }\n",
       "\n",
       "    .dataframe thead th {\n",
       "        text-align: right;\n",
       "    }\n",
       "</style>\n",
       "<table border=\"1\" class=\"dataframe\">\n",
       "  <thead>\n",
       "    <tr style=\"text-align: right;\">\n",
       "      <th></th>\n",
       "      <th>Features</th>\n",
       "    </tr>\n",
       "  </thead>\n",
       "  <tbody>\n",
       "    <tr>\n",
       "      <th>0</th>\n",
       "      <td>Nseeds</td>\n",
       "    </tr>\n",
       "    <tr>\n",
       "      <th>1</th>\n",
       "      <td>ShadowIntensity</td>\n",
       "    </tr>\n",
       "    <tr>\n",
       "      <th>2</th>\n",
       "      <td>DawnTime</td>\n",
       "    </tr>\n",
       "  </tbody>\n",
       "</table>\n",
       "</div>"
      ],
      "text/plain": [
       "          Features\n",
       "0           Nseeds\n",
       "1  ShadowIntensity\n",
       "2         DawnTime"
      ]
     },
     "execution_count": 22,
     "metadata": {},
     "output_type": "execute_result"
    }
   ],
   "source": [
    "reg_summary = pd.DataFrame(data = x.columns.values, columns=['Features'])\n",
    "reg_summary"
   ]
  },
  {
   "cell_type": "markdown",
   "metadata": {},
   "source": [
    "Adicione uma coluna com valores de coeficientes"
   ]
  },
  {
   "cell_type": "code",
   "execution_count": 23,
   "metadata": {},
   "outputs": [
    {
     "data": {
      "text/html": [
       "<div>\n",
       "<style scoped>\n",
       "    .dataframe tbody tr th:only-of-type {\n",
       "        vertical-align: middle;\n",
       "    }\n",
       "\n",
       "    .dataframe tbody tr th {\n",
       "        vertical-align: top;\n",
       "    }\n",
       "\n",
       "    .dataframe thead th {\n",
       "        text-align: right;\n",
       "    }\n",
       "</style>\n",
       "<table border=\"1\" class=\"dataframe\">\n",
       "  <thead>\n",
       "    <tr style=\"text-align: right;\">\n",
       "      <th></th>\n",
       "      <th>Features</th>\n",
       "      <th>Coefficients</th>\n",
       "    </tr>\n",
       "  </thead>\n",
       "  <tbody>\n",
       "    <tr>\n",
       "      <th>0</th>\n",
       "      <td>Nseeds</td>\n",
       "      <td>34.247256</td>\n",
       "    </tr>\n",
       "    <tr>\n",
       "      <th>1</th>\n",
       "      <td>ShadowIntensity</td>\n",
       "      <td>23.642821</td>\n",
       "    </tr>\n",
       "    <tr>\n",
       "      <th>2</th>\n",
       "      <td>DawnTime</td>\n",
       "      <td>12.163352</td>\n",
       "    </tr>\n",
       "  </tbody>\n",
       "</table>\n",
       "</div>"
      ],
      "text/plain": [
       "          Features  Coefficients\n",
       "0           Nseeds     34.247256\n",
       "1  ShadowIntensity     23.642821\n",
       "2         DawnTime     12.163352"
      ]
     },
     "execution_count": 23,
     "metadata": {},
     "output_type": "execute_result"
    }
   ],
   "source": [
    "reg_summary ['Coefficients'] = reg.coef_\n",
    "reg_summary"
   ]
  },
  {
   "cell_type": "markdown",
   "metadata": {},
   "source": [
    "Adicione uma coluna com valores de p"
   ]
  },
  {
   "cell_type": "code",
   "execution_count": 24,
   "metadata": {},
   "outputs": [
    {
     "data": {
      "text/html": [
       "<div>\n",
       "<style scoped>\n",
       "    .dataframe tbody tr th:only-of-type {\n",
       "        vertical-align: middle;\n",
       "    }\n",
       "\n",
       "    .dataframe tbody tr th {\n",
       "        vertical-align: top;\n",
       "    }\n",
       "\n",
       "    .dataframe thead th {\n",
       "        text-align: right;\n",
       "    }\n",
       "</style>\n",
       "<table border=\"1\" class=\"dataframe\">\n",
       "  <thead>\n",
       "    <tr style=\"text-align: right;\">\n",
       "      <th></th>\n",
       "      <th>Features</th>\n",
       "      <th>Coefficients</th>\n",
       "      <th>p-values</th>\n",
       "    </tr>\n",
       "  </thead>\n",
       "  <tbody>\n",
       "    <tr>\n",
       "      <th>0</th>\n",
       "      <td>Nseeds</td>\n",
       "      <td>34.247256</td>\n",
       "      <td>0.001</td>\n",
       "    </tr>\n",
       "    <tr>\n",
       "      <th>1</th>\n",
       "      <td>ShadowIntensity</td>\n",
       "      <td>23.642821</td>\n",
       "      <td>0.017</td>\n",
       "    </tr>\n",
       "    <tr>\n",
       "      <th>2</th>\n",
       "      <td>DawnTime</td>\n",
       "      <td>12.163352</td>\n",
       "      <td>0.639</td>\n",
       "    </tr>\n",
       "  </tbody>\n",
       "</table>\n",
       "</div>"
      ],
      "text/plain": [
       "          Features  Coefficients  p-values\n",
       "0           Nseeds     34.247256     0.001\n",
       "1  ShadowIntensity     23.642821     0.017\n",
       "2         DawnTime     12.163352     0.639"
      ]
     },
     "execution_count": 24,
     "metadata": {},
     "output_type": "execute_result"
    }
   ],
   "source": [
    "p_values = f_regression(x,y)[1]\n",
    "reg_summary ['p-values'] = p_values.round(3)\n",
    "reg_summary"
   ]
  },
  {
   "cell_type": "markdown",
   "metadata": {},
   "source": [
    "#### Extra\n",
    "\n",
    "O método de <i>Feature selection</i> tem como \"defeito\" não considerar a interação entre as variáveis. Muitas vezes variáveis que sozinhas não são bons preditores da variável resposta, podem ter efeito significativo quando levadas em consideração juntas. Portanto, o método aqui apresentado deve ser visto com cautela. Esse é mais um argumento de que para <i> machine learning </i>  não necessariamente, remover variáveis de um modelo é o procedimento mais correto\n",
    "\n",
    "Para aqueles que se interessarem em estatística tradicional, no código abaixo vou apresentar quais são os procedimentos para calcular o valor de p considerando as interações. Pelo método apresentado abaixo, você pode chegar no mesmo resultado apresentado no artigo de onde foram extraídos os dados usados nesse tutorial. Mas note que no artigo foi feita padronização dos dados das variáveis preditora e também da variável resposta."
   ]
  },
  {
   "cell_type": "markdown",
   "metadata": {},
   "source": [
    "Fazer a padronização de todas as variáveis (preditoras e resposta)"
   ]
  },
  {
   "cell_type": "code",
   "execution_count": 25,
   "metadata": {},
   "outputs": [
    {
     "data": {
      "text/plain": [
       "LinearRegression()"
      ]
     },
     "execution_count": 25,
     "metadata": {},
     "output_type": "execute_result"
    }
   ],
   "source": [
    "DadosBrutos = nonPAD [['LeapDuration','Nseeds','ShadowIntensity']]\n",
    "from sklearn.preprocessing import StandardScaler # Importar pacote\n",
    "scaler = StandardScaler() # Renomear função\n",
    "scaler.fit(DadosBrutos) # Escale o conjunto de dados x\n",
    "DadosPadronizados = scaler.transform(DadosBrutos) # Fazer a padronização dos dados\n",
    "DadosPadronizados = pd.DataFrame(DadosPadronizados, columns = ['LeapDuration','Nseeds','ShadowIntensity'])\n",
    "y = DadosPadronizados ['LeapDuration'] # Duração do salto (quantos milisegundos leva\n",
    "x = DadosPadronizados [['Nseeds','ShadowIntensity']] # Nseeds = Número médio de seme\n",
    "reg = LinearRegression()\n",
    "reg.fit(x,y)"
   ]
  },
  {
   "cell_type": "markdown",
   "metadata": {},
   "source": [
    "Vamos redefinir como o Python irá calcular os valores de p"
   ]
  },
  {
   "cell_type": "code",
   "execution_count": 26,
   "metadata": {},
   "outputs": [],
   "source": [
    "# Since the p-values are obtained through certain statistics, we need the 'stat' module from scipy.stats\n",
    "from sklearn import linear_model\n",
    "import scipy.stats as stat\n",
    "\n",
    "# Since we are using an object oriented language such as Python, we can simply define our own \n",
    "# LinearRegression class (the same one from sklearn)\n",
    "# By typing the code below we will ovewrite a part of the class with one that includes p-values\n",
    "# Here's the full source code of the ORIGINAL class: https://github.com/scikit-learn/scikit-learn/blob/7b136e9/sklearn/linear_model/base.py#L362\n",
    "\n",
    "\n",
    "class LinearRegression(linear_model.LinearRegression):\n",
    "    \"\"\"\n",
    "    LinearRegression class after sklearn's, but calculate t-statistics\n",
    "    and p-values for model coefficients (betas).\n",
    "    Additional attributes available after .fit()\n",
    "    are `t` and `p` which are of the shape (y.shape[1], X.shape[1])\n",
    "    which is (n_features, n_coefs)\n",
    "    This class sets the intercept to 0 by default, since usually we include it\n",
    "    in X.\n",
    "    \"\"\"\n",
    "    \n",
    "    # nothing changes in __init__\n",
    "    def __init__(self, fit_intercept=True, normalize=False, copy_X=True,\n",
    "                 n_jobs=1):\n",
    "        self.fit_intercept = fit_intercept\n",
    "        self.normalize = normalize\n",
    "        self.copy_X = copy_X\n",
    "        self.n_jobs = n_jobs\n",
    "\n",
    "    \n",
    "    def fit(self, X, y, n_jobs=1):\n",
    "        self = super(LinearRegression, self).fit(X, y, n_jobs)\n",
    "        \n",
    "        # Calculate SSE (sum of squared errors)\n",
    "        # and SE (standard error)\n",
    "        sse = np.sum((self.predict(X) - y) ** 2, axis=0) / float(X.shape[0] - X.shape[1])\n",
    "        se = np.array([np.sqrt(np.diagonal(sse * np.linalg.inv(np.dot(X.T, X))))])\n",
    "\n",
    "        # compute the t-statistic for each feature\n",
    "        self.t = self.coef_ / se\n",
    "        # find the p-value for each feature\n",
    "        self.p = np.squeeze(2 * (1 - stat.t.cdf(np.abs(self.t), y.shape[0] - X.shape[1])))\n",
    "        return self"
   ]
  },
  {
   "cell_type": "code",
   "execution_count": 27,
   "metadata": {},
   "outputs": [
    {
     "data": {
      "text/plain": [
       "LinearRegression()"
      ]
     },
     "execution_count": 27,
     "metadata": {},
     "output_type": "execute_result"
    }
   ],
   "source": [
    "# When we create the regression everything is the same\n",
    "reg_with_pvalues = LinearRegression()\n",
    "reg_with_pvalues.fit(x,y)"
   ]
  },
  {
   "cell_type": "code",
   "execution_count": 28,
   "metadata": {},
   "outputs": [],
   "source": [
    "# Let's create a new data frame with the names of the features\n",
    "reg_summary = pd.DataFrame([['Nseeds'],['ShadowIntensity']],columns =['Features'])\n",
    "# Then we create and fill a second column, called 'Coefficients' with the coefficients of the regression\n",
    "reg_summary['Coefficients'] = reg_with_pvalues.coef_\n",
    "# Finally, we add the p-values we just calculated\n",
    "reg_summary['p-values'] = reg_with_pvalues.p.round(3)"
   ]
  },
  {
   "cell_type": "code",
   "execution_count": 29,
   "metadata": {
    "scrolled": false
   },
   "outputs": [
    {
     "data": {
      "text/html": [
       "<div>\n",
       "<style scoped>\n",
       "    .dataframe tbody tr th:only-of-type {\n",
       "        vertical-align: middle;\n",
       "    }\n",
       "\n",
       "    .dataframe tbody tr th {\n",
       "        vertical-align: top;\n",
       "    }\n",
       "\n",
       "    .dataframe thead th {\n",
       "        text-align: right;\n",
       "    }\n",
       "</style>\n",
       "<table border=\"1\" class=\"dataframe\">\n",
       "  <thead>\n",
       "    <tr style=\"text-align: right;\">\n",
       "      <th></th>\n",
       "      <th>Features</th>\n",
       "      <th>Coefficients</th>\n",
       "      <th>p-values</th>\n",
       "    </tr>\n",
       "  </thead>\n",
       "  <tbody>\n",
       "    <tr>\n",
       "      <th>0</th>\n",
       "      <td>Nseeds</td>\n",
       "      <td>0.465718</td>\n",
       "      <td>0.001</td>\n",
       "    </tr>\n",
       "    <tr>\n",
       "      <th>1</th>\n",
       "      <td>ShadowIntensity</td>\n",
       "      <td>0.340793</td>\n",
       "      <td>0.014</td>\n",
       "    </tr>\n",
       "  </tbody>\n",
       "</table>\n",
       "</div>"
      ],
      "text/plain": [
       "          Features  Coefficients  p-values\n",
       "0           Nseeds      0.465718     0.001\n",
       "1  ShadowIntensity      0.340793     0.014"
      ]
     },
     "execution_count": 29,
     "metadata": {},
     "output_type": "execute_result"
    }
   ],
   "source": [
    "# This result is identical to the one from StatsModels\n",
    "reg_summary"
   ]
  },
  {
   "cell_type": "markdown",
   "metadata": {},
   "source": []
  }
 ],
 "metadata": {
  "kernelspec": {
   "display_name": "Python 3",
   "language": "python",
   "name": "python3"
  },
  "language_info": {
   "codemirror_mode": {
    "name": "ipython",
    "version": 3
   },
   "file_extension": ".py",
   "mimetype": "text/x-python",
   "name": "python",
   "nbconvert_exporter": "python",
   "pygments_lexer": "ipython3",
   "version": "3.8.5"
  }
 },
 "nbformat": 4,
 "nbformat_minor": 2
}
