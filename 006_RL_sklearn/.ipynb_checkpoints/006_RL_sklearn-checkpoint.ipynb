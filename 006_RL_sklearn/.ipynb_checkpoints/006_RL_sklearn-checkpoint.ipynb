{
 "cells": [
  {
   "cell_type": "markdown",
   "metadata": {},
   "source": [
    "# Tutorial Python: Regressões lineares com sklearn"
   ]
  },
  {
   "cell_type": "markdown",
   "metadata": {},
   "source": [
    "Limpar memória do Python"
   ]
  },
  {
   "cell_type": "code",
   "execution_count": 1,
   "metadata": {},
   "outputs": [],
   "source": [
    "%reset -f"
   ]
  },
  {
   "cell_type": "markdown",
   "metadata": {},
   "source": [
    "## Visão geral\n",
    "### Porque usar o sklearn?\n",
    "Nos últimos tutoriais aprendemos a fazer regressões como  pandas, que é uma ferramenta muito útil no dia-dia. Mas para utilizar algoritimos de machine learning, o melhor pacote é o sklearn. O sklearn foi construido em cima de outros pracotes pré-existentes (NumPy, SciPy e matplotlin), portanto, o pacote faz uma boa integração das funções pré-existentes.\n",
    "\n",
    "### Porque o sklean é melhor que o pandas?\n",
    "* skelarn tem melhor documentação, com exemplos práticos de como aplicar as funções presentes no pacote (disponível em: https://scikit-learn.org/stable/)\n",
    "* skelarn tem maior variedade de aplicações, tais como:\n",
    "  * Regression\n",
    "  * Classification\n",
    "  * Clustering\n",
    "  * Support vector machines\n",
    "  * Dimensionality reduction\n",
    "* skelarn também é mais rápido que o pandas\n",
    "* skelarn é famoso por ser numericalmente estavel (numerical stability).Isso quer dizer que o pacote lida bem com números com uma grande variedade de escalas. Resumidamente, se você está trabalhando com machine learning, as vezes aparece um numero muito grande ou muito pequeno. Nesses casos, se o pacote que você utiliza não for bom, o seu codigo pode \"quebrar\". Exemplo, imagine que você precisa multiplicar um valor por uma dada variável, e derrepente essa variável assume um valor de 0.0000001, se você arrendar esse valor para 4 casas decimais, o valor arredondado será de zero. A partir daí, qualquer valor que multiplique o padrametro, será zero também.\n",
    "\n",
    "### Limitação do sklean\n",
    "O sklean não é o melhor pacote para deeplearning. Nesses casos os melhores pacotes são:\n",
    "* tensorflow https://www.tensorflow.org/learn\n",
    "* keras  https://keras.io/\n",
    "* PyTorch https://pytorch.org/\n",
    "\n",
    "### Diferenças de aplicação\n",
    "A maior diferença da aplicação do pandas para o sklearn é que no pandas você informa insere os dados para análise por meio de data frames enquanto no sklearn você usa arrays.\n",
    "\n",
    "\n",
    "### Variações do machine learning\n",
    "Existem 3 tipos de método de machine learning\n",
    "* Supervisionada (Supervised)\n",
    "* Não-supervisionada (Unsupervised)\n",
    "* Reforço (Reinforcement)\n",
    "\n",
    "É importante notar, que nós apenas \"vemos\" o aprendizado supervisionado. O modelo de aprendizado supervisioando contem uma ou mais variáveis preditoras (inputs) e uma variável resposta (output). "
   ]
  },
  {
   "cell_type": "markdown",
   "metadata": {},
   "source": [
    "## Carregar pacotes necessário "
   ]
  },
  {
   "cell_type": "code",
   "execution_count": 2,
   "metadata": {},
   "outputs": [],
   "source": [
    "# Como foi dito anteriormente, o sklearn foi construido em cima dos pacotes: NumPy, pandas, matplotlib and seaborn. Portanto vamos carregar esses pacotes\n",
    "import numpy as np\n",
    "import pandas as pd\n",
    "import matplotlib.pyplot as plt\n",
    "# Adicionalmente, vamos carregar o seaborn para gerar gráficos interessantes para ilustrar esse tutorial\n",
    "import seaborn as sns\n",
    "sns.set()\n",
    "\n",
    "# Para completar, para aplicarmos nosso primeiro modelo a ser aplicado em  machine learning, vamos carregar o sklearn\n",
    "from sklearn.linear_model import LinearRegression # O modulo LinearRegression vai trazer todas as ferramentas que vamos precisar para fazer nossos primeiros modelos de regressão linear no sklearn"
   ]
  },
  {
   "cell_type": "markdown",
   "metadata": {},
   "source": [
    "## Carregue o banco de dados\n",
    "Aqui usaremos o conjunto de dados publicado por Biagolini-Jr. et al 2021 https://doi.org/10.1007/s00265-021-03015-2. Esse conjunto de dados consiste em dados de filmagem de display de Tiziu registradas em Brasília/DF, coletadas em duas áreas.\n",
    "\n",
    "Carregar os dados seguindo o mesmo procedimento usado nos outros tutoriais:"
   ]
  },
  {
   "cell_type": "code",
   "execution_count": 3,
   "metadata": {
    "scrolled": false
   },
   "outputs": [
    {
     "data": {
      "text/html": [
       "<div>\n",
       "<style scoped>\n",
       "    .dataframe tbody tr th:only-of-type {\n",
       "        vertical-align: middle;\n",
       "    }\n",
       "\n",
       "    .dataframe tbody tr th {\n",
       "        vertical-align: top;\n",
       "    }\n",
       "\n",
       "    .dataframe thead th {\n",
       "        text-align: right;\n",
       "    }\n",
       "</style>\n",
       "<table border=\"1\" class=\"dataframe\">\n",
       "  <thead>\n",
       "    <tr style=\"text-align: right;\">\n",
       "      <th></th>\n",
       "      <th>DisplayId</th>\n",
       "      <th>Location</th>\n",
       "      <th>nLeaps</th>\n",
       "      <th>LeapDuration</th>\n",
       "      <th>LeapRate</th>\n",
       "      <th>Nseeds</th>\n",
       "      <th>ShadowIntensity</th>\n",
       "      <th>VegetationDensity</th>\n",
       "      <th>Disturbance</th>\n",
       "      <th>Truck</th>\n",
       "      <th>...</th>\n",
       "      <th>LakeDistance</th>\n",
       "      <th>DawnTime</th>\n",
       "      <th>DayYear</th>\n",
       "      <th>Nest20</th>\n",
       "      <th>Nest10</th>\n",
       "      <th>RecordTime</th>\n",
       "      <th>RecordDate</th>\n",
       "      <th>BreedingSeason</th>\n",
       "      <th>Longitude</th>\n",
       "      <th>Latitude</th>\n",
       "    </tr>\n",
       "  </thead>\n",
       "  <tbody>\n",
       "    <tr>\n",
       "      <th>0</th>\n",
       "      <td>D01</td>\n",
       "      <td>ar</td>\n",
       "      <td>18</td>\n",
       "      <td>683.777778</td>\n",
       "      <td>14.826012</td>\n",
       "      <td>2329.680000</td>\n",
       "      <td>2.179201</td>\n",
       "      <td>0.211558</td>\n",
       "      <td>0</td>\n",
       "      <td>0</td>\n",
       "      <td>...</td>\n",
       "      <td>576.506757</td>\n",
       "      <td>0.9411</td>\n",
       "      <td>30</td>\n",
       "      <td>No</td>\n",
       "      <td>No</td>\n",
       "      <td>06:36:00</td>\n",
       "      <td>2018-01-31</td>\n",
       "      <td>2017_2018</td>\n",
       "      <td>-47.872075</td>\n",
       "      <td>-15.755073</td>\n",
       "    </tr>\n",
       "    <tr>\n",
       "      <th>1</th>\n",
       "      <td>D02</td>\n",
       "      <td>ar</td>\n",
       "      <td>17</td>\n",
       "      <td>440.176471</td>\n",
       "      <td>16.131743</td>\n",
       "      <td>506.400000</td>\n",
       "      <td>0.407589</td>\n",
       "      <td>0.184022</td>\n",
       "      <td>0</td>\n",
       "      <td>0</td>\n",
       "      <td>...</td>\n",
       "      <td>631.899508</td>\n",
       "      <td>1.5911</td>\n",
       "      <td>30</td>\n",
       "      <td>No</td>\n",
       "      <td>No</td>\n",
       "      <td>07:15:00</td>\n",
       "      <td>2018-01-31</td>\n",
       "      <td>2017_2018</td>\n",
       "      <td>-47.872535</td>\n",
       "      <td>-15.755306</td>\n",
       "    </tr>\n",
       "    <tr>\n",
       "      <th>2</th>\n",
       "      <td>D03</td>\n",
       "      <td>ar</td>\n",
       "      <td>16</td>\n",
       "      <td>372.375000</td>\n",
       "      <td>17.113520</td>\n",
       "      <td>435.600000</td>\n",
       "      <td>1.352319</td>\n",
       "      <td>0.092675</td>\n",
       "      <td>0</td>\n",
       "      <td>0</td>\n",
       "      <td>...</td>\n",
       "      <td>568.246695</td>\n",
       "      <td>2.3411</td>\n",
       "      <td>30</td>\n",
       "      <td>No</td>\n",
       "      <td>No</td>\n",
       "      <td>08:00:00</td>\n",
       "      <td>2018-01-31</td>\n",
       "      <td>2017_2018</td>\n",
       "      <td>-47.872656</td>\n",
       "      <td>-15.754348</td>\n",
       "    </tr>\n",
       "    <tr>\n",
       "      <th>3</th>\n",
       "      <td>D04</td>\n",
       "      <td>co</td>\n",
       "      <td>18</td>\n",
       "      <td>510.111111</td>\n",
       "      <td>19.144863</td>\n",
       "      <td>950.733333</td>\n",
       "      <td>1.612304</td>\n",
       "      <td>0.268500</td>\n",
       "      <td>0</td>\n",
       "      <td>0</td>\n",
       "      <td>...</td>\n",
       "      <td>246.435504</td>\n",
       "      <td>1.3769</td>\n",
       "      <td>18</td>\n",
       "      <td>No</td>\n",
       "      <td>No</td>\n",
       "      <td>06:55:00</td>\n",
       "      <td>2018-01-19</td>\n",
       "      <td>2017_2018</td>\n",
       "      <td>-47.856289</td>\n",
       "      <td>-15.761616</td>\n",
       "    </tr>\n",
       "    <tr>\n",
       "      <th>4</th>\n",
       "      <td>D05</td>\n",
       "      <td>co</td>\n",
       "      <td>14</td>\n",
       "      <td>432.000000</td>\n",
       "      <td>15.084536</td>\n",
       "      <td>842.940000</td>\n",
       "      <td>0.504573</td>\n",
       "      <td>0.301722</td>\n",
       "      <td>0</td>\n",
       "      <td>0</td>\n",
       "      <td>...</td>\n",
       "      <td>231.269427</td>\n",
       "      <td>1.5103</td>\n",
       "      <td>18</td>\n",
       "      <td>No</td>\n",
       "      <td>No</td>\n",
       "      <td>07:03:00</td>\n",
       "      <td>2018-01-19</td>\n",
       "      <td>2017_2018</td>\n",
       "      <td>-47.856148</td>\n",
       "      <td>-15.761477</td>\n",
       "    </tr>\n",
       "  </tbody>\n",
       "</table>\n",
       "<p>5 rows × 25 columns</p>\n",
       "</div>"
      ],
      "text/plain": [
       "  DisplayId Location  nLeaps  LeapDuration   LeapRate       Nseeds  \\\n",
       "0       D01       ar      18    683.777778  14.826012  2329.680000   \n",
       "1       D02       ar      17    440.176471  16.131743   506.400000   \n",
       "2       D03       ar      16    372.375000  17.113520   435.600000   \n",
       "3       D04       co      18    510.111111  19.144863   950.733333   \n",
       "4       D05       co      14    432.000000  15.084536   842.940000   \n",
       "\n",
       "   ShadowIntensity  VegetationDensity  Disturbance  Truck  ...  LakeDistance  \\\n",
       "0         2.179201           0.211558            0      0  ...    576.506757   \n",
       "1         0.407589           0.184022            0      0  ...    631.899508   \n",
       "2         1.352319           0.092675            0      0  ...    568.246695   \n",
       "3         1.612304           0.268500            0      0  ...    246.435504   \n",
       "4         0.504573           0.301722            0      0  ...    231.269427   \n",
       "\n",
       "   DawnTime DayYear  Nest20  Nest10  RecordTime  RecordDate  BreedingSeason  \\\n",
       "0    0.9411      30      No      No    06:36:00  2018-01-31       2017_2018   \n",
       "1    1.5911      30      No      No    07:15:00  2018-01-31       2017_2018   \n",
       "2    2.3411      30      No      No    08:00:00  2018-01-31       2017_2018   \n",
       "3    1.3769      18      No      No    06:55:00  2018-01-19       2017_2018   \n",
       "4    1.5103      18      No      No    07:03:00  2018-01-19       2017_2018   \n",
       "\n",
       "   Longitude   Latitude  \n",
       "0 -47.872075 -15.755073  \n",
       "1 -47.872535 -15.755306  \n",
       "2 -47.872656 -15.754348  \n",
       "3 -47.856289 -15.761616  \n",
       "4 -47.856148 -15.761477  \n",
       "\n",
       "[5 rows x 25 columns]"
      ]
     },
     "execution_count": 3,
     "metadata": {},
     "output_type": "execute_result"
    }
   ],
   "source": [
    "dados = pd.read_excel('Dados_Biagolini-Jr_et_al_2021.xlsx')\n",
    "nonPAD = dados[dados[\"Disturbance\"] == 0]\n",
    "nonPAD.head()"
   ]
  },
  {
   "cell_type": "markdown",
   "metadata": {},
   "source": [
    "Veja a descrição geral do novo conjunto de dados"
   ]
  },
  {
   "cell_type": "code",
   "execution_count": 4,
   "metadata": {},
   "outputs": [
    {
     "data": {
      "text/html": [
       "<div>\n",
       "<style scoped>\n",
       "    .dataframe tbody tr th:only-of-type {\n",
       "        vertical-align: middle;\n",
       "    }\n",
       "\n",
       "    .dataframe tbody tr th {\n",
       "        vertical-align: top;\n",
       "    }\n",
       "\n",
       "    .dataframe thead th {\n",
       "        text-align: right;\n",
       "    }\n",
       "</style>\n",
       "<table border=\"1\" class=\"dataframe\">\n",
       "  <thead>\n",
       "    <tr style=\"text-align: right;\">\n",
       "      <th></th>\n",
       "      <th>nLeaps</th>\n",
       "      <th>LeapDuration</th>\n",
       "      <th>LeapRate</th>\n",
       "      <th>Nseeds</th>\n",
       "      <th>ShadowIntensity</th>\n",
       "      <th>VegetationDensity</th>\n",
       "      <th>Disturbance</th>\n",
       "      <th>Truck</th>\n",
       "      <th>Fire</th>\n",
       "      <th>Mower</th>\n",
       "      <th>BorderDistance</th>\n",
       "      <th>RoadDistance</th>\n",
       "      <th>LakeDistance</th>\n",
       "      <th>DawnTime</th>\n",
       "      <th>DayYear</th>\n",
       "      <th>Longitude</th>\n",
       "      <th>Latitude</th>\n",
       "    </tr>\n",
       "  </thead>\n",
       "  <tbody>\n",
       "    <tr>\n",
       "      <th>count</th>\n",
       "      <td>39.000000</td>\n",
       "      <td>39.000000</td>\n",
       "      <td>39.000000</td>\n",
       "      <td>39.000000</td>\n",
       "      <td>39.000000</td>\n",
       "      <td>39.000000</td>\n",
       "      <td>39.0</td>\n",
       "      <td>39.000000</td>\n",
       "      <td>39.000000</td>\n",
       "      <td>39.000000</td>\n",
       "      <td>39.000000</td>\n",
       "      <td>39.000000</td>\n",
       "      <td>39.000000</td>\n",
       "      <td>39.000000</td>\n",
       "      <td>39.000000</td>\n",
       "      <td>39.000000</td>\n",
       "      <td>39.000000</td>\n",
       "    </tr>\n",
       "    <tr>\n",
       "      <th>mean</th>\n",
       "      <td>19.589744</td>\n",
       "      <td>464.049740</td>\n",
       "      <td>14.121309</td>\n",
       "      <td>497.740071</td>\n",
       "      <td>1.768495</td>\n",
       "      <td>0.334628</td>\n",
       "      <td>0.0</td>\n",
       "      <td>0.025641</td>\n",
       "      <td>0.153846</td>\n",
       "      <td>0.179487</td>\n",
       "      <td>86.085695</td>\n",
       "      <td>232.430726</td>\n",
       "      <td>409.479839</td>\n",
       "      <td>2.621797</td>\n",
       "      <td>52.461538</td>\n",
       "      <td>-47.866115</td>\n",
       "      <td>-15.757153</td>\n",
       "    </tr>\n",
       "    <tr>\n",
       "      <th>std</th>\n",
       "      <td>8.349970</td>\n",
       "      <td>69.785181</td>\n",
       "      <td>2.805358</td>\n",
       "      <td>438.218596</td>\n",
       "      <td>1.095031</td>\n",
       "      <td>0.108133</td>\n",
       "      <td>0.0</td>\n",
       "      <td>0.160128</td>\n",
       "      <td>0.365518</td>\n",
       "      <td>0.388776</td>\n",
       "      <td>45.235166</td>\n",
       "      <td>144.164528</td>\n",
       "      <td>229.672620</td>\n",
       "      <td>1.348704</td>\n",
       "      <td>19.005326</td>\n",
       "      <td>0.008630</td>\n",
       "      <td>0.003812</td>\n",
       "    </tr>\n",
       "    <tr>\n",
       "      <th>min</th>\n",
       "      <td>11.000000</td>\n",
       "      <td>318.772727</td>\n",
       "      <td>7.320644</td>\n",
       "      <td>0.000000</td>\n",
       "      <td>0.256048</td>\n",
       "      <td>0.092675</td>\n",
       "      <td>0.0</td>\n",
       "      <td>0.000000</td>\n",
       "      <td>0.000000</td>\n",
       "      <td>0.000000</td>\n",
       "      <td>7.988528</td>\n",
       "      <td>29.696078</td>\n",
       "      <td>11.245272</td>\n",
       "      <td>0.798100</td>\n",
       "      <td>18.000000</td>\n",
       "      <td>-47.874406</td>\n",
       "      <td>-15.764221</td>\n",
       "    </tr>\n",
       "    <tr>\n",
       "      <th>25%</th>\n",
       "      <td>15.000000</td>\n",
       "      <td>415.995215</td>\n",
       "      <td>12.401862</td>\n",
       "      <td>266.130000</td>\n",
       "      <td>0.926267</td>\n",
       "      <td>0.262368</td>\n",
       "      <td>0.0</td>\n",
       "      <td>0.000000</td>\n",
       "      <td>0.000000</td>\n",
       "      <td>0.000000</td>\n",
       "      <td>48.870137</td>\n",
       "      <td>122.838805</td>\n",
       "      <td>185.780428</td>\n",
       "      <td>1.527200</td>\n",
       "      <td>33.500000</td>\n",
       "      <td>-47.873101</td>\n",
       "      <td>-15.760967</td>\n",
       "    </tr>\n",
       "    <tr>\n",
       "      <th>50%</th>\n",
       "      <td>18.000000</td>\n",
       "      <td>450.905660</td>\n",
       "      <td>14.826012</td>\n",
       "      <td>375.240000</td>\n",
       "      <td>1.581984</td>\n",
       "      <td>0.347358</td>\n",
       "      <td>0.0</td>\n",
       "      <td>0.000000</td>\n",
       "      <td>0.000000</td>\n",
       "      <td>0.000000</td>\n",
       "      <td>96.152144</td>\n",
       "      <td>166.642358</td>\n",
       "      <td>545.096972</td>\n",
       "      <td>2.072500</td>\n",
       "      <td>59.000000</td>\n",
       "      <td>-47.872535</td>\n",
       "      <td>-15.755073</td>\n",
       "    </tr>\n",
       "    <tr>\n",
       "      <th>75%</th>\n",
       "      <td>22.000000</td>\n",
       "      <td>507.149306</td>\n",
       "      <td>16.001096</td>\n",
       "      <td>628.320000</td>\n",
       "      <td>2.519705</td>\n",
       "      <td>0.408062</td>\n",
       "      <td>0.0</td>\n",
       "      <td>0.000000</td>\n",
       "      <td>0.000000</td>\n",
       "      <td>0.000000</td>\n",
       "      <td>116.770096</td>\n",
       "      <td>376.626299</td>\n",
       "      <td>594.312593</td>\n",
       "      <td>3.832500</td>\n",
       "      <td>64.000000</td>\n",
       "      <td>-47.857048</td>\n",
       "      <td>-15.754148</td>\n",
       "    </tr>\n",
       "    <tr>\n",
       "      <th>max</th>\n",
       "      <td>53.000000</td>\n",
       "      <td>683.777778</td>\n",
       "      <td>19.144863</td>\n",
       "      <td>2329.680000</td>\n",
       "      <td>4.781968</td>\n",
       "      <td>0.604560</td>\n",
       "      <td>0.0</td>\n",
       "      <td>1.000000</td>\n",
       "      <td>1.000000</td>\n",
       "      <td>1.000000</td>\n",
       "      <td>160.362508</td>\n",
       "      <td>476.253447</td>\n",
       "      <td>715.202997</td>\n",
       "      <td>5.643300</td>\n",
       "      <td>78.000000</td>\n",
       "      <td>-47.852807</td>\n",
       "      <td>-15.752316</td>\n",
       "    </tr>\n",
       "  </tbody>\n",
       "</table>\n",
       "</div>"
      ],
      "text/plain": [
       "          nLeaps  LeapDuration   LeapRate       Nseeds  ShadowIntensity  \\\n",
       "count  39.000000     39.000000  39.000000    39.000000        39.000000   \n",
       "mean   19.589744    464.049740  14.121309   497.740071         1.768495   \n",
       "std     8.349970     69.785181   2.805358   438.218596         1.095031   \n",
       "min    11.000000    318.772727   7.320644     0.000000         0.256048   \n",
       "25%    15.000000    415.995215  12.401862   266.130000         0.926267   \n",
       "50%    18.000000    450.905660  14.826012   375.240000         1.581984   \n",
       "75%    22.000000    507.149306  16.001096   628.320000         2.519705   \n",
       "max    53.000000    683.777778  19.144863  2329.680000         4.781968   \n",
       "\n",
       "       VegetationDensity  Disturbance      Truck       Fire      Mower  \\\n",
       "count          39.000000         39.0  39.000000  39.000000  39.000000   \n",
       "mean            0.334628          0.0   0.025641   0.153846   0.179487   \n",
       "std             0.108133          0.0   0.160128   0.365518   0.388776   \n",
       "min             0.092675          0.0   0.000000   0.000000   0.000000   \n",
       "25%             0.262368          0.0   0.000000   0.000000   0.000000   \n",
       "50%             0.347358          0.0   0.000000   0.000000   0.000000   \n",
       "75%             0.408062          0.0   0.000000   0.000000   0.000000   \n",
       "max             0.604560          0.0   1.000000   1.000000   1.000000   \n",
       "\n",
       "       BorderDistance  RoadDistance  LakeDistance   DawnTime    DayYear  \\\n",
       "count       39.000000     39.000000     39.000000  39.000000  39.000000   \n",
       "mean        86.085695    232.430726    409.479839   2.621797  52.461538   \n",
       "std         45.235166    144.164528    229.672620   1.348704  19.005326   \n",
       "min          7.988528     29.696078     11.245272   0.798100  18.000000   \n",
       "25%         48.870137    122.838805    185.780428   1.527200  33.500000   \n",
       "50%         96.152144    166.642358    545.096972   2.072500  59.000000   \n",
       "75%        116.770096    376.626299    594.312593   3.832500  64.000000   \n",
       "max        160.362508    476.253447    715.202997   5.643300  78.000000   \n",
       "\n",
       "       Longitude   Latitude  \n",
       "count  39.000000  39.000000  \n",
       "mean  -47.866115 -15.757153  \n",
       "std     0.008630   0.003812  \n",
       "min   -47.874406 -15.764221  \n",
       "25%   -47.873101 -15.760967  \n",
       "50%   -47.872535 -15.755073  \n",
       "75%   -47.857048 -15.754148  \n",
       "max   -47.852807 -15.752316  "
      ]
     },
     "execution_count": 4,
     "metadata": {},
     "output_type": "execute_result"
    }
   ],
   "source": [
    "nonPAD.describe()"
   ]
  },
  {
   "cell_type": "markdown",
   "metadata": {},
   "source": [
    "Definir suas variáveis dependente e intependente"
   ]
  },
  {
   "cell_type": "code",
   "execution_count": 5,
   "metadata": {},
   "outputs": [],
   "source": [
    "# Variável independente (= independente variable input = feature)\n",
    "x = nonPAD ['DawnTime'] # Taxa de saltos (numero de saltos/minuto)\n",
    "# Variável dependente (= dependente variable output = target)\n",
    "y = nonPAD ['LeapRate'] # Horário relativo da gravação (quantas horas se passaram desde o alvorecer"
   ]
  },
  {
   "cell_type": "markdown",
   "metadata": {},
   "source": [
    "O sklearn lida apenas com matrizes, portanto temos que redimencionar o objeto para ele se tornar uma matriz. Nesse tutorial é necessário fazer esse ajuste, porque temos apenas 1 variável preditora. Os programadores que desenvolveram o sklearn previram que os usuários iriam na maior parte das vezes usar o programa com diversas variáveis preditoras. Por isso, mais a frente, quando formos fazer modelos mais complexos, não precisaremos nos preocupar com isso."
   ]
  },
  {
   "cell_type": "code",
   "execution_count": 6,
   "metadata": {
    "scrolled": true
   },
   "outputs": [
    {
     "data": {
      "text/plain": [
       "(39, 1)"
      ]
     },
     "execution_count": 6,
     "metadata": {},
     "output_type": "execute_result"
    }
   ],
   "source": [
    "x_matrix = x.values.reshape(-1,1) # Codigo para redmencionar o objeto como uma matriz\n",
    "x_matrix.shape # Esse codigo vai mostrar quantas (linhas, Colunas) sua matriz tem:"
   ]
  },
  {
   "cell_type": "markdown",
   "metadata": {},
   "source": [
    "## Regressão linear\n",
    "\n",
    "Vamos agora rodar o modelo de regressão propriamente dito"
   ]
  },
  {
   "cell_type": "code",
   "execution_count": 7,
   "metadata": {},
   "outputs": [
    {
     "data": {
      "text/plain": [
       "sklearn.linear_model._base.LinearRegression"
      ]
     },
     "execution_count": 7,
     "metadata": {},
     "output_type": "execute_result"
    }
   ],
   "source": [
    "reg = LinearRegression(fit_intercept=True, normalize=False, copy_X=True, n_jobs=1) # Esse codigo irá criar um objeto chamado reg, que vai estar vazio, mas é definido como LinearRegression class\n",
    "type(reg) # veja"
   ]
  },
  {
   "cell_type": "markdown",
   "metadata": {},
   "source": [
    "Os parametros da função LinearRegression, são:\n",
    "* fit_intercept = Informa ao algoritmos que ele deve calcular um valor de intercept0 (que seria o B0 no nosso exemplo)\n",
    "* normalize = Faz a padronização automaticamente do nosso conjunto de dados\n",
    "* copy_X = Se verdadeiro, o sklearn faz uma copia de x antes de fazer a normalização, de forma a não correr risco de mudar a estrutura do x original\n",
    "* n_jobs = número de CPU que devem ser usadas para essa analise. Se for definido como \"None\" o pacote vai operar da mesma forma que se tivesse sido definido \"=1\". Ou seja, vai rodar o codigo em só 1 CPU."
   ]
  },
  {
   "cell_type": "code",
   "execution_count": 8,
   "metadata": {},
   "outputs": [
    {
     "data": {
      "text/plain": [
       "LinearRegression(n_jobs=1)"
      ]
     },
     "execution_count": 8,
     "metadata": {},
     "output_type": "execute_result"
    }
   ],
   "source": [
    "reg.fit(x_matrix,y) # Codigo para ajustar a regressão, onde a primeira variável representa os inputs, e a segunda o target."
   ]
  },
  {
   "cell_type": "markdown",
   "metadata": {},
   "source": [
    "### R-quadrado"
   ]
  },
  {
   "cell_type": "code",
   "execution_count": 9,
   "metadata": {},
   "outputs": [
    {
     "data": {
      "text/plain": [
       "0.1890094854158213"
      ]
     },
     "execution_count": 9,
     "metadata": {},
     "output_type": "execute_result"
    }
   ],
   "source": [
    "reg.score(x_matrix,y)"
   ]
  },
  {
   "cell_type": "markdown",
   "metadata": {},
   "source": [
    "### Coeficientes"
   ]
  },
  {
   "cell_type": "code",
   "execution_count": 10,
   "metadata": {},
   "outputs": [
    {
     "data": {
      "text/plain": [
       "array([-0.904302])"
      ]
     },
     "execution_count": 10,
     "metadata": {},
     "output_type": "execute_result"
    }
   ],
   "source": [
    "reg.coef_"
   ]
  },
  {
   "cell_type": "markdown",
   "metadata": {},
   "source": [
    "### Intercepto"
   ]
  },
  {
   "cell_type": "code",
   "execution_count": 11,
   "metadata": {},
   "outputs": [
    {
     "data": {
      "text/plain": [
       "16.492205459027897"
      ]
     },
     "execution_count": 11,
     "metadata": {},
     "output_type": "execute_result"
    }
   ],
   "source": [
    "reg.intercept_"
   ]
  },
  {
   "cell_type": "markdown",
   "metadata": {},
   "source": [
    "### Fazer previsões\n",
    "Peveja qual é a distância até a rodovida de um poleiro que está a 50 m da borda"
   ]
  },
  {
   "cell_type": "code",
   "execution_count": 12,
   "metadata": {
    "scrolled": true
   },
   "outputs": [
    {
     "data": {
      "text/html": [
       "<div>\n",
       "<style scoped>\n",
       "    .dataframe tbody tr th:only-of-type {\n",
       "        vertical-align: middle;\n",
       "    }\n",
       "\n",
       "    .dataframe tbody tr th {\n",
       "        vertical-align: top;\n",
       "    }\n",
       "\n",
       "    .dataframe thead th {\n",
       "        text-align: right;\n",
       "    }\n",
       "</style>\n",
       "<table border=\"1\" class=\"dataframe\">\n",
       "  <thead>\n",
       "    <tr style=\"text-align: right;\">\n",
       "      <th></th>\n",
       "      <th>DawnTime</th>\n",
       "    </tr>\n",
       "  </thead>\n",
       "  <tbody>\n",
       "    <tr>\n",
       "      <th>0</th>\n",
       "      <td>0.5</td>\n",
       "    </tr>\n",
       "    <tr>\n",
       "      <th>1</th>\n",
       "      <td>1.0</td>\n",
       "    </tr>\n",
       "    <tr>\n",
       "      <th>2</th>\n",
       "      <td>1.5</td>\n",
       "    </tr>\n",
       "  </tbody>\n",
       "</table>\n",
       "</div>"
      ],
      "text/plain": [
       "   DawnTime\n",
       "0       0.5\n",
       "1       1.0\n",
       "2       1.5"
      ]
     },
     "execution_count": 12,
     "metadata": {},
     "output_type": "execute_result"
    }
   ],
   "source": [
    "new_data = pd.DataFrame(data=[.5,1,1.5],columns=['DawnTime']) # Crie o conjunto de dados que você deseja prever\n",
    "new_data"
   ]
  },
  {
   "cell_type": "markdown",
   "metadata": {},
   "source": [
    "Para sistematizar a criação de um numero de valores maiores, veja o codigo a seguir"
   ]
  },
  {
   "cell_type": "code",
   "execution_count": 13,
   "metadata": {},
   "outputs": [
    {
     "data": {
      "text/html": [
       "<div>\n",
       "<style scoped>\n",
       "    .dataframe tbody tr th:only-of-type {\n",
       "        vertical-align: middle;\n",
       "    }\n",
       "\n",
       "    .dataframe tbody tr th {\n",
       "        vertical-align: top;\n",
       "    }\n",
       "\n",
       "    .dataframe thead th {\n",
       "        text-align: right;\n",
       "    }\n",
       "</style>\n",
       "<table border=\"1\" class=\"dataframe\">\n",
       "  <thead>\n",
       "    <tr style=\"text-align: right;\">\n",
       "      <th></th>\n",
       "      <th>DawnTime</th>\n",
       "    </tr>\n",
       "  </thead>\n",
       "  <tbody>\n",
       "    <tr>\n",
       "      <th>0</th>\n",
       "      <td>0.5</td>\n",
       "    </tr>\n",
       "    <tr>\n",
       "      <th>1</th>\n",
       "      <td>1.0</td>\n",
       "    </tr>\n",
       "    <tr>\n",
       "      <th>2</th>\n",
       "      <td>1.5</td>\n",
       "    </tr>\n",
       "    <tr>\n",
       "      <th>3</th>\n",
       "      <td>2.0</td>\n",
       "    </tr>\n",
       "    <tr>\n",
       "      <th>4</th>\n",
       "      <td>2.5</td>\n",
       "    </tr>\n",
       "    <tr>\n",
       "      <th>5</th>\n",
       "      <td>3.0</td>\n",
       "    </tr>\n",
       "    <tr>\n",
       "      <th>6</th>\n",
       "      <td>3.5</td>\n",
       "    </tr>\n",
       "    <tr>\n",
       "      <th>7</th>\n",
       "      <td>4.0</td>\n",
       "    </tr>\n",
       "    <tr>\n",
       "      <th>8</th>\n",
       "      <td>4.5</td>\n",
       "    </tr>\n",
       "    <tr>\n",
       "      <th>9</th>\n",
       "      <td>5.0</td>\n",
       "    </tr>\n",
       "  </tbody>\n",
       "</table>\n",
       "</div>"
      ],
      "text/plain": [
       "   DawnTime\n",
       "0       0.5\n",
       "1       1.0\n",
       "2       1.5\n",
       "3       2.0\n",
       "4       2.5\n",
       "5       3.0\n",
       "6       3.5\n",
       "7       4.0\n",
       "8       4.5\n",
       "9       5.0"
      ]
     },
     "execution_count": 13,
     "metadata": {},
     "output_type": "execute_result"
    }
   ],
   "source": [
    "new_data = pd.DataFrame(data=np.arange(0.5, 5.5, 0.5),columns=['DawnTime']) # Crie o conjunto de dados que você deseja prever\n",
    "new_data"
   ]
  },
  {
   "cell_type": "code",
   "execution_count": 14,
   "metadata": {
    "scrolled": false
   },
   "outputs": [
    {
     "data": {
      "text/plain": [
       "array([16.04005446, 15.58790345, 15.13575245, 14.68360145, 14.23145045,\n",
       "       13.77929944, 13.32714844, 12.87499744, 12.42284644, 11.97069543])"
      ]
     },
     "execution_count": 14,
     "metadata": {},
     "output_type": "execute_result"
    }
   ],
   "source": [
    "reg.predict(new_data) # Código para previsão dos valores"
   ]
  },
  {
   "cell_type": "markdown",
   "metadata": {},
   "source": [
    "Para criar um data frame com relação de valores previstos, faça:"
   ]
  },
  {
   "cell_type": "code",
   "execution_count": 15,
   "metadata": {},
   "outputs": [
    {
     "data": {
      "text/html": [
       "<div>\n",
       "<style scoped>\n",
       "    .dataframe tbody tr th:only-of-type {\n",
       "        vertical-align: middle;\n",
       "    }\n",
       "\n",
       "    .dataframe tbody tr th {\n",
       "        vertical-align: top;\n",
       "    }\n",
       "\n",
       "    .dataframe thead th {\n",
       "        text-align: right;\n",
       "    }\n",
       "</style>\n",
       "<table border=\"1\" class=\"dataframe\">\n",
       "  <thead>\n",
       "    <tr style=\"text-align: right;\">\n",
       "      <th></th>\n",
       "      <th>DawnTime</th>\n",
       "      <th>Predicted_LeapRate</th>\n",
       "    </tr>\n",
       "  </thead>\n",
       "  <tbody>\n",
       "    <tr>\n",
       "      <th>0</th>\n",
       "      <td>0.5</td>\n",
       "      <td>16.040054</td>\n",
       "    </tr>\n",
       "    <tr>\n",
       "      <th>1</th>\n",
       "      <td>1.0</td>\n",
       "      <td>15.587903</td>\n",
       "    </tr>\n",
       "    <tr>\n",
       "      <th>2</th>\n",
       "      <td>1.5</td>\n",
       "      <td>15.135752</td>\n",
       "    </tr>\n",
       "    <tr>\n",
       "      <th>3</th>\n",
       "      <td>2.0</td>\n",
       "      <td>14.683601</td>\n",
       "    </tr>\n",
       "    <tr>\n",
       "      <th>4</th>\n",
       "      <td>2.5</td>\n",
       "      <td>14.231450</td>\n",
       "    </tr>\n",
       "    <tr>\n",
       "      <th>5</th>\n",
       "      <td>3.0</td>\n",
       "      <td>13.779299</td>\n",
       "    </tr>\n",
       "    <tr>\n",
       "      <th>6</th>\n",
       "      <td>3.5</td>\n",
       "      <td>13.327148</td>\n",
       "    </tr>\n",
       "    <tr>\n",
       "      <th>7</th>\n",
       "      <td>4.0</td>\n",
       "      <td>12.874997</td>\n",
       "    </tr>\n",
       "    <tr>\n",
       "      <th>8</th>\n",
       "      <td>4.5</td>\n",
       "      <td>12.422846</td>\n",
       "    </tr>\n",
       "    <tr>\n",
       "      <th>9</th>\n",
       "      <td>5.0</td>\n",
       "      <td>11.970695</td>\n",
       "    </tr>\n",
       "  </tbody>\n",
       "</table>\n",
       "</div>"
      ],
      "text/plain": [
       "   DawnTime  Predicted_LeapRate\n",
       "0       0.5           16.040054\n",
       "1       1.0           15.587903\n",
       "2       1.5           15.135752\n",
       "3       2.0           14.683601\n",
       "4       2.5           14.231450\n",
       "5       3.0           13.779299\n",
       "6       3.5           13.327148\n",
       "7       4.0           12.874997\n",
       "8       4.5           12.422846\n",
       "9       5.0           11.970695"
      ]
     },
     "execution_count": 15,
     "metadata": {},
     "output_type": "execute_result"
    }
   ],
   "source": [
    "new_data['Predicted_LeapRate'] = reg.predict(new_data)\n",
    "new_data"
   ]
  },
  {
   "cell_type": "markdown",
   "metadata": {},
   "source": [
    "###  Plotar as relações observadas\n",
    "Como nossos plots são feitos pelo pacote seaborn, nada muda em relação ao nosso outro tutorial"
   ]
  },
  {
   "cell_type": "code",
   "execution_count": 16,
   "metadata": {},
   "outputs": [
    {
     "data": {
      "image/png": "[encoded data removed]",
      "text/plain": [
       "<Figure size 432x288 with 1 Axes>"
      ]
     },
     "metadata": {},
     "output_type": "display_data"
    }
   ],
   "source": [
    "plt.scatter(x,y) # Fazer o plot\n",
    "yhat = reg.coef_*x_matrix + reg.intercept_  # Reta de regressão \n",
    "fig = plt.plot(x,yhat, lw=4, c='orange', label ='regression line') # Inserir a reta de regressão no gráfico\n",
    "plt.xlabel('Standardized time since dawn', fontsize = 20) # Renomear eixo x\n",
    "plt.ylabel('Standardized leap rate', fontsize = 20) # Renomear eixo y\n",
    "plt.show() # Mostrar o plot"
   ]
  },
  {
   "cell_type": "code",
   "execution_count": null,
   "metadata": {},
   "outputs": [],
   "source": []
  }
 ],
 "metadata": {
  "kernelspec": {
   "display_name": "Python 3 (ipykernel)",
   "language": "python",
   "name": "python3"
  },
  "language_info": {
   "codemirror_mode": {
    "name": "ipython",
    "version": 3
   },
   "file_extension": ".py",
   "mimetype": "text/x-python",
   "name": "python",
   "nbconvert_exporter": "python",
   "pygments_lexer": "ipython3",
   "version": "3.9.7"
  }
 },
 "nbformat": 4,
 "nbformat_minor": 2
}
